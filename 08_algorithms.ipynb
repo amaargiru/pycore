{
 "cells": [
  {
   "attachments": {},
   "cell_type": "markdown",
   "metadata": {},
   "source": [
    "## 8. Алгоритмы \n",
    "\n",
    "![Algorithms](https://raw.githubusercontent.com/amaargiru/pycore/main/pics/08_Algorithms.png)  "
   ]
  },
  {
   "cell_type": "markdown",
   "metadata": {},
   "source": [
    "FizzBuzz\n",
    "\n",
    "Массивы (Array):  \n",
    "• Sliding window  \n",
    "• Two pointers  \n",
    "• Traversing from the right  \n",
    "• Precomputation  \n",
    "• Index as a hash key  \n",
    "• Traversing the array more than once\n",
    "\n",
    "Строки (String):  \n",
    "• Common string algorithms:  \n",
    "• • Rabin Karp for efficient searching of substring using a rolling hash  \n",
    "• • KMP for efficient searching of substring\n",
    "\n",
    "Матрицы (двумерные массивы) (Matrix)\n",
    "\n",
    "Связные списки (Linked List):  \n",
    "• Sentinel/dummy nodes  \n",
    "• Two pointers  \n",
    "• Using space  \n",
    "• Elegant modification operations\n",
    "\n",
    "Деревья и графы:  \n",
    "• Бинарные деревья (binary tree)  \n",
    "• Бинарные деревья поиска (BST):  \n",
    "• • Use recursion  \n",
    "• • Traversing by level  \n",
    "• • Summation of nodes  \n",
    "• Графы:  \n",
    "• • BFS  \n",
    "• • DFS  \n",
    "• Дейкстра  \n",
    "• • Флойд-Warshall  \n",
    "• • Topological sorting  \n",
    "• Heap  \n",
    "• • Mention of k  \n",
    "• Trie  \n",
    "• • Sometimes preprocessing a dictionary of words (given in a list) into a trie, will improve the efficiency of searching for a word of length k, among n words. Searching becomes O(k) instead of O(n).  \n",
    "\n",
    "Binary search  \n",
    "\n",
    "Сортировка:  \n",
    "• Пузырьковая  \n",
    "• Выбором  \n",
    "• Вставками  \n",
    "• Быстрая  \n",
    "• Слиянием  \n",
    "\n",
    "Hash Table  \n",
    "Stack  \n",
    "Queue  \n",
    "Reqursion  \n",
    "Паралеллизм  \n",
    "Divide and conquer  \n",
    "Greedy Algorithm  \n",
    "Dynamic Programming  \n",
    "Binary  \n",
    "Math"
   ]
  },
  {
   "cell_type": "markdown",
   "metadata": {},
   "source": [
    "### FizzBuzz   \n",
    "\n",
    "Напишите программу, которая выводит на экран числа от 1 до 100. Вместо чисел, кратных трем, программа должна выводить слово «Fizz», а вместо чисел, кратных пяти — слово «Buzz». Если число кратно и 3, и 5, то программа должна выводить слово «FizzBuzz»."
   ]
  },
  {
   "cell_type": "code",
   "execution_count": 1,
   "metadata": {},
   "outputs": [
    {
     "name": "stdout",
     "output_type": "stream",
     "text": [
      "1 2 Fizz 4 Buzz Fizz 7 8 Fizz Buzz 11 Fizz 13 14 FizzBuzz 16 17 Fizz 19 Buzz Fizz 22 23 Fizz Buzz 26 Fizz 28 29 FizzBuzz 31 32 Fizz 34 Buzz Fizz 37 38 Fizz Buzz 41 Fizz 43 44 FizzBuzz 46 47 Fizz 49 Buzz Fizz 52 53 Fizz Buzz 56 Fizz 58 59 FizzBuzz 61 62 Fizz 64 Buzz Fizz 67 68 Fizz Buzz 71 Fizz 73 74 FizzBuzz 76 77 Fizz 79 Buzz Fizz 82 83 Fizz Buzz 86 Fizz 88 89 FizzBuzz 91 92 Fizz 94 Buzz Fizz 97 98 Fizz Buzz "
     ]
    }
   ],
   "source": [
    "n: int = 100\n",
    "\n",
    "for i in range(1, n + 1):\n",
    "    if i % 15 == 0:\n",
    "        item = \"FizzBuzz\"\n",
    "    elif i % 5 == 0:\n",
    "        item = \"Buzz\"\n",
    "    elif i % 3 == 0:\n",
    "        item = \"Fizz\"\n",
    "    else:\n",
    "        item = i\n",
    "\n",
    "    print(item, end=\" \")"
   ]
  },
  {
   "cell_type": "markdown",
   "metadata": {},
   "source": [
    "### О-о-о! Большое!  \n",
    "\n",
    "Нотация O — характеристика асимптотической сложности алгоритма без учета константы.  \n",
    "\n",
    "n! >> 2^n >> n^3 >> n^2 >> nlogn >> n >> logn >> 1"
   ]
  },
  {
   "attachments": {},
   "cell_type": "markdown",
   "metadata": {},
   "source": [
    "### Пузырьковая сортировка (BubbleSort)\n",
    "\n",
    "Простейший алгоритм сортировки, состоит из повторяющихся проходов по сортируемому массиву. В процессе каждого прохода элементы массива сравниваются попарно; элементы, не удовлетворяющие условию сортировки, меняются местами."
   ]
  },
  {
   "cell_type": "code",
   "execution_count": 2,
   "metadata": {},
   "outputs": [
    {
     "name": "stdout",
     "output_type": "stream",
     "text": [
      "[0, 1, 2, 13, 28, 64]\n"
     ]
    }
   ],
   "source": [
    "def bubblesort(arr):\n",
    "    for i in range(len(arr)):\n",
    "        for j in range(len(arr) - 1):\n",
    "            if arr[j] > arr[j+1]:\n",
    "                arr[j], arr[j+1] = arr[j+1], arr[j]\n",
    "\n",
    "    return arr\n",
    "\n",
    "arr: list = [28, 64, 2, 1, 13, 0]\n",
    "print(bubblesort(arr))"
   ]
  },
  {
   "cell_type": "markdown",
   "metadata": {},
   "source": [
    "### Быстрая сортировка (QuickSort)\n",
    "\n",
    "Идея алгоритма следующая:  \n",
    "1. Выбирается опорный элемент; это в первом приближении может быть любой из элементов, например, значение из середины массива.\n",
    "2. Все элементы массива сравниваются с опорным и переставляются так, чтобы образовать новый массив, состоящий из двух последовательных сегментов — элементы меньшие опорного, равные опорному + большие опорного.\n",
    "3. Если длина сегментов больше 1, то рекурсивно выполнить сортировку и для них тоже."
   ]
  },
  {
   "cell_type": "code",
   "execution_count": 3,
   "metadata": {},
   "outputs": [
    {
     "name": "stdout",
     "output_type": "stream",
     "text": [
      "[0, 1, 2, 13, 28, 64]\n"
     ]
    }
   ],
   "source": [
    "def quicksort(arr):\n",
    "    less = []\n",
    "    equal = []\n",
    "    greater = []\n",
    "\n",
    "    if len(arr) > 1:\n",
    "        pivot = arr[0]\n",
    "        for x in arr:\n",
    "            if x < pivot:\n",
    "                less.append(x)\n",
    "            elif x == pivot:\n",
    "                equal.append(x)\n",
    "            elif x > pivot:\n",
    "                greater.append(x)\n",
    "        return quicksort(less) + equal + quicksort(greater)\n",
    "    else:\n",
    "        return arr\n",
    "\n",
    "arr: list = [28, 64, 2, 1, 13, 0]\n",
    "print(quicksort(arr))"
   ]
  },
  {
   "cell_type": "markdown",
   "metadata": {},
   "source": [
    "### Сортировка слиянием (MergeSort)  \n",
    "\n",
    "Ключевым моментом сортировки слиянием является (как ни странно :) слияние двух массивов. При слиянии массивы сравниваются поэлементно и меньший элемент записывается в результирующий массив; после того, как достигнут конец одного из массивов, в результирующий массив переписывается \"хвост\" оставшегося массива.  \n",
    "Совместно со слиянием двух массивов используется рекурсивное разбиение сортируемого массива на сегменты меньшего размера."
   ]
  },
  {
   "cell_type": "code",
   "execution_count": 4,
   "metadata": {},
   "outputs": [
    {
     "name": "stdout",
     "output_type": "stream",
     "text": [
      "[0, 1, 2, 13, 28, 64]\n"
     ]
    }
   ],
   "source": [
    "def mergesort(arr):\n",
    "    if len(arr) < 2:\n",
    "        return arr\n",
    "\n",
    "    result, mid = [], int(len(arr)//2)\n",
    "\n",
    "    y = mergesort(arr[:mid])\n",
    "    z = mergesort(arr[mid:])\n",
    "\n",
    "    while (len(y) > 0) and (len(z) > 0):\n",
    "       if y[0] > z[0]:\n",
    "        result.append(z.pop(0))   \n",
    "       else:\n",
    "        result.append(y.pop(0))\n",
    "\n",
    "    return result + y + z\n",
    "\n",
    "arr: list = [28, 64, 2, 1, 13, 0]\n",
    "print(mergesort(arr))"
   ]
  },
  {
   "cell_type": "markdown",
   "metadata": {},
   "source": [
    "### Пирамидальная сортировка (HeapSort)  \n",
    "\n",
    "Превращаем массив в двоичное дерево за О(n) операций.  \n",
    "Раз за разом преобразуя дерево, получим отсортированный массив."
   ]
  },
  {
   "cell_type": "code",
   "execution_count": 5,
   "metadata": {},
   "outputs": [
    {
     "name": "stdout",
     "output_type": "stream",
     "text": [
      "[0, 1, 2, 13, 28, 64]\n"
     ]
    }
   ],
   "source": [
    "def heap_sort():     \n",
    "    end = len(arr)   \n",
    "    start = end // 2 - 1\n",
    "    for i in range(start, -1, -1):   \n",
    "        heapify(end, i)   \n",
    "    for i in range(end-1, 0, -1):   \n",
    "        swap(i, 0)   \n",
    "        heapify(i, 0)\n",
    "\n",
    "def heapify(end,i):   \n",
    "    l = 2 * i + 1  \n",
    "    r = 2 * (i + 1)   \n",
    "    max = i   \n",
    "    if l < end and arr[i] < arr[l]:   \n",
    "        max = l   \n",
    "    if r < end and arr[max] < arr[r]:   \n",
    "        max = r   \n",
    "    if max != i:   \n",
    "        swap(i, max)   \n",
    "        heapify(end, max) \n",
    "\n",
    "def swap(i, j):                    \n",
    "    arr[i], arr[j] = arr[j], arr[i] \n",
    "\n",
    "arr: list = [28, 64, 2, 1, 13, 0]\n",
    "heap_sort()\n",
    "print(arr)"
   ]
  },
  {
   "cell_type": "markdown",
   "metadata": {},
   "source": [
    "### Сортировка вставками (InsertionSort)\n",
    "\n",
    "Каждый новый элемент заносится в выходную последовательность \"индивидуально\", т. е. каждый раз для добавления нового элемента приходится сдвигать часть массива. Алгоритм медленный, для ускорения вставки можно использовать бинарный поиск."
   ]
  },
  {
   "cell_type": "code",
   "execution_count": 6,
   "metadata": {},
   "outputs": [
    {
     "name": "stdout",
     "output_type": "stream",
     "text": [
      "[0, 1, 2, 13, 28, 64]\n"
     ]
    }
   ],
   "source": [
    "def insertionsort(arr):\n",
    "    for index in range(1, len(arr)):\n",
    "\n",
    "        currentvalue = arr[index]\n",
    "        position = index\n",
    "\n",
    "        while position > 0 and arr[position - 1] > currentvalue:\n",
    "            arr[position] = arr[position - 1]\n",
    "            position = position - 1\n",
    "\n",
    "        arr[position] = currentvalue\n",
    "\n",
    "\n",
    "arr: list = [28, 64, 2, 1, 13, 0]\n",
    "insertionsort(arr)\n",
    "print(arr)"
   ]
  },
  {
   "cell_type": "markdown",
   "metadata": {},
   "source": [
    "### Timsort\n",
    "\n",
    "Комбинированный алгоритм сортировки, сочетающий сортировку вставками, сортировку слиянием и предположение, что в реальном мире данные часто уже частично упорядочены (поиск упорядоченных подмассивов). Стандарт для Python, Java, Swift."
   ]
  },
  {
   "cell_type": "markdown",
   "metadata": {},
   "source": [
    "### Introsort\n",
    "\n",
    "Комбинированный алгоритм сортировки, использует быструю сортировку, плюс, при превышении глубины рекурсии некоторой величины (например, логарифма от числа сортируемых элементов), переключается на пирамидальную сортировку. Стандарт для .NET."
   ]
  },
  {
   "cell_type": "markdown",
   "metadata": {},
   "source": [
    "### Поразрядная сортировка (RadixSort)\n",
    "\n",
    "Сортирует только сущности, которые можно разбить на \"разряды\", имеющие разный вес. Это могут быть, например, целые числа или строки. Соответственно, элементы сортируются поразрядно, начиная с разряда, имеющего максимальный вес."
   ]
  },
  {
   "cell_type": "code",
   "execution_count": 7,
   "metadata": {},
   "outputs": [
    {
     "name": "stdout",
     "output_type": "stream",
     "text": [
      "[0, 1, 2, 13, 28, 64]\n"
     ]
    }
   ],
   "source": [
    "def radixsort(arr: list):\n",
    "    n = len(str(max(arr)))\n",
    "\n",
    "    for k in range(n):\n",
    "        bucket_list=[[] for i in range(10)]\n",
    "        for i in arr:\n",
    "            bucket_list[i // (10**k) % 10].append(i)\n",
    "        arr = sum(bucket_list, [])  # Flattening a list of lists to a list\n",
    "    return arr\n",
    "\n",
    "arr: list = [28, 64, 2, 1, 13, 0]\n",
    "print(radixsort(arr))"
   ]
  },
  {
   "cell_type": "markdown",
   "metadata": {},
   "source": [
    "\n",
    "### Таблица сравнения методов сортировки\n",
    "  \n",
    "<style>\n",
    "table th:first-of-type {\n",
    "    width: 35%;\n",
    "}\n",
    "table th:nth-of-type(2) {\n",
    "    width: 35%;\n",
    "}\n",
    "table th:nth-of-type(3) {\n",
    "    width: 5%;\n",
    "}\n",
    "table th:nth-of-type(4) {\n",
    "    width: 5%;\n",
    "}\n",
    "table th:nth-of-type(5) {\n",
    "    width: 5%;\n",
    "}\n",
    "table th:nth-of-type(6) {\n",
    "    width: 5%;\n",
    "}\n",
    "table th:nth-of-type(7) {\n",
    "    width: 5%;\n",
    "}\n",
    "table th:nth-of-type(8) {\n",
    "    width: 5%;\n",
    "}\n",
    "</style>\n",
    "\n",
    "| Сортировка | Преимущество                                                                                        | Best | Avg | Worst | Mem | Stable | Paral |\n",
    "| :- |:----------------------------------------------------------------------------------------------------| :-: | :-: | :-: | :-: | :-: | :-: |\n",
    "| Пузырьковая<br>(Bubble) | Простейшая реализация                                                                               | n | n^2 | n^2 | 1 | + | + |\n",
    "| Быстрая<br>(Quick) | Хорошее быстродействие в среднем случае                                                             | n*logn | n*logn | n^2 | logn | +/-<br>(depends) | + |\n",
    "| Слиянием<br>(Merge) | Может работать со структурами, к которым возможен только последовательный доступ                    | n*logn | n*logn | n*logn | n<br>(depends) | + | + |\n",
    "| Пирамидальная<br>(Heap) | Предсказуемая производительность в наихудшем случае, рекомендуется для почти отсортированных данных | n*logn | n*logn | n*logn | 1 | - | - |\n",
    "| Вставками<br>(Insertion) | Рекомендуется для почти отсортированных данных или для малого количества элементов                  | n | n^2 | n^2 | 1 | + | - |\n",
    "| Timsort | Комбинированный алгоритм. Стандарт для Python, Java, Swift                                          | n*logn | n*logn | n*logn | logn | - | - |\n",
    "| Introsort | Комбинированный алгоритм. Стандарт для .Net                                                         | n*logn | n*logn | n*logn | logn | - | - |\n",
    "| Поразрядная<br>(Radix) | Быстрая сортировка для целых чисел и строк                                                          | n*w | n*w | n*w | n+w | +/-<br>(depends) | + |"
   ]
  },
  {
   "cell_type": "markdown",
   "metadata": {},
   "source": [
    "### Линейный поиск  \n",
    "\n",
    "Последовательный поиск элемента в неотсортированном массиве"
   ]
  },
  {
   "cell_type": "code",
   "execution_count": 8,
   "metadata": {},
   "outputs": [
    {
     "name": "stdout",
     "output_type": "stream",
     "text": [
      "1\n"
     ]
    }
   ],
   "source": [
    "def linear_search(arr, x):\n",
    "    for i in range(len(arr)):\n",
    "        if arr[i] == x:\n",
    "            return i\n",
    "\n",
    "    return None\n",
    "\n",
    "arr: list = [28, 64, 2, 1, 13, 0]\n",
    "print(linear_search(arr, 64))"
   ]
  },
  {
   "cell_type": "markdown",
   "metadata": {},
   "source": [
    "### Бинарный поиск\n",
    "\n",
    "Работает только с отсортированными массивами. Берется значение из середины массива и сравнивается с искомой величиной. В зависимости от сравнения дальнейший рекурсивный поиск продолжается с середины либо левого, либо правого подмассива."
   ]
  },
  {
   "cell_type": "code",
   "execution_count": 9,
   "metadata": {},
   "outputs": [
    {
     "name": "stdout",
     "output_type": "stream",
     "text": [
      "2\n"
     ]
    }
   ],
   "source": [
    "def binary_search(arr, x):\n",
    "    left, right = 0, len(arr) - 1\n",
    "\n",
    "    while left <= right:\n",
    "        middle = (left + right) // 2\n",
    "\n",
    "        if arr[middle] == x:\n",
    "            return middle\n",
    "\n",
    "        if arr[middle] < x:\n",
    "            left = middle + 1\n",
    "        elif arr[middle] > x:\n",
    "            right = middle - 1\n",
    "\n",
    "arr: list = [0, 24, 64, 222, 1300, 2048]\n",
    "print(binary_search(arr, 64))"
   ]
  },
  {
   "cell_type": "markdown",
   "metadata": {},
   "source": [
    "\n",
    "### Поиск в глубину (DFS)\n",
    "\n",
    "Метод обхода графа. Depth-first search (DFS) можно чуть точнее перевести как \"поиск в первую очередь в глубину\". Соответственно, рекурсивный алгоритм поиска идет «вглубь» графа, насколько это возможно. Есть нерекурсивные варианты алгоритма, разгружающие стек вызовов.\n"
   ]
  },
  {
   "cell_type": "markdown",
   "metadata": {},
   "source": [
    "<img src=\"graph_for_dfs.jpg\" style=\"height:467px\">"
   ]
  },
  {
   "cell_type": "code",
   "execution_count": 13,
   "metadata": {},
   "outputs": [
    {
     "name": "stdout",
     "output_type": "stream",
     "text": [
      "5\n",
      "3\n",
      "2\n",
      "4\n",
      "8\n",
      "7\n"
     ]
    }
   ],
   "source": [
    "# Using a Python dictionary to act as an adjacency list\n",
    "graph = {\n",
    "  '5' : ['3','7'],\n",
    "  '3' : ['2', '4'],\n",
    "  '7' : ['8'],\n",
    "  '2' : [],\n",
    "  '4' : ['8'],\n",
    "  '8' : []\n",
    "}\n",
    "\n",
    "visited = set() # Set to keep track of visited nodes of graph\n",
    "\n",
    "def dfs(visited, graph, node):  # Function for DFS\n",
    "    if node not in visited:\n",
    "        print (node)\n",
    "        visited.add(node)\n",
    "        for neighbour in graph[node]:\n",
    "            dfs(visited, graph, neighbour)\n",
    "\n",
    "dfs(visited, graph, '5')"
   ]
  },
  {
   "cell_type": "markdown",
   "metadata": {},
   "source": [
    "\n",
    "### Поиск в ширину (BFS)\n",
    "\n",
    "В отличие от предыдущего варианта алгоритм Breadth-first search (BFS) перебирает в первую очередь вершины с одинаковым расстоянием от корня, и только потом идет «вглубь».\n"
   ]
  },
  {
   "cell_type": "code",
   "execution_count": 16,
   "metadata": {},
   "outputs": [
    {
     "name": "stdout",
     "output_type": "stream",
     "text": [
      "deque([])\n"
     ]
    }
   ],
   "source": [
    "# https://codereview.stackexchange.com/questions/135156/bfs-implementation-in-python-3\n",
    "import collections\n",
    "\n",
    "\n",
    "def breadth_first_search(graph, root): \n",
    "    visited, queue = set(), collections.deque([root])\n",
    "    while queue: \n",
    "        vertex = queue.popleft()\n",
    "        for neighbour in graph[vertex]: \n",
    "            if neighbour not in visited: \n",
    "                visited.add(neighbour) \n",
    "                queue.append(neighbour)\n",
    "\n",
    "if __name__ == '__main__':\n",
    "    graph = {0: [1, 2], 1: [2], 2: []} \n",
    "    breadth_first_search(graph, 0)"
   ]
  },
  {
   "cell_type": "markdown",
   "metadata": {},
   "source": [
    "### Алгоритм Дейкстры  \n",
    "\n",
    "Находит кратчайшие пути от одной из вершин графа до всех остальных. Алгоритм работает только для графов без отрицательных рёбер."
   ]
  },
  {
   "cell_type": "code",
   "execution_count": 17,
   "metadata": {},
   "outputs": [
    {
     "name": "stdout",
     "output_type": "stream",
     "text": [
      "{'B': 0, 'D': 1, 'E': 2, 'G': 2, 'C': 3, 'A': 4, 'F': 4}\n"
     ]
    }
   ],
   "source": [
    "# https://stackoverflow.com/questions/22897209/dijkstras-algorithm-in-python\n",
    "nodes = ('A', 'B', 'C', 'D', 'E', 'F', 'G')\n",
    "distances = {\n",
    "    'B': {'A': 5, 'D': 1, 'G': 2},\n",
    "    'A': {'B': 5, 'D': 3, 'E': 12, 'F' :5},\n",
    "    'D': {'B': 1, 'G': 1, 'E': 1, 'A': 3},\n",
    "    'G': {'B': 2, 'D': 1, 'C': 2},\n",
    "    'C': {'G': 2, 'E': 1, 'F': 16},\n",
    "    'E': {'A': 12, 'D': 1, 'C': 1, 'F': 2},\n",
    "    'F': {'A': 5, 'E': 2, 'C': 16}}\n",
    "\n",
    "unvisited = {node: None for node in nodes} #using None as +inf\n",
    "visited = {}\n",
    "current = 'B'\n",
    "currentDistance = 0\n",
    "unvisited[current] = currentDistance\n",
    "\n",
    "while True:\n",
    "    for neighbour, distance in distances[current].items():\n",
    "        if neighbour not in unvisited: continue\n",
    "        newDistance = currentDistance + distance\n",
    "        if unvisited[neighbour] is None or unvisited[neighbour] > newDistance:\n",
    "            unvisited[neighbour] = newDistance\n",
    "    visited[current] = currentDistance\n",
    "    del unvisited[current]\n",
    "    if not unvisited: break\n",
    "    candidates = [node for node in unvisited.items() if node[1]]\n",
    "    current, currentDistance = sorted(candidates, key = lambda x: x[1])[0]\n",
    "\n",
    "print(visited)"
   ]
  },
  {
   "cell_type": "markdown",
   "metadata": {},
   "source": [
    "### Алгоритм Беллмана-Форда\n",
    "\n",
    "Как и алгоритм Дейкстры, находит кратчайшие пути от одной из вершин графа до всех остальных, но, в отличие от первого, позволяет работать с графами с ребрами, имеющими отрицательный вес."
   ]
  },
  {
   "cell_type": "markdown",
   "metadata": {},
   "source": [
    "### Таблица сравнения методов поиска\n",
    "\n",
    "| Вид поиска | Структура данных | Avg | Worst | Mem |\n",
    "| :- | :- | :-: | :-: | :-: |\n",
    "| Линейный поиск | Массив | n | n | 1 |\n",
    "| Бинарный поиск | Отсортированный массив | logn | n | 1 |\n",
    "| Поиск в глубину (DFS) | Граф |  | V+E | V |\n",
    "| Поиск в ширину (BFS) | Граф |  | V+E | V |\n",
    "| Алгоритм Дейкстры | Граф | (V+E)logV | (V+E)logV | V |\n",
    "| Алгоритм Беллмана-Форда | Граф | V*E | V*E | V |"
   ]
  },
  {
   "attachments": {},
   "cell_type": "markdown",
   "metadata": {},
   "source": [
    "### P vs NP\n",
    "\n",
    "Задачи класса P — реально вычислимые задачи ([тезис Кобэма](https://en.wikipedia.org/wiki/Cobham%27s_thesis)), решаются за полиномиальное время.  \n",
    "NP-полные задачи — не разрешимы за полиномиальное время, но могут быть сведены к задачам разрешимости (да/нет), которые, в свою очередь, решаются за полиномиальное время."
   ]
  },
  {
   "cell_type": "markdown",
   "metadata": {},
   "source": [
    "### Разделяй и властвуй\n",
    "\n",
    "Разделяй и властвуй (divide and conquer) — способ решения сложных задач путём рекурсивного разбиения решаемой задачи на две или более подзадачи того же типа, но меньшего размера, и комбинировании их решений для получения ответа к исходной задаче; разбиения выполняются до тех пор, пока все подзадачи не окажутся элементарными."
   ]
  },
  {
   "cell_type": "markdown",
   "metadata": {},
   "source": [
    "### Динамическое программирование\n",
    "\n",
    "Динамическое программирование — способ решения сложных задач путём разбиения их на более простые подзадачи. Он применим к задачам со структурой, выглядящей как набор перекрывающихся подзадач, сложность которых меньше исходной.\n",
    "\n",
    "Ключевая идея: как правило, чтобы решить поставленную задачу, требуется решить отдельные части задачи (подзадачи), после чего объединить решения подзадач в одно общее решение. Часто многие из этих подзадач одинаковы. Подход динамического программирования состоит в том, чтобы решить каждую подзадачу только один раз, сократив тем самым количество вычислений. Это особенно полезно в случаях, когда число повторяющихся подзадач экспоненциально велико.ы"
   ]
  },
  {
   "cell_type": "markdown",
   "metadata": {},
   "source": [
    "### Жадные алгоритмы\n",
    "\n",
    "Жадный алгоритм (greedy algorithm) — алгоритм, который на каждом шагу делает локально наилучший выбор в надежде, что итоговое решение будет оптимальным.\n",
    "\n",
    "Как определить, даст ли жадный алгоритм оптимальное решение? В соответствии с теоремой Радо-Эдмондса, если система является [матроидом](http://ru.wikipedia.org/wiki/%D0%9C%D0%B0%D1%82%D1%80%D0%BE%D0%B8%D0%B4), то для произвольной весовой функции градиентный алгоритм всегда находит точное решение задачи. Следовательно, если доказать, что объект является матроидом, то жадный алгоритм будет выдавать оптимальный вариант.\n",
    "\n",
    "Жадные алгоритмы проще и быстрее алгоритмов на базе динамического программирования.\n",
    "\n",
    "Различие между жадными алгоритмами и динамическим программированием можно пояснить так: на каждом шаге жадный алгоритм берет \"самый жирный кусок\", а потом уже пытается сделать наилучший выбор среди оставшихся, каковы бы они ни были; алгоритм динамического программирования принимает решение, просчитав заранее последствия для всех вариантов."
   ]
  },
  {
   "cell_type": "markdown",
   "metadata": {},
   "source": [
    "### Рекурсия\n",
    "\n",
    "Рекурсия – определение функции через саму себя. Логика рекурсивной функции как правило состоит из двух ветвей. Длинная ветвь вызывает эту же функцию с другими параметрами, чтобы накопить результат. Короткая ветвь определяет критерий выхода из рекурсии.\n",
    "\n",
    "Рекурсия упрощает код и делает его декларативным. Рекурсия поощряет мыслить функционально и избегать побочных эффектов.\n",
    "\n",
    "Неоптимизированная рекурсия приводит к накладным расходам ресурсов. При большом количестве итераций можно превысить лимит на число рекурсивных вызовов (recursion depth limit reached).\n",
    "\n",
    ">Какие ограничения специфичны для рекурсии в Python?\n",
    ">\n",
    "> По умолчанию sys.getrecursionlimit() вернёт ограничение в 1000.\n",
    "\n",
    "### Хвостовая рекурсия\n",
    "\n",
    "Особый вид рекурсии, когда функция заканчивается вызовом самой себя без дополнительных операторов. Когда это условие выполняется, компилятор разворачивает рекурсию в цикл с одним стек-фреймом, просто меняя локальные переменные от итерации к итерации.\n",
    "\n",
    "Так, классическое определение рекурсивного факториала return N * fact(N - 1) не поддерживает хвостовую рекурсию, потому что для каждого стек-фрейма придется хранить текущее значение N.\n",
    "\n",
    "Чтобы сделать рекурсии хвостовой, добавляют параметры-аккумуляторы. Благодаря им функция знает о своем текущем состоянии. Пусть параметр acc по умолчанию равен 1. Тогда запись с хвостовой рекурсией будет выглядеть так:\n",
    "\n",
    "```python\n",
    "def fact(N, acc=1):\n",
    "    if N == 1:\n",
    "        return acc\n",
    "    else:\n",
    "        return fact(N - 1, acc * N)\n",
    "```"
   ]
  },
  {
   "cell_type": "markdown",
   "metadata": {},
   "source": [
    "### Самые распространенные методы решения задач Leetcode\n",
    "\n",
    "1. Метод скользящего окна (Sliding Window)\n",
    "2. Метод двух указателей (Two Pointers)\n",
    "3. [Нахождение цикла](https://ru.wikipedia.org/wiki/%D0%9D%D0%B0%D1%85%D0%BE%D0%B6%D0%B4%D0%B5%D0%BD%D0%B8%D0%B5_%D1%86%D0%B8%D0%BA%D0%BB%D0%B0) (Fast & Slow Pointers)\n",
    "4. Интервальное слияние (Merge Intervals)\n",
    "5. Цикличная сортировка (Cyclic Sort)\n",
    "6. In-place Reversal для LinkedList (In-place Reversal of a LinkedList)\n",
    "7. [Поиск в ширину](https://ru.wikipedia.org/wiki/%D0%9F%D0%BE%D0%B8%D1%81%D0%BA_%D0%B2_%D1%88%D0%B8%D1%80%D0%B8%D0%BD%D1%83) (Tree Breadth-First Search)\n",
    "8. [Поиск в глубину](https://ru.wikipedia.org/wiki/%D0%9F%D0%BE%D0%B8%D1%81%D0%BA_%D0%B2_%D0%B3%D0%BB%D1%83%D0%B1%D0%B8%D0%BD%D1%83) (Tree Depth First Search)\n",
    "9. Две кучи (Two Heaps)\n",
    "10. Подмножества (Subsets)\n",
    "11. Модифицированный бинарный поиск (Modified Binary Search)\n",
    "12. Побитовое исключающее ИЛИ (Bitwise XOR)\n",
    "13. Наибольшие K элементов (Top K Elements)\n",
    "14. K-образное слияние (K-way Merge)\n",
    "15. Задача о рюкзаке 0-1 (0/1 Knapsack)\n",
    "16. Задача о неограниченном рюкзаке (Unbounded Knapsack)\n",
    "17. Числа Фибоначчи (Fibonacci Numbers)\n",
    "18. Наибольшая последовательность-палиндром (Palindromic Subsequence)\n",
    "19. Наибольшая общая подстрока (Longest Common Substring)\n",
    "20. Топологическая сортировка (Topological Sort)\n",
    "21. Чтение префиксного дерева (Trie Traversal)\n",
    "22. Количество островов в матрице (Number of Island)\n",
    "23. Метод проб и ошибок (Trial & Error)\n",
    "24. Система непересекающихся множеств (Union Find)\n",
    "25. Задача: найти уникальные маршруты (Unique Paths)"
   ]
  }
 ],
 "metadata": {
  "interpreter": {
   "hash": "26de051ba29f2982a8de78e945f0abaf191376122a1563185a90213a26c5da77"
  },
  "kernelspec": {
   "display_name": "Python 3.10.0 64-bit",
   "language": "python",
   "name": "python3"
  },
  "language_info": {
   "codemirror_mode": {
    "name": "ipython",
    "version": 3
   },
   "file_extension": ".py",
   "mimetype": "text/x-python",
   "name": "python",
   "nbconvert_exporter": "python",
   "pygments_lexer": "ipython3",
   "version": "3.10.9"
  },
  "orig_nbformat": 4
 },
 "nbformat": 4,
 "nbformat_minor": 2
}
