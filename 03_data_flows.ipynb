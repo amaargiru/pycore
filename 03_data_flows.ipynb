{
 "cells": [
  {
   "attachments": {},
   "cell_type": "markdown",
   "metadata": {},
   "source": [
    "## 3. Потоки данных\n",
    "\n",
    "> «И не видели мы ни одной травы, которая не цвела бы, и ни одного дерева, которое не плодоносило бы. Камни же там — только драгоценные».  \n",
    "> \n",
    "> «Плавание святого Брендана».\n",
    "\n",
    "![Data Flows](https://raw.githubusercontent.com/amaargiru/pycore/main/pics/03_Data_Flows.png)  "
   ]
  },
  {
   "cell_type": "markdown",
   "metadata": {},
   "source": [
    "### Itertools\n",
    "\n",
    "Методы модуля itertools возвращают *итераторы*.\n",
    "\n",
    "Итератор — механизм поэлементного обхода данных, который использует метод next() для получения следующего значения последовательности. Подробнее создание итераторов будет рассмотрено ниже, в разделе «ООП / Утиная типизация». В «нормальные» данные итераторы превращаются посредством for, next или list().\n",
    "\n",
    "Itertools содержит множество готовых итераторов, которые могут быть бесконечными (порождаются при помощи count, cycle или repeat), конечными (accumulate, chain, takewhile и другие) и комбинаторными (product, combinations, combinations_with_replacement, permutations). Лучше изучить их все, хотя бы поверхностно, потому что даже относительно редко употребляемый метод, например, какой-нибудь zip_longest(), иногда весьма и весьма пригождается, идеально ложась на поставленную задачу.\n",
    "\n",
    ">__Что такое итератор?__\n",
    ">\n",
    ">Итератор — класс, реализующий методы \\_\\_next__ и \\_\\_iter__.  Метод \\_\\_next__ должен возвращать следующее значение итератора или выкидывать исключение StopIteration, сигнализируя, что итератор исчерпал доступные значения, метод \\_\\_iter\\_\\_() должен возвращать \"self\".\n",
    "\n",
    "Пример работы с бесконечными итераторами:"
   ]
  },
  {
   "cell_type": "code",
   "execution_count": 5,
   "metadata": {},
   "outputs": [
    {
     "name": "stdout",
     "output_type": "stream",
     "text": [
      "0\n",
      "0.1\n",
      "0.2\n",
      "1\n",
      "2\n",
      "1\n",
      "['Wow!', 'Wow!', 'Wow!']\n"
     ]
    }
   ],
   "source": [
    "from itertools import count, repeat, cycle\n",
    "\n",
    "# Итератор, возвращающий равномерно распределенные значения\n",
    "i1 = count(start=0, step=.1)\n",
    "print(next(i1))\n",
    "print(next(i1))\n",
    "print(next(i1))\n",
    "\n",
    "# Итератор, циклично и бесконечно возвращающий элементы итерируемого объекта\n",
    "i2 = cycle([1, 2])\n",
    "print(next(i2))\n",
    "print(next(i2))\n",
    "print(next(i2))\n",
    "\n",
    "# Итератор, возвращающий один и тот же объект бесконечно, если не указано значение аргумента times\n",
    "i3 = repeat(\"Wow!\", times=3)\n",
    "print(list(i3))"
   ]
  },
  {
   "cell_type": "markdown",
   "metadata": {},
   "source": [
    "Применение некоторых конечных итераторов:"
   ]
  },
  {
   "cell_type": "code",
   "execution_count": 21,
   "metadata": {},
   "outputs": [
    {
     "name": "stdout",
     "output_type": "stream",
     "text": [
      "[1, 3, 6, 10] [10, 11, 13, 16, 20]\n",
      "[-3, 6, -6, -6, -12, -36, -144]\n",
      "[1, 5, 11, 19]\n",
      "[1, 5, 11, 19]\n",
      "['A', 'B', 'C', 'F']\n",
      "[6, 4, 1, 1, 1, 0]\n",
      "[1, 4]\n",
      "['A', 'B', 'C', 'D', 'E', 'F', 'G', 'H', 'I']\n",
      "['A', 'B', 'C', 'D', 'E', 'F', 'G', 'H', 'I']\n",
      "[(1, 2), (2, 3), (3, 4), (4, 5)]\n"
     ]
    }
   ],
   "source": [
    "from itertools import accumulate, chain, compress, dropwhile, takewhile, pairwise\n",
    "import operator\n",
    "\n",
    "# Итератор, возвращающий накопленный результат выполнения указанной функции (по умолчанию — сложение)\n",
    "\n",
    "i1 = accumulate([1, 2, 3, 4])\n",
    "i2 = accumulate([1, 2, 3, 4], initial=10)\n",
    "print(list(i1), list(i2))\n",
    "\n",
    "i3 = accumulate([ -3, -2, -1, 1, 2, 3, 4], operator.mul)\n",
    "print(list(i3))\n",
    "\n",
    "# Можно использовать свою функцию\n",
    "def myfunc(accumulated, current):\n",
    "    return accumulated + 2 * current\n",
    "\n",
    "i4 = accumulate([1, 2, 3, 4], func=myfunc)\n",
    "print(list(i4))\n",
    "\n",
    "# Можно использовать лямбду (подробнее рассмотрены ниже)\n",
    "i5 = accumulate([1, 2, 3, 4], lambda accumulated, current: accumulated + 2 * current)\n",
    "print(list(i5))\n",
    "\n",
    "# Итератор, возвращающий только те элементы входной последовательности,\n",
    "# которые имеют соответствующий элемент, равный True или 1 в последовательности selectors\n",
    "i6 = compress(\"ABCDEF\", [1, 1, 1, 0, 0, 1])\n",
    "print(list(i6))\n",
    "\n",
    "# Итератор, отбрасывающий элементы входной последовательности, если результат выполнения функции равен True.\n",
    "# Как только предикат становится False, то отбрасывание прекращается (предикат больше не применяется)\n",
    "i7 = dropwhile(lambda x: x<5, [1, 4, 6, 4, 1, 1, 1, 0])\n",
    "print(list(i7))\n",
    "\n",
    "# takewhile, в отличие от dropwhile, наоборот, возвращает элементы входной последовательности,\n",
    "# если результат выполнения функции равен True\n",
    "i8 = takewhile(lambda x: x<5, [1, 4, 6, 0, 4, 1, 2, 1])\n",
    "print(list(i8))\n",
    "\n",
    "# Итератор, формирующий из нескольких входных последовательностей одну общую\n",
    "i2 = chain([\"A\", \"B\", \"C\"],[\"D\", \"E\", \"F\"],[\"G\", \"H\", \"I\"])\n",
    "print(list(i2))\n",
    "# Кстати, такой же трюк можно провернуть при помощи обычной sum(), задав ей начальный параметр [] (т. е. пустой список)\n",
    "a = sum([[\"A\", \"B\", \"C\"],[\"D\", \"E\", \"F\"],[\"G\", \"H\", \"I\"]], [])\n",
    "print(a)\n",
    "\n",
    "# Возвращает элементы входной коллекции попарно\n",
    "i6 = pairwise([1, 2, 3, 4, 5])\n",
    "print(list(i6))"
   ]
  },
  {
   "cell_type": "markdown",
   "metadata": {},
   "source": [
    "Комбинаторика"
   ]
  },
  {
   "cell_type": "code",
   "execution_count": 6,
   "metadata": {},
   "outputs": [
    {
     "name": "stdout",
     "output_type": "stream",
     "text": [
      "[('a', 'x'), ('a', 'y'), ('a', 'z'), ('b', 'x'), ('b', 'y'), ('b', 'z'), ('c', 'x'), ('c', 'y'), ('c', 'z')]\n",
      "[(0, 0, 0), (0, 0, 1), (0, 1, 0), (0, 1, 1), (1, 0, 0), (1, 0, 1), (1, 1, 0), (1, 1, 1)]\n",
      "[('a', 'b'), ('a', 'c'), ('b', 'c')]\n",
      "[('a', 'b'), ('a', 'c'), ('b', 'a'), ('b', 'c'), ('c', 'a'), ('c', 'b')]\n",
      "[('a', 'a'), ('a', 'b'), ('a', 'c'), ('b', 'b'), ('b', 'c'), ('c', 'c')]\n"
     ]
    }
   ],
   "source": [
    "from itertools import product, combinations, combinations_with_replacement, permutations\n",
    "\n",
    "# Создает множество, содержащее все упорядоченные пары элементов из входных множеств\n",
    "a = product(\"abc\", \"xyz\")\n",
    "print(list(a))\n",
    "\n",
    "b = product([0, 1], repeat=3)\n",
    "print(list(b))\n",
    "\n",
    "# Возвращает подпоследовательности длины r из элементов входного итерируемого объекта, повторяющиеся элементы не допускаются\n",
    "c = combinations(\"abc\", r=2)\n",
    "print(list(c))\n",
    "\n",
    "# Выдает перестановки элементов итерируемого объекта\n",
    "d = permutations(\"abc\", r=2)\n",
    "print(list(d))\n",
    "\n",
    "# Возвращает подпоследовательности длины r из элементов входного итерируемого объекта, повторяющиеся элементы допустимы\n",
    "e = combinations_with_replacement(\"abc\", r=2)\n",
    "print(list(e))"
   ]
  },
  {
   "attachments": {},
   "cell_type": "markdown",
   "metadata": {},
   "source": [
    "### Enumerate\n",
    "\n",
    "Иногда, при переборе объектов в цикле for, нужно получить не только сам объект, но и его порядковый номер. Разумеется, это можно сделать, создав дополнительную переменную, которая будет инкрементироваться на каждом шаге цикла. Однако, можно делать это удобнее, при помощи итератора enumerate, введенным в [PEP-279](https://peps.python.org/pep-0279/). Enumerate — синтаксический сахар («introduces ... to simplify a commonly used looping idiom»), позволяющий проще и нагляднее работать с объектами, поддерживающими итерацию. Метод \\_\\_next\\_\\_() enumerate возвращает кортеж, содержащий значение индекса и соответствующее этому индексу значение.\n",
    "\n",
    "В документации работа enumerate упрощенно объясняется через генератор:\n",
    "\n",
    "```python\n",
    "def enumerate(sequence, start=0):\n",
    "    n = start\n",
    "    for elem in sequence:\n",
    "        yield n, elem\n",
    "        n += 1\n",
    "```\n",
    "\n",
    "На самом деле enumerate — не генератор, а итератор:"
   ]
  },
  {
   "cell_type": "code",
   "execution_count": 2,
   "metadata": {},
   "outputs": [
    {
     "name": "stdout",
     "output_type": "stream",
     "text": [
      "True\n",
      "True\n",
      "True\n",
      "False\n"
     ]
    }
   ],
   "source": [
    "import collections\n",
    "import types\n",
    "\n",
    "e = enumerate(\"abcdef\")\n",
    "print(isinstance(e, enumerate))\n",
    "print(isinstance(e, collections.Iterable))\n",
    "print(isinstance(e, collections.Iterator))\n",
    "print(isinstance(e, types.GeneratorType))"
   ]
  },
  {
   "attachments": {},
   "cell_type": "markdown",
   "metadata": {},
   "source": [
    "Enumerate реализован не на Python, а на C, и в его [исходном коде](https://github.com/python/cpython/blob/master/Objects/enumobject.c#L289), разумеется, нет ключевого слова yield.\n",
    "\n",
    "Примеры использования enumerate:"
   ]
  },
  {
   "cell_type": "code",
   "execution_count": 8,
   "metadata": {},
   "outputs": [
    {
     "name": "stdout",
     "output_type": "stream",
     "text": [
      "0 a\n",
      "1 b\n",
      "2 c\n",
      "3 d\n",
      "\n",
      "\n",
      "10 a\n",
      "11 b\n",
      "12 c\n",
      "13 d\n"
     ]
    }
   ],
   "source": [
    "values = [\"a\", \"b\", \"c\", \"d\"]\n",
    "\n",
    "for count, value in enumerate(values):\n",
    "    print(count, value)\n",
    "\n",
    "print(\"\\n\")\n",
    "\n",
    "for count, value in enumerate(values, start=10 ):\n",
    "    print(count, value)"
   ]
  },
  {
   "cell_type": "markdown",
   "metadata": {},
   "source": [
    "### Генератор (generator)\n",
    "\n",
    "Генератор — любая функция, содержащая ключевое слово *yield* и возвращающая итератор. Генератор не хранит в памяти все необходимые элементы, а просто содержит метод для вычисления очередного значения; результат может создаваться на основе математического алгоритма или брать элементы из другого источника данных (коллекция, файл, сетевое подключение и т. д.), при необходимости модифицируя их.\n",
    "\n",
    "Пройти генератор в цикле можно только один раз, на каждом шаге возможно вычислить только следующий элемент, но не предыдущий. Элемент генератора нельзя извлечь по индексу, будет выброшена ошибка, т. к. генератор не поддерживает метод \\_\\_getitem__.\n",
    "\n",
    "Объекты-генераторы не дают выигрыша по времени и памяти в том случае, если вам нужно работать сразу со всеми элементами коллекции, а не только с каким-то одним. Объекты-генераторы не дают выигрыша по времени, если вы последовательно запрашиваете все возможные элементы. При этом выигрыш по памяти остаётся.\n",
    "\n",
    ">__Что такое генератор?__\n",
    ">\n",
    ">Любая функция, содержащая ключевое слово yield и возвращающая итератор.\n",
    "\n",
    "Бесконечный генератор:"
   ]
  },
  {
   "cell_type": "code",
   "execution_count": 3,
   "metadata": {},
   "outputs": [
    {
     "name": "stdout",
     "output_type": "stream",
     "text": [
      "100\n",
      "110\n",
      "120\n"
     ]
    }
   ],
   "source": [
    "def count(start, step):\n",
    "    current = start\n",
    "    while True:\n",
    "        yield current\n",
    "        current += step\n",
    "\n",
    "c = count(100, 10)\n",
    "\n",
    "print(next(c))\n",
    "print(next(c))\n",
    "print(next(c))"
   ]
  },
  {
   "attachments": {},
   "cell_type": "markdown",
   "metadata": {},
   "source": [
    "Конечный генератор.\n",
    "Также, как и конечный итератор, конечный генератор можно превратить в список при помощи list() (вы можете попробовать превратить в list и бесконечный генератор, но процесс рискует несколько затянуться :):"
   ]
  },
  {
   "cell_type": "code",
   "execution_count": 2,
   "metadata": {},
   "outputs": [
    {
     "name": "stdout",
     "output_type": "stream",
     "text": [
      "100\n",
      "110\n",
      "120\n",
      "[130, 140, 150, 160, 170, 180, 190, 200]\n"
     ]
    }
   ],
   "source": [
    "def count(start, stop, step):\n",
    "    current = start\n",
    "    while current <= stop:\n",
    "        yield current\n",
    "        current += step\n",
    "\n",
    "c = count(100, 200, 10)\n",
    "\n",
    "print(next(c))\n",
    "print(next(c))\n",
    "print(next(c))\n",
    "print(list(c))"
   ]
  },
  {
   "cell_type": "markdown",
   "metadata": {},
   "source": [
    "Следует разделять итераторы и генераторы. Итератор — объект, который использует метод \\_\\_next\\_\\_() для получения следующего значения последовательности. Генератор — функция, которая позволяет отложено создавать результат при итерации.\n",
    "\n",
    ">__В чем разница между итератором и генератором?__\n",
    ">\n",
    ">Итератор является более общей концепцией, чем генератор, и представляет собой любой объект, класс которого имеет методы \\_\\_next__ и \\_\\_iter__. Генератор — это функция, содержащая хотя бы один метод yield, и возвращающая итератор."
   ]
  },
  {
   "cell_type": "markdown",
   "metadata": {},
   "source": [
    "#### Объявление генератора\n",
    "\n",
    "Объявить генератор можно несколькими методами. Первый метод — объявить функцию с yield, как было показано выше.  \n",
    "Второй метод — использовать *генераторное выражение* (generator expression):"
   ]
  },
  {
   "cell_type": "code",
   "execution_count": 2,
   "metadata": {},
   "outputs": [
    {
     "name": "stdout",
     "output_type": "stream",
     "text": [
      "[1, 4, 9, 16, 25, 36, 49, 64, 81, 100]\n"
     ]
    }
   ],
   "source": [
    "r = range(1, 11)\n",
    "squares = (n**2 for n in r)\n",
    "\n",
    "print(list(squares))"
   ]
  },
  {
   "cell_type": "markdown",
   "metadata": {},
   "source": [
    "Можно объединить генераторы или делегировать часть функционала генератора другому генератору при помощи конструкции *yield from*:"
   ]
  },
  {
   "cell_type": "code",
   "execution_count": 6,
   "metadata": {},
   "outputs": [
    {
     "name": "stdout",
     "output_type": "stream",
     "text": [
      "Hello World ! "
     ]
    }
   ],
   "source": [
    "def subg():\n",
    "    yield 'World'\n",
    "\n",
    "def generator():\n",
    "    yield 'Hello'\n",
    "    yield from subg()\n",
    "    yield '!'\n",
    "\n",
    "for i in generator():\n",
    "    print(i, end = ' ')"
   ]
  },
  {
   "cell_type": "markdown",
   "metadata": {},
   "source": [
    "До широкого распространения asyncio конструкция yield from использовалась для создания [корутин на базе генераторов](https://docs.python.org/3.7/library/asyncio-task.html#asyncio.coroutine)."
   ]
  },
  {
   "attachments": {},
   "cell_type": "markdown",
   "metadata": {},
   "source": [
    "\n",
    "### Декораторы\n",
    "\n",
    "Что такое декораторы?\n",
    "\n",
    "Декоратор в широком смысле – паттерн проектирования, когда один объект изменяет поведение другого. Декораторы в Python — это, по сути, своеобразные «обёртки», которые дают нам возможность делать что-либо до или после того, что сделает декорируемая функция, не изменяя её. Можно сказать, что декоратор является просто синтаксическим сахаром для конструкции вида:\n",
    "\n",
    "```\n",
    "my_function = my_decorator(my_function)\n",
    "```"
   ]
  },
  {
   "cell_type": "code",
   "execution_count": 3,
   "metadata": {},
   "outputs": [
    {
     "name": "stdout",
     "output_type": "stream",
     "text": [
      "<b><i>Hello, world!</i></b>\n"
     ]
    }
   ],
   "source": [
    "def makebold(fn):\n",
    "    def wrapped():\n",
    "        return \"<b>\" + fn() + \"</b>\"\n",
    "\n",
    "    return wrapped\n",
    "\n",
    "\n",
    "def makeitalic(fn):\n",
    "    def wrapped():\n",
    "        return \"<i>\" + fn() + \"</i>\"\n",
    "\n",
    "    return wrapped\n",
    "\n",
    "# Разумеется, при последовательном применении нескольких декораторов играет роль порядок декорирования.\n",
    "@makebold\n",
    "@makeitalic\n",
    "def hello():\n",
    "    return \"Hello, world!\"\n",
    "\n",
    "print(hello())"
   ]
  },
  {
   "attachments": {},
   "cell_type": "markdown",
   "metadata": {},
   "source": [
    "Декоратор, подсчитывающий время работы оборачиваемой функции:"
   ]
  },
  {
   "cell_type": "code",
   "execution_count": 4,
   "metadata": {},
   "outputs": [
    {
     "name": "stdout",
     "output_type": "stream",
     "text": [
      "1002478400 ns\n",
      "3\n"
     ]
    }
   ],
   "source": [
    "import time\n",
    "\n",
    "def perf_counter(function):\n",
    "    def counted(*args):\n",
    "        start_time = time.perf_counter_ns()\n",
    "        res = function(*args)\n",
    "        print(f\"{time.perf_counter_ns() - start_time} ns\")\n",
    "        return res\n",
    "\n",
    "    return counted\n",
    "\n",
    "\n",
    "@perf_counter\n",
    "def slow_sum(x, y):\n",
    "    time.sleep(1)\n",
    "    return x + y\n",
    "\n",
    "\n",
    "print(slow_sum(1, 2))"
   ]
  },
  {
   "cell_type": "markdown",
   "metadata": {},
   "source": [
    ">__Что такое декоратор? Как создать собственный декоратор?__\n",
    ">\n",
    ">Декоратор — «обёртка», паттерн проектирования, когда один объект изменяет поведение другого. Декоратор позволяет применять определенные действия до или после декорируемой функции и является синтаксическим сахаром для конструкции вида my_function = my_decorator(my_function)."
   ]
  },
  {
   "cell_type": "code",
   "execution_count": 1,
   "metadata": {},
   "outputs": [
    {
     "name": "stdout",
     "output_type": "stream",
     "text": [
      "Hello! Hello!\n"
     ]
    }
   ],
   "source": [
    "# Создаём собственный декоратор\n",
    "\n",
    "def double(fn):\n",
    "    def wrapped():\n",
    "        return fn() + \" \" + fn()\n",
    "\n",
    "    return wrapped\n",
    "\n",
    "@double\n",
    "def hello():\n",
    "    return \"Hello!\"\n",
    "\n",
    "print(hello())"
   ]
  },
  {
   "attachments": {},
   "cell_type": "markdown",
   "metadata": {},
   "source": [
    "### LRU Cache\n",
    "Декоратор, кеширующий значения, возвращаемые функцией. Все аргументы функции должны быть хэшируемы."
   ]
  },
  {
   "cell_type": "code",
   "execution_count": 5,
   "metadata": {},
   "outputs": [
    {
     "name": "stdout",
     "output_type": "stream",
     "text": [
      "5 4 3 2 \n",
      "\n",
      "9 8 7 6 5 4 3 2 \n",
      "\n",
      "5 4 3 2 \n",
      "\n",
      "9 8 7 6 "
     ]
    },
    {
     "data": {
      "text/plain": [
       "45"
      ]
     },
     "execution_count": 5,
     "metadata": {},
     "output_type": "execute_result"
    }
   ],
   "source": [
    "import functools\n",
    "\n",
    "\n",
    "def recursion_sum(n):\n",
    "    if n == 1:\n",
    "        return n\n",
    "    print(n, end=\" \")\n",
    "    return n + recursion_sum(n - 1)\n",
    "\n",
    "\n",
    "recursion_sum(5)\n",
    "print(\"\\n\")\n",
    "recursion_sum(9)\n",
    "print(\"\\n\")\n",
    "\n",
    "\n",
    "@functools.lru_cache\n",
    "def recursion_sum2(n):\n",
    "    if n == 1:\n",
    "        return n\n",
    "    print(n, end=\" \")\n",
    "    return n + recursion_sum2(n - 1)\n",
    "\n",
    "\n",
    "recursion_sum2(5)\n",
    "print(\"\\n\")\n",
    "recursion_sum2(9)"
   ]
  },
  {
   "attachments": {},
   "cell_type": "markdown",
   "metadata": {},
   "source": [
    "Размер кеша по умолчанию 128 значений. Ограничение можно отменить при помощи 'maxsize=None'.\n",
    "\n",
    "Пока мы не ушли далеко от темы кеша, погуглите заодно модуль weakref и WeakValueDictionary, позволяющие организовать более гибкую работу с кешем."
   ]
  },
  {
   "attachments": {},
   "cell_type": "markdown",
   "metadata": {},
   "source": [
    "### Параметризованный декоратор\n",
    "\n",
    "В декоратор можно передать и позиционные, и именованные аргументы — args и kwargs соответственно. Синтаксис декораторов с аргументами немного отличается — декоратор с аргументами должен возвращать функцию, которая принимает функцию и возвращает другую функцию:"
   ]
  },
  {
   "cell_type": "code",
   "execution_count": 6,
   "metadata": {},
   "outputs": [
    {
     "name": "stdout",
     "output_type": "stream",
     "text": [
      "============\n",
      "Hello, world!\n",
      "============\n"
     ]
    }
   ],
   "source": [
    "def text_wrapper(wrap_text):\n",
    "    def wrapped(function):\n",
    "        def wrapper(*args, **kwargs):\n",
    "            result = function(*args, **kwargs)\n",
    "            return f\"{wrap_text}\\n{result}\\n{wrap_text}\"\n",
    "\n",
    "        return wrapper\n",
    "\n",
    "    return wrapped\n",
    "\n",
    "\n",
    "@text_wrapper('============')\n",
    "def my_decorated_function(text):\n",
    "    return text\n",
    "\n",
    "\n",
    "print(my_decorated_function('Hello, world!'))"
   ]
  },
  {
   "attachments": {},
   "cell_type": "markdown",
   "metadata": {},
   "source": [
    "### Контекстный менеджер\n",
    "\n",
    "Код, размещенный внутри оператора with выполняется с особенностью: как до, так и после срабатывают события входа в блок with и выхода из него. Объект, который определяет логику событий, называется контекстным менеджером.\n",
    "\n",
    "На уровне класса события определены методами \\_\\_enter\\_\\_ и \\_\\_exit\\_\\_:  \n",
    "\\_\\_enter\\_\\_ срабатывает в тот момент, когда ход исполнения программы переходит внутрь with. Метод может вернуть значение, оно будет доступно расположенному внутри блока with коду;  \n",
    "\\_\\_exit\\_\\_ срабатывает в момент выхода блока, в т.ч. и в случае исключения. В этом случае в метод будет передана тройка значений (exc_class, exc_instance, traceback).\n",
    "\n",
    "Самый распространённый контекстный менеджер — класс, порожденный функцией open. Он гарантирует, что файл будет закрыт даже в том случае, если внутри блока возникнет ошибка.\n",
    "\n",
    "Желательно побыстрее выходить из контекстного менеджера, освобождая контекст и ресурсы.\n",
    "\n",
    "```python\n",
    "with open('file.txt') as f:\n",
    "    data = f.read()\n",
    "\n",
    "process_data(data)\n",
    "```\n",
    "\n",
    "В примере выше мы вышли из блока with сразу же после прочтения файла. Обработка данных происходит в основном блоке программы.\n",
    "\n",
    ">__Чем контекстный менеджер отличается от блока try-finally?__\n",
    ">\n",
    ">В целом, эти две конструкции весьма близки. Официальная [документация](https://docs.python.org/3/reference/compound_stmts.html#the-with-statement) даже рекомендует использовать with для удобного обёртывания try-finally. Есть [мнение](https://stackoverflow.com/questions/26096435/is-python-with-statement-exactly-equivalent-to-a-try-except-finally-bloc), что контекстный менеджер позволяет более гибко обрабатывать ошибки.\n",
    "\n",
    "Контекстные менеджеры можно использовать для временной замены параметров, переменных окружения, транзакций БД.\n",
    "\n",
    "Напишем свой контекстный менеджер для подключения к БД SQLite:"
   ]
  },
  {
   "cell_type": "code",
   "execution_count": 2,
   "metadata": {},
   "outputs": [],
   "source": [
    "import sqlite3\n",
    "\n",
    "\n",
    "class db_conn:\n",
    "\n",
    "    def __init__(self, db_name):\n",
    "        self.db_name = db_name\n",
    "\n",
    "    # Открываем подключение к БД\n",
    "    def __enter__(self):\n",
    "        self.conn = sqlite3.connect(self.db_name)\n",
    "        return self.conn\n",
    "\n",
    "    # Закрываем подключение к БД\n",
    "    def __exit__(self, exc_type, exc_value, exc_traceback):\n",
    "        self.conn.close()\n",
    "        if exc_value:\n",
    "            raise\n",
    "\n",
    "\n",
    "if __name__ == \"__main__\":\n",
    "    db = \"test_context_connect.db\"\n",
    "\n",
    "    with db_conn(db) as conn:\n",
    "        cursor = conn.cursor()"
   ]
  },
  {
   "cell_type": "markdown",
   "metadata": {},
   "source": [
    ">__Что такое контекстный менеджер?__\n",
    ">\n",
    ">Контекстный менеджер — механизм, обеспечивающий безопасное выполнение кода, связанного с управлением внешними ресурсами.\n",
    ">\n",
    ">Контекстный менеджер определяется методами \\_\\_enter\\_\\_ и \\_\\_exit\\_\\_. \\_\\_enter\\_\\_ срабатывает в момент перехода программы внутрь with. Метод может вернуть значение, оно будет доступно расположенному внутри блока with коду. \\_\\_exit\\_\\_ срабатывает в момент выхода из блока, в т.ч. и в случае исключения. В этом случае в метод будет передана тройка значений (имена аргументов на усмотрение разработчика) — exception_type (тип исключения), exception_instance (объект исключения), traceback (объект, содержащий информацию о последовательности вызовов, которые предшествовали исключению)."
   ]
  },
  {
   "attachments": {},
   "cell_type": "markdown",
   "metadata": {},
   "source": [
    "### Контекстный менеджер на базе contextlib\n",
    "\n",
    "Перепишем наш контекстный менеджер для подключения к БД SQLite при помощи [contextlib](https://docs.python.org/3/library/contextlib.html):"
   ]
  },
  {
   "cell_type": "code",
   "execution_count": 1,
   "metadata": {},
   "outputs": [],
   "source": [
    "import sqlite3\n",
    "from contextlib import contextmanager\n",
    "\n",
    "\n",
    "# Схема конструирования следующая: всё, что написано до оператора yield — вызывается в рамках функции __enter__, всё что после – в рамках __exit__.\n",
    "@contextmanager\n",
    "def db_conn(db_name):\n",
    "    # Открываем подключение к БД\n",
    "    conn = sqlite3.connect(db_name)\n",
    "\n",
    "    yield conn\n",
    "\n",
    "    # Закрываем подключение к БД\n",
    "    conn.close()\n",
    "\n",
    "\n",
    "if __name__ == \"__main__\":\n",
    "    db = \"test_contextlib_connect.db\"\n",
    "\n",
    "    with db_conn(db) as conn:\n",
    "        cursor = conn.cursor()"
   ]
  }
 ],
 "metadata": {
  "kernelspec": {
   "display_name": "Python 3",
   "language": "python",
   "name": "python3"
  },
  "language_info": {
   "codemirror_mode": {
    "name": "ipython",
    "version": 3
   },
   "file_extension": ".py",
   "mimetype": "text/x-python",
   "name": "python",
   "nbconvert_exporter": "python",
   "pygments_lexer": "ipython3",
   "version": "3.13.0"
  },
  "orig_nbformat": 4,
  "vscode": {
   "interpreter": {
    "hash": "26de051ba29f2982a8de78e945f0abaf191376122a1563185a90213a26c5da77"
   }
  }
 },
 "nbformat": 4,
 "nbformat_minor": 2
}
