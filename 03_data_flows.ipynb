{
 "cells": [
  {
   "attachments": {},
   "cell_type": "markdown",
   "metadata": {},
   "source": [
    "## 3. Потоки данных\n",
    "\n",
    "![Data Flows](https://raw.githubusercontent.com/amaargiru/pycore/main/pics/03_Data_Flows.png)  "
   ]
  },
  {
   "cell_type": "markdown",
   "metadata": {},
   "source": [
    "### Itertools\n",
    "\n",
    "Методы модуля itertools возвращают *итераторы*.\n",
    "\n",
    "Итератор — механизм поэлементного обхода данных, который использует метод next() для получения следующего значения последовательности. Подробнее создание итераторов будет рассмотрено ниже, в разделе «ООП / Утиная типизация». В «нормальные» данные итераторы превращаются посредством for, next или list().\n",
    "\n",
    "Itertools содержит множество готовых итераторов, которые могут быть бесконечными (порождаются при помощи count, cycle или repeat), конечными (accumulate, chain, takewhile и другие) и комбинаторными (product, combinations, combinations_with_replacement, permutations). Лучше изучить их все, хотя бы поверхностно, потому что даже относительно редко употребляемый метод, например, какой-нибудь zip_longest(), иногда весьма и весьма пригождается, идеально ложась на поставленную задачу.\n",
    "\n",
    ">__Что такое итератор?__\n",
    ">\n",
    ">Итератор — класс, реализующий методы \\_\\_next__ и \\_\\_iter__.  Метод \\_\\_next__ должен возвращать следующее значение итератора или выкидывать исключение StopIteration, сигнализируя, что итератор исчерпал доступные значения, метод \\_\\_iter\\_\\_() должен возвращать \"self\".\n",
    "\n",
    "Пример работы с бесконечными итераторами:"
   ]
  },
  {
   "cell_type": "code",
   "execution_count": 5,
   "metadata": {},
   "outputs": [
    {
     "name": "stdout",
     "output_type": "stream",
     "text": [
      "0\n",
      "0.1\n",
      "0.2\n",
      "1\n",
      "2\n",
      "1\n",
      "['Wow!', 'Wow!', 'Wow!']\n"
     ]
    }
   ],
   "source": [
    "from itertools import count, repeat, cycle\n",
    "\n",
    "# Итератор, возвращающий равномерно распределенные значения\n",
    "i1 = count(start=0, step=.1)\n",
    "print(next(i1))\n",
    "print(next(i1))\n",
    "print(next(i1))\n",
    "\n",
    "# Итератор, циклично и бесконечно возвращающий элементы итерируемого объекта\n",
    "i2 = cycle([1, 2])\n",
    "print(next(i2))\n",
    "print(next(i2))\n",
    "print(next(i2))\n",
    "\n",
    "# Итератор, возвращающий один и тот же объект бесконечно, если не указано значение аргумента times\n",
    "i3 = repeat(\"Wow!\", times=3)\n",
    "print(list(i3))"
   ]
  },
  {
   "cell_type": "markdown",
   "metadata": {},
   "source": [
    "Применение некоторых конечных итераторов:"
   ]
  },
  {
   "cell_type": "code",
   "execution_count": 21,
   "metadata": {},
   "outputs": [
    {
     "name": "stdout",
     "output_type": "stream",
     "text": [
      "[1, 3, 6, 10] [10, 11, 13, 16, 20]\n",
      "[-3, 6, -6, -6, -12, -36, -144]\n",
      "[1, 5, 11, 19]\n",
      "[1, 5, 11, 19]\n",
      "['A', 'B', 'C', 'F']\n",
      "[6, 4, 1, 1, 1, 0]\n",
      "[1, 4]\n",
      "['A', 'B', 'C', 'D', 'E', 'F', 'G', 'H', 'I']\n",
      "['A', 'B', 'C', 'D', 'E', 'F', 'G', 'H', 'I']\n",
      "[(1, 2), (2, 3), (3, 4), (4, 5)]\n"
     ]
    }
   ],
   "source": [
    "from itertools import accumulate, chain, compress, dropwhile, takewhile, pairwise\n",
    "import operator\n",
    "\n",
    "# Итератор, возвращающий накопленный результат выполнения указанной функции (по умолчанию — сложение)\n",
    "\n",
    "i1 = accumulate([1, 2, 3, 4])\n",
    "i2 = accumulate([1, 2, 3, 4], initial=10)\n",
    "print(list(i1), list(i2))\n",
    "\n",
    "i3 = accumulate([ -3, -2, -1, 1, 2, 3, 4], operator.mul)\n",
    "print(list(i3))\n",
    "\n",
    "# Можно использовать свою функцию\n",
    "def myfunc(accumulated, current):\n",
    "    return accumulated + 2 * current\n",
    "\n",
    "i4 = accumulate([1, 2, 3, 4], func=myfunc)\n",
    "print(list(i4))\n",
    "\n",
    "# Можно использовать лямбду (подробнее рассмотрены ниже)\n",
    "i5 = accumulate([1, 2, 3, 4], lambda accumulated, current: accumulated + 2 * current)\n",
    "print(list(i5))\n",
    "\n",
    "# Итератор, возвращающий только те элементы входной последовательности,\n",
    "# которые имеют соответствующий элемент, равный True или 1 в последовательности selectors\n",
    "i6 = compress(\"ABCDEF\", [1, 1, 1, 0, 0, 1])\n",
    "print(list(i6))\n",
    "\n",
    "# Итератор, отбрасывающий элементы входной последовательности, если результат выполнения функции равен True.\n",
    "# Как только предикат становится False, то отбрасывание прекращается (предикат больше не применяется)\n",
    "i7 = dropwhile(lambda x: x<5, [1, 4, 6, 4, 1, 1, 1, 0])\n",
    "print(list(i7))\n",
    "\n",
    "# takewhile, в отличие от dropwhile, наоборот, возвращает элементы входной последовательности,\n",
    "# если результат выполнения функции равен True\n",
    "i8 = takewhile(lambda x: x<5, [1, 4, 6, 0, 4, 1, 2, 1])\n",
    "print(list(i8))\n",
    "\n",
    "# Итератор, формирующий из нескольких входных последовательностей одну общую\n",
    "i2 = chain([\"A\", \"B\", \"C\"],[\"D\", \"E\", \"F\"],[\"G\", \"H\", \"I\"])\n",
    "print(list(i2))\n",
    "# Кстати, такой же трюк можно провернуть при помощи обычной sum(), задав ей начальный параметр [] (т. е. пустой список)\n",
    "a = sum([[\"A\", \"B\", \"C\"],[\"D\", \"E\", \"F\"],[\"G\", \"H\", \"I\"]], [])\n",
    "print(a)\n",
    "\n",
    "# Возвращает элементы входной коллекции попарно\n",
    "i6 = pairwise([1, 2, 3, 4, 5])\n",
    "print(list(i6))"
   ]
  },
  {
   "cell_type": "markdown",
   "metadata": {},
   "source": [
    "Комбинаторика"
   ]
  },
  {
   "cell_type": "code",
   "execution_count": 6,
   "metadata": {},
   "outputs": [
    {
     "name": "stdout",
     "output_type": "stream",
     "text": [
      "[('a', 'x'), ('a', 'y'), ('a', 'z'), ('b', 'x'), ('b', 'y'), ('b', 'z'), ('c', 'x'), ('c', 'y'), ('c', 'z')]\n",
      "[(0, 0, 0), (0, 0, 1), (0, 1, 0), (0, 1, 1), (1, 0, 0), (1, 0, 1), (1, 1, 0), (1, 1, 1)]\n",
      "[('a', 'b'), ('a', 'c'), ('b', 'c')]\n",
      "[('a', 'b'), ('a', 'c'), ('b', 'a'), ('b', 'c'), ('c', 'a'), ('c', 'b')]\n",
      "[('a', 'a'), ('a', 'b'), ('a', 'c'), ('b', 'b'), ('b', 'c'), ('c', 'c')]\n"
     ]
    }
   ],
   "source": [
    "from itertools import product, combinations, combinations_with_replacement, permutations\n",
    "\n",
    "# Создает множество, содержащее все упорядоченные пары элементов из входных множеств\n",
    "a = product(\"abc\", \"xyz\")\n",
    "print(list(a))\n",
    "\n",
    "b = product([0, 1], repeat=3)\n",
    "print(list(b))\n",
    "\n",
    "# Возвращает подпоследовательности длины r из элементов входного итерируемого объекта, повторяющиеся элементы не допускаются\n",
    "c = combinations(\"abc\", r=2)\n",
    "print(list(c))\n",
    "\n",
    "# Выдает перестановки элементов итерируемого объекта\n",
    "d = permutations(\"abc\", r=2)\n",
    "print(list(d))\n",
    "\n",
    "# Возвращает подпоследовательности длины r из элементов входного итерируемого объекта, повторяющиеся элементы допустимы\n",
    "e = combinations_with_replacement(\"abc\", r=2)\n",
    "print(list(e))"
   ]
  },
  {
   "cell_type": "markdown",
   "metadata": {},
   "source": [
    "### chunked\n",
    "\n",
    "Разбивает итерируемый объект на списки заданного размера."
   ]
  },
  {
   "cell_type": "code",
   "execution_count": 2,
   "metadata": {},
   "outputs": [
    {
     "name": "stdout",
     "output_type": "stream",
     "text": [
      "[[1, 2], [3, 4], [5, 6]]\n"
     ]
    }
   ],
   "source": [
    "from more_itertools import chunked\n",
    "\n",
    "data = [1, 2, 3, 4, 5, 6]\n",
    "result = list(chunked(data, 2))\n",
    "print(result)"
   ]
  },
  {
   "cell_type": "markdown",
   "metadata": {},
   "source": [
    "### collapse\n",
    "\n",
    "Преобразует вложенные итерируемые объекты в плоский список. Есть еще метод flatten, он преобразует только первый уровень вложенности."
   ]
  },
  {
   "cell_type": "code",
   "execution_count": 8,
   "metadata": {},
   "outputs": [
    {
     "name": "stdout",
     "output_type": "stream",
     "text": [
      "[1, 2, 3, 4, 5, 6]\n"
     ]
    }
   ],
   "source": [
    "from more_itertools import collapse\n",
    "\n",
    "nested = [[1, 2], 3, [4, [5, 6]]]\n",
    "result = list(collapse(nested))\n",
    "print(result)"
   ]
  },
  {
   "cell_type": "markdown",
   "metadata": {},
   "source": [
    "### sliding_window\n",
    "\n",
    "Создает \"скользящее окно\" из нескольких последовательных элементов."
   ]
  },
  {
   "cell_type": "code",
   "execution_count": 9,
   "metadata": {},
   "outputs": [
    {
     "name": "stdout",
     "output_type": "stream",
     "text": [
      "[(1, 2, 'middle'), (2, 'middle', 4), ('middle', 4, 5)]\n"
     ]
    }
   ],
   "source": [
    "from more_itertools import sliding_window\n",
    "\n",
    "data = [1, 2, \"middle\", 4, 5]\n",
    "result = list(sliding_window(data, 3))\n",
    "print(result)"
   ]
  },
  {
   "cell_type": "markdown",
   "metadata": {},
   "source": [
    "### unique_everseen\n",
    "\n",
    "Возвращает уникальные элементы, сохраняя порядок появления."
   ]
  },
  {
   "cell_type": "code",
   "execution_count": 12,
   "metadata": {},
   "outputs": [
    {
     "name": "stdout",
     "output_type": "stream",
     "text": [
      "[1, 2, 4, 3]\n",
      "['a', 'b']\n"
     ]
    }
   ],
   "source": [
    "from more_itertools import unique_everseen\n",
    "\n",
    "data = [1, 2, 2, 4, 3, 4]\n",
    "result = list(unique_everseen(data))\n",
    "print(result)\n",
    "\n",
    "# Пример с лямбдой в качестве ключа (игнорирование регистра)\n",
    "data = [\"a\", \"A\", \"b\", \"B\"]\n",
    "result = list(unique_everseen(data, key=lambda x: x.lower()))\n",
    "print(result)"
   ]
  },
  {
   "cell_type": "markdown",
   "metadata": {},
   "source": [
    "### batched\n",
    "\n",
    "Разбивает итерируемый объект на кортежи фиксированной длины. Если элементов недостаточно, последний кортеж может быть укорочен."
   ]
  },
  {
   "cell_type": "code",
   "execution_count": 13,
   "metadata": {},
   "outputs": [
    {
     "name": "stdout",
     "output_type": "stream",
     "text": [
      "[(1, 2), (3, 4), (5,)]\n"
     ]
    }
   ],
   "source": [
    "from more_itertools import batched\n",
    "\n",
    "data = [1, 2, 3, 4, 5]\n",
    "result = list(batched(data, 2))\n",
    "print(result)"
   ]
  },
  {
   "cell_type": "markdown",
   "metadata": {},
   "source": [
    "### take\n",
    "\n",
    "Возвращает первые n элементов итерируемого объекта."
   ]
  },
  {
   "cell_type": "code",
   "execution_count": 15,
   "metadata": {},
   "outputs": [
    {
     "name": "stdout",
     "output_type": "stream",
     "text": [
      "[1, 2, 3]\n",
      "[1, 2, 3, 4, 5]\n"
     ]
    }
   ],
   "source": [
    "from more_itertools import take\n",
    "\n",
    "data = [1, 2, 3, 4, 5]\n",
    "result = list(take(3, data))\n",
    "print(result)\n",
    "\n",
    "# Если элементов меньше n\n",
    "result = list(take(10, data))\n",
    "print(result)"
   ]
  },
  {
   "attachments": {},
   "cell_type": "markdown",
   "metadata": {},
   "source": [
    "### Enumerate\n",
    "\n",
    "Иногда, при переборе объектов в цикле for, нужно получить не только сам объект, но и его порядковый номер. Разумеется, это можно сделать, создав дополнительную переменную, которая будет инкрементироваться на каждом шаге цикла. Однако, можно делать это удобнее, при помощи итератора enumerate, введенным в [PEP-279](https://peps.python.org/pep-0279/). Enumerate — синтаксический сахар («introduces ... to simplify a commonly used looping idiom»), позволяющий проще и нагляднее работать с объектами, поддерживающими итерацию. Метод \\_\\_next\\_\\_() enumerate возвращает кортеж, содержащий значение индекса и соответствующее этому индексу значение.\n",
    "\n",
    "В документации работа enumerate упрощенно объясняется через генератор:\n",
    "\n",
    "```python\n",
    "def enumerate(sequence, start=0):\n",
    "    n = start\n",
    "    for elem in sequence:\n",
    "        yield n, elem\n",
    "        n += 1\n",
    "```\n",
    "\n",
    "На самом деле enumerate — не генератор, а итератор:"
   ]
  },
  {
   "cell_type": "code",
   "execution_count": 2,
   "metadata": {},
   "outputs": [
    {
     "name": "stdout",
     "output_type": "stream",
     "text": [
      "True\n",
      "True\n",
      "True\n",
      "False\n"
     ]
    }
   ],
   "source": [
    "import collections\n",
    "import types\n",
    "\n",
    "e = enumerate(\"abcdef\")\n",
    "print(isinstance(e, enumerate))\n",
    "print(isinstance(e, collections.Iterable))\n",
    "print(isinstance(e, collections.Iterator))\n",
    "print(isinstance(e, types.GeneratorType))"
   ]
  },
  {
   "attachments": {},
   "cell_type": "markdown",
   "metadata": {},
   "source": [
    "Enumerate реализован не на Python, а на C, и в его [исходном коде](https://github.com/python/cpython/blob/master/Objects/enumobject.c#L289), разумеется, нет ключевого слова yield.\n",
    "\n",
    "Примеры использования enumerate:"
   ]
  },
  {
   "cell_type": "code",
   "execution_count": 8,
   "metadata": {},
   "outputs": [
    {
     "name": "stdout",
     "output_type": "stream",
     "text": [
      "0 a\n",
      "1 b\n",
      "2 c\n",
      "3 d\n",
      "\n",
      "\n",
      "10 a\n",
      "11 b\n",
      "12 c\n",
      "13 d\n"
     ]
    }
   ],
   "source": [
    "values = [\"a\", \"b\", \"c\", \"d\"]\n",
    "\n",
    "for count, value in enumerate(values):\n",
    "    print(count, value)\n",
    "\n",
    "print(\"\\n\")\n",
    "\n",
    "for count, value in enumerate(values, start=10 ):\n",
    "    print(count, value)"
   ]
  },
  {
   "cell_type": "markdown",
   "metadata": {},
   "source": [
    "### Генератор (generator)\n",
    "\n",
    "Генератор — любая функция, содержащая ключевое слово *yield* и возвращающая итератор. Генератор не хранит в памяти все необходимые элементы, а просто содержит метод для вычисления очередного значения; результат может создаваться на основе математического алгоритма или брать элементы из другого источника данных (коллекция, файл, сетевое подключение и т. д.), при необходимости модифицируя их.\n",
    "\n",
    "Пройти генератор в цикле можно только один раз, на каждом шаге возможно вычислить только следующий элемент, но не предыдущий. Элемент генератора нельзя извлечь по индексу, будет выброшена ошибка, т. к. генератор не поддерживает метод \\_\\_getitem__.\n",
    "\n",
    "Объекты-генераторы не дают выигрыша по времени и памяти в том случае, если вам нужно работать сразу со всеми элементами коллекции, а не только с каким-то одним. Объекты-генераторы не дают выигрыша по времени, если вы последовательно запрашиваете все возможные элементы. При этом выигрыш по памяти остаётся.\n",
    "\n",
    ">__Что такое генератор?__\n",
    ">\n",
    ">Любая функция, содержащая ключевое слово yield и возвращающая итератор.\n",
    "\n",
    "Бесконечный генератор:"
   ]
  },
  {
   "cell_type": "code",
   "execution_count": 3,
   "metadata": {},
   "outputs": [
    {
     "name": "stdout",
     "output_type": "stream",
     "text": [
      "100\n",
      "110\n",
      "120\n"
     ]
    }
   ],
   "source": [
    "def count(start, step):\n",
    "    current = start\n",
    "    while True:\n",
    "        yield current\n",
    "        current += step\n",
    "\n",
    "c = count(100, 10)\n",
    "\n",
    "print(next(c))\n",
    "print(next(c))\n",
    "print(next(c))"
   ]
  },
  {
   "attachments": {},
   "cell_type": "markdown",
   "metadata": {},
   "source": [
    "Конечный генератор.\n",
    "Также, как и конечный итератор, конечный генератор можно превратить в список при помощи list() (вы можете попробовать превратить в list и бесконечный генератор, но процесс рискует несколько затянуться :):"
   ]
  },
  {
   "cell_type": "code",
   "execution_count": 2,
   "metadata": {},
   "outputs": [
    {
     "name": "stdout",
     "output_type": "stream",
     "text": [
      "100\n",
      "110\n",
      "120\n",
      "[130, 140, 150, 160, 170, 180, 190, 200]\n"
     ]
    }
   ],
   "source": [
    "def count(start, stop, step):\n",
    "    current = start\n",
    "    while current <= stop:\n",
    "        yield current\n",
    "        current += step\n",
    "\n",
    "c = count(100, 200, 10)\n",
    "\n",
    "print(next(c))\n",
    "print(next(c))\n",
    "print(next(c))\n",
    "print(list(c))"
   ]
  },
  {
   "cell_type": "markdown",
   "metadata": {},
   "source": [
    "Следует разделять итераторы и генераторы. Итератор — объект, который использует метод \\_\\_next\\_\\_() для получения следующего значения последовательности. Генератор — функция, которая позволяет отложено создавать результат при итерации.\n",
    "\n",
    ">__В чем разница между итератором и генератором?__\n",
    ">\n",
    ">Итератор является более общей концепцией, чем генератор, и представляет собой любой объект, класс которого имеет методы \\_\\_next__ и \\_\\_iter__. Генератор — это функция, содержащая хотя бы один метод yield, и возвращающая итератор."
   ]
  },
  {
   "cell_type": "markdown",
   "metadata": {},
   "source": [
    "#### Объявление генератора\n",
    "\n",
    "Объявить генератор можно несколькими методами. Первый метод — объявить функцию с yield, как было показано выше.  \n",
    "Второй метод — использовать *генераторное выражение* (generator expression):"
   ]
  },
  {
   "cell_type": "code",
   "execution_count": 2,
   "metadata": {},
   "outputs": [
    {
     "name": "stdout",
     "output_type": "stream",
     "text": [
      "[1, 4, 9, 16, 25, 36, 49, 64, 81, 100]\n"
     ]
    }
   ],
   "source": [
    "r = range(1, 11)\n",
    "squares = (n**2 for n in r)\n",
    "\n",
    "print(list(squares))"
   ]
  },
  {
   "cell_type": "markdown",
   "metadata": {},
   "source": [
    "Можно объединить генераторы или делегировать часть функционала генератора другому генератору при помощи конструкции *yield from*:"
   ]
  },
  {
   "cell_type": "code",
   "execution_count": 6,
   "metadata": {},
   "outputs": [
    {
     "name": "stdout",
     "output_type": "stream",
     "text": [
      "Hello World ! "
     ]
    }
   ],
   "source": [
    "def subg():\n",
    "    yield 'World'\n",
    "\n",
    "def generator():\n",
    "    yield 'Hello'\n",
    "    yield from subg()\n",
    "    yield '!'\n",
    "\n",
    "for i in generator():\n",
    "    print(i, end = ' ')"
   ]
  },
  {
   "cell_type": "markdown",
   "metadata": {},
   "source": [
    "До широкого распространения asyncio конструкция yield from использовалась для создания [корутин на базе генераторов](https://docs.python.org/3.7/library/asyncio-task.html#asyncio.coroutine)."
   ]
  },
  {
   "cell_type": "markdown",
   "metadata": {},
   "source": [
    "### Замыкания (closures)\n",
    "\n",
    "Формально, замыкание — это функция, которая сохраняет доступ к переменным из внешней области видимости, даже после того, как внешняя функция завершила работу. Важно подчеркнуть, что замыкания позволяют сохранять состояние между вызовами функции. На базе замыканий можно реализовать, например, функции, запоминающие своё состояние между вызовами (и тем самым избежать применения глобальных переменных) или декораторы, рассмотренные чуть ниже."
   ]
  },
  {
   "cell_type": "code",
   "execution_count": 9,
   "metadata": {},
   "outputs": [
    {
     "name": "stdout",
     "output_type": "stream",
     "text": [
      "5.0\n",
      "7.5\n",
      "10.0\n",
      "11.25\n",
      "13.0\n",
      "11.5\n"
     ]
    }
   ],
   "source": [
    "class Averager:  # Пример функции, запоминающие своё состояние между вызовами, без использования замыкания\n",
    "    def __init__(self):\n",
    "        self.count = 0\n",
    "        self.total = 0\n",
    "\n",
    "    def add(self, n):\n",
    "        self.count += 1\n",
    "        self.total += n\n",
    "        return self.total / self.count\n",
    "\n",
    "\n",
    "avg = Averager()\n",
    "for n in [5, 10, 15, 15, 20, 4]:\n",
    "    print(avg.add(n))"
   ]
  },
  {
   "cell_type": "code",
   "execution_count": 12,
   "metadata": {},
   "outputs": [
    {
     "name": "stdout",
     "output_type": "stream",
     "text": [
      "5.0\n",
      "7.5\n",
      "10.0\n",
      "11.25\n",
      "13.0\n",
      "11.5\n"
     ]
    }
   ],
   "source": [
    "def averager():  # А вот несколько более читаемый вариант с использованием замыкания\n",
    "    count = 0\n",
    "    total = 0\n",
    "\n",
    "    def add(n):\n",
    "        nonlocal count, total\n",
    "        count += 1\n",
    "        total += n\n",
    "        return total / count\n",
    "\n",
    "    return add\n",
    "\n",
    "\n",
    "avg = averager()\n",
    "for n in [5, 10, 15, 15, 20, 4]:\n",
    "    print(avg(n))"
   ]
  },
  {
   "cell_type": "markdown",
   "metadata": {},
   "source": [
    "Если вы не видите прям уж разительных отличий между первым и вторым вариантами - ничего страшного. Есть языки программирования, в которых замыкания действительно крайне необходимы и позволяют обойти некоторые другие ограничения; в Python замыкания тоже полезны, но не до такой степени.\n",
    "\n",
    "Вот вам еще пара классических примеров использования замыканий, счётчик вызовов и настраиваемый умножитель:"
   ]
  },
  {
   "cell_type": "code",
   "execution_count": 13,
   "metadata": {},
   "outputs": [
    {
     "name": "stdout",
     "output_type": "stream",
     "text": [
      "1\n",
      "2\n",
      "3\n"
     ]
    }
   ],
   "source": [
    "def create_counter():\n",
    "    count = 0  # Переменная внешней функции\n",
    "\n",
    "    def counter():\n",
    "        nonlocal count  # Разрешаем изменение переменной\n",
    "        count += 1\n",
    "        return count\n",
    "\n",
    "    return counter  # Возвращаем замыкание\n",
    "\n",
    "# Создаем экземпляр счетчика\n",
    "my_counter = create_counter()\n",
    "\n",
    "print(my_counter())\n",
    "print(my_counter())\n",
    "print(my_counter())"
   ]
  },
  {
   "cell_type": "code",
   "execution_count": 14,
   "metadata": {},
   "outputs": [
    {
     "name": "stdout",
     "output_type": "stream",
     "text": [
      "10\n",
      "15\n"
     ]
    }
   ],
   "source": [
    "def multiplier(n):\n",
    "    def multiply(x):\n",
    "        return x * n  # Значение n сохранено из внешней области видимости\n",
    "    return multiply\n",
    "\n",
    "# Создаем функции-умножители\n",
    "double = multiplier(2)\n",
    "triple = multiplier(3)\n",
    "\n",
    "print(double(5))\n",
    "print(triple(5))"
   ]
  },
  {
   "cell_type": "markdown",
   "metadata": {},
   "source": [
    "Помните, что замыкания хранят ссылки на переменные, а не их значения; если переменная изменяется, это отразится в замыкании. Это важно учитывать, чтобы избежать неприятных сюрпризов, особенно внутри цикла или в асинхронном коде."
   ]
  },
  {
   "attachments": {},
   "cell_type": "markdown",
   "metadata": {},
   "source": [
    "\n",
    "### Декораторы (decorators)\n",
    "\n",
    "Что такое декораторы?\n",
    "\n",
    "Декоратор в широком смысле – паттерн проектирования, когда один объект изменяет поведение другого. Декораторы в Python — это, по сути, своеобразные «обёртки», которые дают нам возможность делать что-либо до или после того, что сделает декорируемая функция, не изменяя её. Можно сказать, что декоратор является просто синтаксическим сахаром для конструкции вида:\n",
    "\n",
    "```\n",
    "my_function = my_decorator(my_function)\n",
    "```"
   ]
  },
  {
   "cell_type": "code",
   "execution_count": 3,
   "metadata": {},
   "outputs": [
    {
     "name": "stdout",
     "output_type": "stream",
     "text": [
      "<b><i>Hello, world!</i></b>\n"
     ]
    }
   ],
   "source": [
    "def makebold(fn):\n",
    "    def wrapped():\n",
    "        return \"<b>\" + fn() + \"</b>\"\n",
    "\n",
    "    return wrapped\n",
    "\n",
    "\n",
    "def makeitalic(fn):\n",
    "    def wrapped():\n",
    "        return \"<i>\" + fn() + \"</i>\"\n",
    "\n",
    "    return wrapped\n",
    "\n",
    "# Разумеется, при последовательном применении нескольких декораторов играет роль порядок декорирования.\n",
    "@makebold\n",
    "@makeitalic\n",
    "def hello():\n",
    "    return \"Hello, world!\"\n",
    "\n",
    "print(hello())"
   ]
  },
  {
   "attachments": {},
   "cell_type": "markdown",
   "metadata": {},
   "source": [
    "Декоратор, подсчитывающий время работы оборачиваемой функции:"
   ]
  },
  {
   "cell_type": "code",
   "execution_count": 4,
   "metadata": {},
   "outputs": [
    {
     "name": "stdout",
     "output_type": "stream",
     "text": [
      "1002478400 ns\n",
      "3\n"
     ]
    }
   ],
   "source": [
    "import time\n",
    "\n",
    "def perf_counter(function):\n",
    "    def counted(*args):\n",
    "        start_time = time.perf_counter_ns()\n",
    "        res = function(*args)\n",
    "        print(f\"{time.perf_counter_ns() - start_time} ns\")\n",
    "        return res\n",
    "\n",
    "    return counted\n",
    "\n",
    "\n",
    "@perf_counter\n",
    "def slow_sum(x, y):\n",
    "    time.sleep(1)\n",
    "    return x + y\n",
    "\n",
    "\n",
    "print(slow_sum(1, 2))"
   ]
  },
  {
   "cell_type": "markdown",
   "metadata": {},
   "source": [
    ">__Что такое декоратор?__\n",
    ">\n",
    ">Декоратор — «обёртка», паттерн проектирования, когда один объект изменяет поведение другого. Декоратор позволяет применять определенные действия до или после декорируемой функции и является синтаксическим сахаром для конструкции вида my_function = my_decorator(my_function)."
   ]
  },
  {
   "cell_type": "markdown",
   "metadata": {},
   "source": [
    "### Параметризованный декоратор\n",
    "\n",
    "В декоратор можно передать и позиционные, и именованные аргументы — args и kwargs соответственно. Синтаксис декораторов с аргументами немного отличается — декоратор с аргументами должен возвращать функцию, которая принимает функцию и возвращает другую функцию. Так что в результате декоратор с аргументами должен возвращать обычный декоратор:"
   ]
  },
  {
   "cell_type": "code",
   "execution_count": 24,
   "metadata": {},
   "outputs": [
    {
     "name": "stdout",
     "output_type": "stream",
     "text": [
      "============\n",
      "Hello, world!\n",
      "============\n"
     ]
    }
   ],
   "source": [
    "def text_wrapper(wrap_text):\n",
    "    def wrapped(function):\n",
    "        def wrapper(*args, **kwargs):\n",
    "            result = function(*args, **kwargs)\n",
    "            return f\"{wrap_text}\\n{result}\\n{wrap_text}\"\n",
    "\n",
    "        return wrapper\n",
    "\n",
    "    return wrapped\n",
    "\n",
    "\n",
    "@text_wrapper('============')\n",
    "def my_decorated_function(text):\n",
    "    return text\n",
    "\n",
    "\n",
    "print(my_decorated_function('Hello, world!'))"
   ]
  },
  {
   "cell_type": "markdown",
   "metadata": {},
   "source": [
    "Еще один пример параметризированного декоратора:"
   ]
  },
  {
   "cell_type": "code",
   "execution_count": 22,
   "metadata": {},
   "outputs": [
    {
     "name": "stdout",
     "output_type": "stream",
     "text": [
      "Hello, Bob!\n",
      "Hello, Bob!\n",
      "Hello, Bob!\n",
      "\n",
      "\n",
      "wrapper\n",
      "None\n"
     ]
    }
   ],
   "source": [
    "def repeat(times):\n",
    "    def decorator(func):\n",
    "        def wrapper(*args, **kwargs):\n",
    "            for _ in range(times):\n",
    "                result = func(*args, **kwargs)\n",
    "            return result\n",
    "        return wrapper\n",
    "    return decorator\n",
    "\n",
    "@repeat(times=3)\n",
    "def say_hello(name):\n",
    "    \"\"\"Функция приветствия.\"\"\"\n",
    "    print(f\"Hello, {name}!\")\n",
    "\n",
    "say_hello(\"Bob\")\n",
    "\n",
    "print(\"\\n\")\n",
    "print(say_hello.__name__)\n",
    "print(say_hello.__doc__)"
   ]
  },
  {
   "cell_type": "markdown",
   "metadata": {},
   "source": [
    "Обратите внимание на последние две строчки. Чтобы избежать потери информации об исходной функции, в декоратор можно добавить functools.wraps:"
   ]
  },
  {
   "cell_type": "code",
   "execution_count": 23,
   "metadata": {},
   "outputs": [
    {
     "name": "stdout",
     "output_type": "stream",
     "text": [
      "Hello, Bob!\n",
      "Hello, Bob!\n",
      "Hello, Bob!\n",
      "\n",
      "\n",
      "say_hello\n",
      "Функция приветствия.\n"
     ]
    }
   ],
   "source": [
    "from functools import wraps\n",
    "\n",
    "def repeat(times):\n",
    "    def decorator(func):\n",
    "        @wraps(func)  # Сохраняем метаданные исходной функции\n",
    "        def wrapper(*args, **kwargs):\n",
    "            for _ in range(times):\n",
    "                result = func(*args, **kwargs)\n",
    "            return result\n",
    "        return wrapper\n",
    "    return decorator\n",
    "\n",
    "@repeat(times=3)\n",
    "def say_hello(name):\n",
    "    \"\"\"Функция приветствия.\"\"\"\n",
    "    print(f\"Hello, {name}!\")\n",
    "\n",
    "say_hello(\"Bob\")\n",
    "\n",
    "print(\"\\n\")\n",
    "print(say_hello.__name__)\n",
    "print(say_hello.__doc__)"
   ]
  },
  {
   "attachments": {},
   "cell_type": "markdown",
   "metadata": {},
   "source": [
    "### @lru_cache\n",
    "\n",
    "Декоратор, кеширующий значения, возвращаемые функцией. Все аргументы функции должны быть хэшируемы."
   ]
  },
  {
   "cell_type": "code",
   "execution_count": 5,
   "metadata": {},
   "outputs": [
    {
     "name": "stdout",
     "output_type": "stream",
     "text": [
      "5 4 3 2 \n",
      "\n",
      "9 8 7 6 5 4 3 2 \n",
      "\n",
      "5 4 3 2 \n",
      "\n",
      "9 8 7 6 "
     ]
    },
    {
     "data": {
      "text/plain": [
       "45"
      ]
     },
     "execution_count": 5,
     "metadata": {},
     "output_type": "execute_result"
    }
   ],
   "source": [
    "import functools\n",
    "\n",
    "\n",
    "def recursion_sum(n):\n",
    "    if n == 1:\n",
    "        return n\n",
    "    print(n, end=\" \")\n",
    "    return n + recursion_sum(n - 1)\n",
    "\n",
    "\n",
    "recursion_sum(5)\n",
    "print(\"\\n\")\n",
    "recursion_sum(9)\n",
    "print(\"\\n\")\n",
    "\n",
    "\n",
    "@functools.lru_cache\n",
    "def recursion_sum2(n):\n",
    "    if n == 1:\n",
    "        return n\n",
    "    print(n, end=\" \")\n",
    "    return n + recursion_sum2(n - 1)\n",
    "\n",
    "\n",
    "recursion_sum2(5)\n",
    "print(\"\\n\")\n",
    "recursion_sum2(9)"
   ]
  },
  {
   "attachments": {},
   "cell_type": "markdown",
   "metadata": {},
   "source": [
    "Размер кеша по умолчанию 128 значений. Ограничение можно отменить при помощи 'maxsize=None'.\n",
    "\n",
    "Небольшая справка: кроме вытеснения давно неиспользуемых данных (least-recently-used, LRU) есть еще вытеснение наименее часто используемых данных (least-frequently-used, LFU).\n",
    "\n",
    "Пока мы не ушли далеко от темы кеша, погуглите заодно модуль weakref и WeakValueDictionary, позволяющие организовать более гибкую работу с кешем."
   ]
  },
  {
   "cell_type": "markdown",
   "metadata": {},
   "source": [
    "### @cache\n",
    "\n",
    "functools.cache был добавлен в версии 3.9. @cache - это просто обёртка над lru_cache(maxsize=None). Вот, собственно, полный исходный код ([источник](https://github.com/python/cpython/blob/3.9/Lib/functools.py#L646)):\n",
    "\n",
    "```python\n",
    "################################################################################\n",
    "### cache -- simplified access to the infinity cache\n",
    "################################################################################\n",
    "\n",
    "def cache(user_function, /):\n",
    "    'Simple lightweight unbounded cache.  Sometimes called \"memoize\".'\n",
    "    return lru_cache(maxsize=None)(user_function)\n",
    "```"
   ]
  },
  {
   "cell_type": "markdown",
   "metadata": {},
   "source": [
    "### @cached_property\n",
    "\n",
    "cached_property нужен для кэширования однократных тяжелых вычислений, где значение не меняется в течение всей жизни объекта. Работает как обычное свойство (property), не ломая инкапсуляцию.\n",
    "\n",
    "Пример без cached_property (ручное кэширование):"
   ]
  },
  {
   "cell_type": "code",
   "execution_count": 25,
   "metadata": {},
   "outputs": [
    {
     "name": "stdout",
     "output_type": "stream",
     "text": [
      "Вычисление площади...\n",
      "78.5\n",
      "78.5\n"
     ]
    }
   ],
   "source": [
    "class Circle:\n",
    "    def __init__(self, radius):\n",
    "        self.radius = radius\n",
    "        self._area = None  # Ручное управление кэшем\n",
    "\n",
    "    @property\n",
    "    def area(self):\n",
    "        if self._area is None:  # Проверка кэша\n",
    "            print(\"Вычисление площади...\")\n",
    "            self._area = 3.14 * self.radius ** 2\n",
    "        return self._area\n",
    "\n",
    "circle = Circle(5)\n",
    "print(circle.area)  # Площадь будет вычислена при первом вызове\n",
    "print(circle.area)  # Площадь берется из кэша"
   ]
  },
  {
   "cell_type": "markdown",
   "metadata": {},
   "source": [
    "Тот же пример с использованием cached_property:"
   ]
  },
  {
   "cell_type": "code",
   "execution_count": 26,
   "metadata": {},
   "outputs": [
    {
     "name": "stdout",
     "output_type": "stream",
     "text": [
      "Вычисление площади...\n",
      "78.5\n",
      "78.5\n"
     ]
    }
   ],
   "source": [
    "from functools import cached_property\n",
    "\n",
    "class Circle:\n",
    "    def __init__(self, radius):\n",
    "        self.radius = radius\n",
    "\n",
    "    @cached_property\n",
    "    def area(self):\n",
    "        print(\"Вычисление площади...\")\n",
    "        return 3.14 * self.radius ** 2\n",
    "\n",
    "circle = Circle(5)\n",
    "print(circle.area)  # Площадь будет вычислена при первом вызове\n",
    "print(circle.area)  # Площадь берется из кэша"
   ]
  },
  {
   "cell_type": "markdown",
   "metadata": {},
   "source": [
    "### @total_ordering\n",
    "\n",
    "@total_ordering из модуля functools используется для автоматического заполнения недостающих методов сравнения в классе. Если в классе определены __eq__ и хотя бы один из методов сравнения (например, __lt__, __le__, __gt__, __ge__), то этот декоратор сгенерирует остальные методы автоматически.\n",
    "\n",
    "Основное преимущество — сокращение кода, минимизация бойлерплейта. Вместо того чтобы писать все шесть методов сравнения, достаточно определить __eq__ и, например, __lt__. Это делает код чище и проще в поддержке. Также снижается вероятность ошибок, так как не нужно вручную обеспечивать согласованность всех методов.\n",
    "\n",
    "Имейте в виду, что методы генерируются динамически, и использование @total_ordering может привнести дополнительные задержки.\n",
    "\n",
    "Вот пример класса без @total_ordering:"
   ]
  },
  {
   "cell_type": "code",
   "execution_count": 27,
   "metadata": {},
   "outputs": [
    {
     "name": "stdout",
     "output_type": "stream",
     "text": [
      "True\n",
      "False\n"
     ]
    }
   ],
   "source": [
    "class Point:\n",
    "    def __init__(self, x, y):\n",
    "        self.x = x\n",
    "        self.y = y\n",
    "\n",
    "    def __eq__(self, other):\n",
    "        return self.x == other.x and self.y == other.y\n",
    "\n",
    "    def __lt__(self, other):\n",
    "        return (self.x ** 2 + self.y ** 2) < (other.x ** 2 + other.y ** 2)\n",
    "\n",
    "    # Остальные методы тоже нужно прописать вручную:\n",
    "    def __le__(self, other):\n",
    "        return self < other or self == other\n",
    "\n",
    "    def __gt__(self, other):\n",
    "        return not (self <= other)\n",
    "\n",
    "    def __ge__(self, other):\n",
    "        return not (self < other)\n",
    "\n",
    "    def __ne__(self, other):\n",
    "        return not (self == other)\n",
    "\n",
    "# Проверка\n",
    "p1 = Point(1, 2)\n",
    "p2 = Point(3, 4)\n",
    "\n",
    "print(p1 < p2)\n",
    "print(p1 >= p2)"
   ]
  },
  {
   "cell_type": "markdown",
   "metadata": {},
   "source": [
    "А вот класс с использованием @total_ordering:"
   ]
  },
  {
   "cell_type": "code",
   "execution_count": 29,
   "metadata": {},
   "outputs": [
    {
     "name": "stdout",
     "output_type": "stream",
     "text": [
      "True\n",
      "False\n",
      "True\n"
     ]
    }
   ],
   "source": [
    "from functools import total_ordering\n",
    "\n",
    "@total_ordering\n",
    "class Point:\n",
    "    def __init__(self, x, y):\n",
    "        self.x = x\n",
    "        self.y = y\n",
    "\n",
    "    def __eq__(self, other):\n",
    "        return self.x == other.x and self.y == other.y\n",
    "\n",
    "    def __lt__(self, other):\n",
    "        return (self.x ** 2 + self.y ** 2) < (other.x ** 2 + other.y ** 2)\n",
    "\n",
    "# Проверка\n",
    "p1 = Point(1, 2)\n",
    "p2 = Point(3, 4)\n",
    "print(p1 < p2)\n",
    "print(p1 >= p2)  # Метод сравнения сгенерирован автоматически\n",
    "print(p1 != p2)  # Метод сравнения сгенерирован автоматически"
   ]
  },
  {
   "cell_type": "markdown",
   "metadata": {},
   "source": [
    "Разумеется, если сравнения требуют сложной логики (например, сравнения по разным полям), необходима ручная реализация методов."
   ]
  },
  {
   "cell_type": "markdown",
   "metadata": {},
   "source": [
    "### @singledispatch\n",
    "\n",
    "@singledispatch — декоратор, позволяющий создавать перегруженные функции, то есть функции, которые ведут себя по-разному в зависимости от типа аргумента. Это полезно, когда нужно обрабатывать разные типы данных разными способами, сохраняя при этом чистоту кода и избегая множественных проверок isinstance.\n",
    "\n",
    "Вариант без @singledispatch:"
   ]
  },
  {
   "cell_type": "code",
   "execution_count": 30,
   "metadata": {},
   "outputs": [
    {
     "name": "stdout",
     "output_type": "stream",
     "text": [
      "Целое число: 10\n",
      "Список длины 3\n",
      "Словарь с ключами: a\n"
     ]
    }
   ],
   "source": [
    "def process_data(data):\n",
    "    if isinstance(data, int):\n",
    "        return f\"Целое число: {data}\"\n",
    "    elif isinstance(data, list):\n",
    "        return f\"Список длины {len(data)}\"\n",
    "    elif isinstance(data, dict):\n",
    "        return f\"Словарь с ключами: {', '.join(data.keys())}\"\n",
    "    else:\n",
    "        raise TypeError(\"Неподдерживаемый тип\")\n",
    "\n",
    "print(process_data(10))\n",
    "print(process_data([1, 2, 3]))\n",
    "print(process_data({\"a\": 1}))"
   ]
  },
  {
   "cell_type": "markdown",
   "metadata": {},
   "source": [
    "А вот вариант с использованием @singledispatch:"
   ]
  },
  {
   "cell_type": "code",
   "execution_count": 31,
   "metadata": {},
   "outputs": [
    {
     "name": "stdout",
     "output_type": "stream",
     "text": [
      "Целое число: 10\n",
      "Список длины 3\n",
      "Словарь с ключами: a\n"
     ]
    }
   ],
   "source": [
    "from functools import singledispatch\n",
    "\n",
    "@singledispatch\n",
    "def process_data(data):\n",
    "    raise TypeError(\"Неподдерживаемый тип\")\n",
    "\n",
    "@process_data.register\n",
    "def _(data: int):\n",
    "    return f\"Целое число: {data}\"\n",
    "\n",
    "@process_data.register\n",
    "def _(data: list):\n",
    "    return f\"Список длины {len(data)}\"\n",
    "\n",
    "@process_data.register\n",
    "def _(data: dict):\n",
    "    return f\"Словарь с ключами: {', '.join(data.keys())}\"\n",
    "\n",
    "# Проверка\n",
    "print(process_data(10))\n",
    "print(process_data([1, 2, 3]))\n",
    "print(process_data({\"a\": 1}))"
   ]
  },
  {
   "cell_type": "markdown",
   "metadata": {},
   "source": [
    "Как видите, код стал даже длиннее, но читается вроде бы слегка легче. К тому же, ваш линтер будет благодарен за снижение цикломатической сложности."
   ]
  },
  {
   "cell_type": "markdown",
   "metadata": {},
   "source": [
    "Таковы, в целом, базовые методы обработки данных в Python.\n",
    "\n",
    "Далее мы углублённо обсудим более высокоуровневые принципы движения потоков данных, включая базы данных, REST API, RPC и асинхронную обработку данных при помощи брокеров сообщений. Но сначала давайте познакомимся с подходами объектно-ориентированного программирования."
   ]
  }
 ],
 "metadata": {
  "kernelspec": {
   "display_name": "Python 3",
   "language": "python",
   "name": "python3"
  },
  "language_info": {
   "codemirror_mode": {
    "name": "ipython",
    "version": 3
   },
   "file_extension": ".py",
   "mimetype": "text/x-python",
   "name": "python",
   "nbconvert_exporter": "python",
   "pygments_lexer": "ipython3",
   "version": "3.13.0"
  },
  "orig_nbformat": 4,
  "vscode": {
   "interpreter": {
    "hash": "26de051ba29f2982a8de78e945f0abaf191376122a1563185a90213a26c5da77"
   }
  }
 },
 "nbformat": 4,
 "nbformat_minor": 2
}
