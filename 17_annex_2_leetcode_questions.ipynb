{
 "cells": [
  {
   "cell_type": "markdown",
   "metadata": {},
   "source": [
    "### Приложение 2\n",
    "  \n",
    "Задачки с Leetcode, отранжированные по уровню сложности (самые простые идут первыми):"
   ]
  },
  {
   "cell_type": "markdown",
   "metadata": {},
   "source": [
    "#### 1929. Concatenation of Array\n",
    "\n",
    "Difficulty: Easy  \n",
    "Acceptance: 90.8 %"
   ]
  },
  {
   "cell_type": "code",
   "execution_count": 4,
   "metadata": {},
   "outputs": [
    {
     "name": "stdout",
     "output_type": "stream",
     "text": [
      "[1, 2, 1, 1, 2, 1]\n"
     ]
    }
   ],
   "source": [
    "class Solution:\n",
    "    def getConcatenation(self, nums: list[int]) -> list[int]:\n",
    "        return nums + nums\n",
    "\n",
    "s = Solution()\n",
    "\n",
    "nums = [1, 2, 1]\n",
    "print(s.getConcatenation(nums))"
   ]
  },
  {
   "cell_type": "markdown",
   "metadata": {},
   "source": [
    "#### 1920. Build Array from Permutation\n",
    "\n",
    "Difficulty: Easy  \n",
    "Acceptance: 89.6 %"
   ]
  },
  {
   "cell_type": "code",
   "execution_count": 3,
   "metadata": {},
   "outputs": [
    {
     "name": "stdout",
     "output_type": "stream",
     "text": [
      "[0, 1, 2, 4, 5, 3]\n"
     ]
    }
   ],
   "source": [
    "class Solution:\n",
    "    def buildArray(self, nums: list[int]) -> list[int]:\n",
    "        return [nums[n] for n in nums]\n",
    "\n",
    "s = Solution()\n",
    "\n",
    "nums = [0, 2, 1, 5, 3, 4]\n",
    "print(s.buildArray(nums))"
   ]
  },
  {
   "cell_type": "markdown",
   "metadata": {},
   "source": [
    "#### 2769. Find the Maximum Achievable Number\n",
    "\n",
    "Difficulty: Easy  \n",
    "Acceptance: 89.1 %"
   ]
  },
  {
   "cell_type": "code",
   "execution_count": 6,
   "metadata": {},
   "outputs": [
    {
     "name": "stdout",
     "output_type": "stream",
     "text": [
      "7\n"
     ]
    }
   ],
   "source": [
    "class Solution:\n",
    "    def theMaximumAchievableX(self, num: int, t: int) -> int:\n",
    "        return num + 2 * t\n",
    "    \n",
    "s = Solution()\n",
    "\n",
    "num: int = 3\n",
    "t: int = 2\n",
    "\n",
    "print(s.theMaximumAchievableX(num, t))"
   ]
  },
  {
   "cell_type": "markdown",
   "metadata": {},
   "source": [
    "#### 2469. Convert the Temperature\n",
    "\n",
    "Difficulty: Easy  \n",
    "Acceptance: 88.9 %"
   ]
  },
  {
   "cell_type": "code",
   "execution_count": 7,
   "metadata": {},
   "outputs": [
    {
     "name": "stdout",
     "output_type": "stream",
     "text": [
      "[309.65, 97.7]\n"
     ]
    }
   ],
   "source": [
    "class Solution:\n",
    "    def convertTemperature(self, celsius: float) -> list[float]:\n",
    "        Kelvin: float = celsius + 273.15\n",
    "        Fahrenheit: float = celsius * 1.80 + 32.00\n",
    "\n",
    "        return [Kelvin, Fahrenheit]\n",
    "\n",
    "s = Solution()\n",
    "\n",
    "celsius = 36.50\n",
    "print(s.convertTemperature(celsius))"
   ]
  },
  {
   "cell_type": "markdown",
   "metadata": {},
   "source": [
    "#### 1512. Number of Good Pairs\n",
    "\n",
    "Difficulty: Easy  \n",
    "Acceptance: 88.9 %"
   ]
  },
  {
   "cell_type": "markdown",
   "metadata": {},
   "source": [
    "Решение \"в лоб\", с вычислительной сложностью O(n^2):"
   ]
  },
  {
   "cell_type": "code",
   "execution_count": 8,
   "metadata": {},
   "outputs": [
    {
     "name": "stdout",
     "output_type": "stream",
     "text": [
      "4\n"
     ]
    }
   ],
   "source": [
    "class Solution:\n",
    "    def numIdenticalPairs(self, nums: list[int]) -> int:\n",
    "        count = 0\n",
    "        for i in range(len(nums)):\n",
    "            for j in range(i, len(nums)):\n",
    "                if(j > i):\n",
    "                    if(nums[i] == nums[j]):\n",
    "                        count = count + 1 \n",
    "        return count\n",
    "\n",
    "s = Solution()\n",
    "\n",
    "nums = [1, 2, 3, 1, 1, 3]\n",
    "print(s.numIdenticalPairs(nums))"
   ]
  }
 ],
 "metadata": {
  "kernelspec": {
   "display_name": "Python 3",
   "language": "python",
   "name": "python3"
  },
  "language_info": {
   "codemirror_mode": {
    "name": "ipython",
    "version": 3
   },
   "file_extension": ".py",
   "mimetype": "text/x-python",
   "name": "python",
   "nbconvert_exporter": "python",
   "pygments_lexer": "ipython3",
   "version": "3.12.0"
  }
 },
 "nbformat": 4,
 "nbformat_minor": 2
}
