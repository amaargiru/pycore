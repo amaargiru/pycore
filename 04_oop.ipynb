{
 "cells": [
  {
   "attachments": {},
   "cell_type": "markdown",
   "metadata": {},
   "source": [
    "## 4. Объектно-ориентированное программирование\n",
    "\n",
    "![OOP](https://raw.githubusercontent.com/amaargiru/pycore/main/pics/04_OOP.png)  "
   ]
  },
  {
   "attachments": {},
   "cell_type": "markdown",
   "metadata": {},
   "source": [
    "### Классы и объекты\n",
    "\n",
    "Тут, конечно, было бы к месту кратенькое, минут на сорок, введеньице в тему классов и объектов, но в наш текущий формат такая мощная врезка не совсем укладывается. Попробую объяснить максимально просто, на доступных примерах из киновселенной «Чужих»:  \n",
    "объект — это один конкретный ксеноморф;  \n",
    "класс — это Королева ксеноморфов. Класс либо рожает ксеноморфа, либо может вступить в бой сам (@staticmethod);  \n",
    "метапрограммирование — это такая Супер-Королева, размером с «Сулако», которая рожает других Королев;  \n",
    "наследование — это ксеноморф из «Воскрешения», помните, миленький такой, взявший лучшее и от собственной генетической программы и от генов Рипли.  \n",
    "\n",
    "Мы попробуем вернуться к теме объектов с чуть более серьезным настроением позже, в главе «Архитектура», но, вообще, в объектно-ориентированном программировании нет ничего особо сложного; просто до него лучше дойти, предварительно немного погрязнув в поддержке обычного процедурного подхода, когда зачастую стоит выбор — всё-таки попробовать подлечить этот кусок кода или уже усыпить его и переписать всё по новой? Когда-то давно, когда я писал относительно несложные программы на ассемблере для микроконтроллеров, то читая Страуструпа, слегка недоумевал — зачем всё это? Чтобы осознать потребность в обуви, надо походить босиком."
   ]
  },
  {
   "cell_type": "markdown",
   "metadata": {},
   "source": [
    ">__Что такое класс?__\n",
    ">\n",
    "> Класс - модель для создания объектов, описывающая их внутреннюю структуру и поведение."
   ]
  },
  {
   "attachments": {},
   "cell_type": "markdown",
   "metadata": {},
   "source": [
    "\n",
    "### Магические методы\n",
    "\n",
    "Специальные (называемые также magic или dunder) методы класса — перегрузка, позволяющая классам определять собственное поведение по отношению к операторам языка.  \n",
    "Магические они потому, что почти никогда не вызываются явно, их вызывают встроенные функции или синтаксические конструкции. Например, функция len() вызывает метод \\_\\_len\\_\\_() переданного объекта. Метод \\_\\_add\\_\\_(self, other) вызывается автоматически при сложении оператором +.\n",
    "\n",
    "Примеры магических методов:\n",
    "\n",
    "\\_\\_init__: конструктор класса  \n",
    "\\_\\_add__: сложение с другим объектом  \n",
    "\\_\\_eq__: проверка на равенство с другим объектом  \n",
    "\\_\\_cmp__: сравнение (больше, меньше, равно)  \n",
    "\\_\\_iter__: используется при подстановке объекта в цикл  \n",
    "\\_\\_new__: статический метод, вызываемый для создания экземпляра класса. [Официальная документация](https://docs.python.org/3/reference/datamodel.html#object.__new__) разъясняет назначение этого метода достаточно чётко — метод предназначен в основном для того, чтобы позволить подклассам неизменяемых типов (таких, как int, str или tuple) настраивать создание экземпляров либо для переопределения в пользовательских метаклассах для настройки создания классов."
   ]
  },
  {
   "cell_type": "markdown",
   "metadata": {},
   "source": [
    ">__В чем разница сравнения через == и через is?__\n",
    ">\n",
    ">== использует \\_\\_eq__ — магический метод проверки на равенство с другим объектом.\n",
    ">\n",
    ">is проверяет, указывают ли две переменные на один объект в памяти, «вручную» такое сравнение можно произвести при помощи функции id()."
   ]
  },
  {
   "cell_type": "code",
   "execution_count": 3,
   "metadata": {},
   "outputs": [
    {
     "name": "stdout",
     "output_type": "stream",
     "text": [
      "['__abs__', '__add__', '__and__', '__bool__', '__ceil__', '__class__', '__delattr__', '__dir__', '__divmod__', '__doc__', '__eq__', '__float__', '__floor__', '__floordiv__', '__format__', '__ge__', '__getattribute__', '__getnewargs__', '__gt__', '__hash__', '__index__', '__init__', '__init_subclass__', '__int__', '__invert__', '__le__', '__lshift__', '__lt__', '__mod__', '__mul__', '__ne__', '__neg__', '__new__', '__or__', '__pos__', '__pow__', '__radd__', '__rand__', '__rdivmod__', '__reduce__', '__reduce_ex__', '__repr__', '__rfloordiv__', '__rlshift__', '__rmod__', '__rmul__', '__ror__', '__round__', '__rpow__', '__rrshift__', '__rshift__', '__rsub__', '__rtruediv__', '__rxor__', '__setattr__', '__sizeof__', '__str__', '__sub__', '__subclasshook__', '__truediv__', '__trunc__', '__xor__', 'as_integer_ratio', 'bit_count', 'bit_length', 'conjugate', 'denominator', 'from_bytes', 'imag', 'numerator', 'real', 'to_bytes'] \n",
      "\n",
      "['__class__', '__delattr__', '__dict__', '__dir__', '__doc__', '__eq__', '__format__', '__ge__', '__getattribute__', '__gt__', '__hash__', '__init__', '__init_subclass__', '__le__', '__lt__', '__module__', '__ne__', '__new__', '__reduce__', '__reduce_ex__', '__repr__', '__setattr__', '__sizeof__', '__str__', '__subclasshook__', '__weakref__'] \n",
      "\n",
      "<__main__.A object at 0x000001A1FFF3AF20> \n",
      "\n",
      "<__main__.A object at 0x000001A1FFF3AF20>\n"
     ]
    }
   ],
   "source": [
    "print(dir(int), \"\\n\")\n",
    "\n",
    "\n",
    "class A:  # An empty class\n",
    "    ...\n",
    "\n",
    "\n",
    "a = A()\n",
    "print(dir(a), \"\\n\")\n",
    "print(repr(a), \"\\n\")\n",
    "print(str(a))"
   ]
  },
  {
   "cell_type": "markdown",
   "metadata": {},
   "source": [
    ">__Что такое магические методы и для чего они нужны?__\n",
    ">\n",
    ">Специальные (называемые также magic или dunder) методы класса — перегрузка, позволяющая классам определять собственное поведение по отношению к операторам языка.  \n",
    ">Магические они потому, что почти никогда не вызываются явно, их вызывают встроенные функции или синтаксические конструкции.\n",
    ">\n",
    ">Примеры магических методов:\n",
    ">\n",
    ">\\_\\_add__: сложение с другим объектом  \n",
    ">\\_\\_cmp__: сравнение (больше, меньше, равно)  \n",
    ">\\_\\_iter__: используется при подстановке объекта в цикл "
   ]
  },
  {
   "attachments": {},
   "cell_type": "markdown",
   "metadata": {},
   "source": [
    "Особенностью метода \\_\\_init\\_\\_ является то, что он не должен ничего возвращать. При попытке возврата данных будет сгенерировано исключение.  \n",
    "\\_\\_repr__ (representation) возвращает более-менее машино-читаемое представление объекта, полезное для отладки.  \n",
    "*Иногда* \\_\\_repr может содержать достаточно информации для восстановления объекта.  \n",
    "\\_\\_str\\_\\_ возвращает человеко-читаемое сообщение. Если \\_\\_str\\_\\_ не определён, то str использует repr.  "
   ]
  },
  {
   "cell_type": "code",
   "execution_count": 4,
   "metadata": {},
   "outputs": [
    {
     "name": "stdout",
     "output_type": "stream",
     "text": [
      "Hi, my name is Charlie\n",
      "Person 'Charlie'\n",
      "Charlie\n"
     ]
    }
   ],
   "source": [
    "class Person:  # A simple class with init, repr and str methods\n",
    "    def __init__(self, name: str):\n",
    "        self.name: str = name\n",
    "\n",
    "    def __repr__(self):\n",
    "        return f\"Person '{self.name}'\"\n",
    "\n",
    "    def __str__(self):\n",
    "        return f\"{self.name}\"\n",
    "\n",
    "    def say_hi(self):\n",
    "        print(\"Hi, my name is\", self.name)\n",
    "\n",
    "\n",
    "p = Person(\"Charlie\")\n",
    "p.say_hi()\n",
    "print(repr(p))\n",
    "print(str(p))"
   ]
  },
  {
   "cell_type": "markdown",
   "metadata": {},
   "source": [
    ">__Как создается объект в Python? Какая разница между new и init?__\n",
    ">\n",
    ">Для создания объекта применяется специальная функция — конструктор, которая называется по имени класса и возвращает объект класса.\n",
    ">\n",
    ">Метод \\_\\_new__ используется, когда нужно управлять процессом создания нового экземпляра, а \\_\\_init__ — для контроля его инициализация. Поэтому \\_\\_new__ возвращает новый экземпляр класса, а \\_\\_init__ — ничего."
   ]
  },
  {
   "attachments": {},
   "cell_type": "markdown",
   "metadata": {},
   "source": [
    "### @property\n",
    "\n",
    "Декоратор [@property](https://docs.python.org/3/library/functions.html?highlight=property#property) используется для определения методов, доступных как поля. Таким образом операции чтения/записи поля можно обрамить дополнительной логикой, например, проверкой допустимых значений входного аргумента или пересчетом внутренних переменных объекта."
   ]
  },
  {
   "cell_type": "code",
   "execution_count": 5,
   "metadata": {},
   "outputs": [
    {
     "name": "stdout",
     "output_type": "stream",
     "text": [
      "125.66370614359172\n"
     ]
    }
   ],
   "source": [
    "import math\n",
    "\n",
    "class Circle:\n",
    "    def __init__(self, radius, max_radius):\n",
    "        self._radius = radius\n",
    "        self.max_radius = max_radius\n",
    "\n",
    "    @property\n",
    "    def radius(self):\n",
    "        return self._radius\n",
    "\n",
    "    @radius.setter\n",
    "    def radius(self, value):\n",
    "        if value <= self.max_radius:\n",
    "            self._radius = value\n",
    "        else:\n",
    "            raise ValueError\n",
    "\n",
    "    @property\n",
    "    def area(self):\n",
    "        return 2 * self.radius * math.pi\n",
    "\n",
    "\n",
    "circle = Circle(10, 100)\n",
    "circle.radius = 20  # OK\n",
    "# circle.radius = 101  # Raises ValueError\n",
    "print(circle.area)"
   ]
  },
  {
   "cell_type": "markdown",
   "metadata": {},
   "source": [
    ">__Что делает декоратор @property?__\n",
    ">\n",
    ">Декоратор [@property](https://docs.python.org/3/library/functions.html?highlight=property#property) используется для определения методов, доступных как поля. Таким образом операции чтения/записи поля можно обрамить дополнительной логикой, например, проверкой допустимых значений входного аргумента."
   ]
  },
  {
   "attachments": {},
   "cell_type": "markdown",
   "metadata": {},
   "source": [
    "### @staticmethod\n",
    "\n",
    "Обычный метод (т. е. не помеченный декораторами @staticmethod или @classmethod) имеет доступ к свойствам конкретного экземпляра класса.  \n",
    "\n",
    "@staticmethod — метод, принадлежащий классу, а не экземпляру класса. Можно вызывать без создания экземпляра, т. к. метод не имеет доступа к свойствам экземпляра. При помощи @staticmethod помечают функционал, логически связанный с классом, но не требующий доступа к свойствам экземпляра.\n",
    "\n",
    "### @classmethod, cls, self  \n",
    "\n",
    "Если метод не должен иметь доступа к свойствам конкретного экземпляра класса (также, как @staticmethod), но должен иметь доступ к другим методам и переменным класса, то следует использовать @classmethod."
   ]
  },
  {
   "cell_type": "code",
   "execution_count": 4,
   "metadata": {},
   "outputs": [
    {
     "name": "stdout",
     "output_type": "stream",
     "text": [
      "Run foo(<__main__.B object at 0x0000028571EA5850>, 1)\n",
      "Run class_foo(<class '__main__.B'>, 1)\n",
      "Run static_foo(1)\n"
     ]
    }
   ],
   "source": [
    "class B:\n",
    "    def foo(self, x):\n",
    "        print(f\"Run foo({self}, {x})\")\n",
    "\n",
    "    @classmethod\n",
    "    def class_foo(cls, x):\n",
    "        print(f\"Run class_foo({cls}, {x})\")\n",
    "\n",
    "    @staticmethod\n",
    "    def static_foo(x):\n",
    "        print(f\"Run static_foo({x})\")\n",
    "\n",
    "\n",
    "b = B()\n",
    "b.foo(1)\n",
    "b.class_foo(1)\n",
    "b.static_foo(1)"
   ]
  },
  {
   "attachments": {},
   "cell_type": "markdown",
   "metadata": {},
   "source": [
    "У @classmethod первым параметром должен быть cls (класс), а у обычного метода — self (экземпляр класса).  \n",
    "Для @staticmethod не требуется ни cls, ни self."
   ]
  },
  {
   "attachments": {},
   "cell_type": "markdown",
   "metadata": {},
   "source": [
    "### \\_\\_dict__\n",
    "\n",
    "Каждый класс и каждый объект имеет атрибут \\_\\_dict__. Это системный, определённый интерпретатором атрибут, его не нужно создавать вручную. \\_\\_dict__ — словарь, который хранит пользовательские атрибуты; в нём ключом является _имя атрибута_, значением, соответственно, _значение атрибута_."
   ]
  },
  {
   "cell_type": "code",
   "execution_count": 10,
   "metadata": {},
   "outputs": [
    {
     "name": "stdout",
     "output_type": "stream",
     "text": [
      "{'__module__': '__main__', 'publisher': 'DC Comics', '__dict__': <attribute '__dict__' of 'Supercriminal' objects>, '__weakref__': <attribute '__weakref__' of 'Supercriminal' objects>, '__doc__': None}\n",
      "{}\n",
      "{'name': 'Edward Nygma'}\n",
      "DC Comics\n"
     ]
    }
   ],
   "source": [
    "class Supercriminal:\n",
    "    publisher = 'DC Comics'\n",
    "\n",
    "Riddler = Supercriminal()\n",
    "print(Supercriminal.__dict__)\n",
    "print(Riddler.__dict__)\n",
    "\n",
    "Riddler.name = 'Edward Nygma'\n",
    "print(Riddler.__dict__)  # Values from object __dict__\n",
    "\n",
    "print(Riddler.publisher)  # Value from class __dict__"
   ]
  },
  {
   "attachments": {},
   "cell_type": "markdown",
   "metadata": {},
   "source": [
    "Каждый раз при запросе пользовательского атрибута Python последовательно обыскивает сам объект, класс объекта и классы, от которых унаследован класс объекта."
   ]
  },
  {
   "cell_type": "markdown",
   "metadata": {},
   "source": [
    ">__Для чего нужен атрибут dict?__\n",
    ">\n",
    ">Все классы и объекты в Python имеют атрибут \\_\\_dict__. Это определённый интерпретатором атрибут, его не нужно создавать вручную. \\_\\_dict__ — словарь, который хранит пользовательские атрибуты; в нём ключом является _имя атрибута_, значением, соответственно, _значение атрибута_."
   ]
  },
  {
   "attachments": {},
   "cell_type": "markdown",
   "metadata": {},
   "source": [
    "\n",
    "### \\_\\_slots\\_\\_\n",
    "\n",
    "Если вы припомните разницу между списком и кортежем, а также между множеством и иимутабельным множеством, то заметите, что создатели Python пытаются предоставлять разработчикам выбор между удобством и скоростью. К списку таких же особенностей языка, заточенных на увеличение производительности и уменьшение занимаемой памяти, относится и \\_\\_slots\\_\\_.\n",
    "\n",
    "Вот [официальная документация](https://docs.python.org/3/reference/datamodel.html?highlight=slots#object.__slots__) по \\_\\_slots\\_\\_, а вот [дополнительные разъяснения](https://stackoverflow.com/questions/472000/usage-of-slots/28059785#28059785) от одного из разработчиков официальной документации. При выборе «slots или не slots» помните про существование [PEP 412 – Key-Sharing Dictionary](https://peps.python.org/pep-0412/), который внёс некоторый раздрай в некогда однозначное отношение к \\_\\_slots\\_\\_.\n",
    "\n",
    "\\_\\_dict\\_\\_, рассмотренный чуть выше — изменяемая структура, и вы можете на лету добавлять и удалять поля из класса, что удобно, но порой медленно. Вы можете разменять удобство на скорость и размер занимаемой памяти, создав \\_\\_slots\\_\\_ — жестко заданный список предопределенных атрибутов, резервирующий память, создание которого _запрещает_ дальнейшее создание \\_\\_dict\\_\\_ и \\_\\_weakref\\_\\_. Слоты можно использовать, когда у класса может быть очень много полей, например, в ORM, либо когда критична производительность."
   ]
  },
  {
   "cell_type": "code",
   "execution_count": 9,
   "metadata": {},
   "outputs": [],
   "source": [
    "class Clan:\n",
    "    __slots__ = [\"first\", \"second\"]\n",
    "\n",
    "clan = Clan()\n",
    "clan.first = \"Joker\"\n",
    "clan.second = \"Lex Luthor\"\n",
    "# clan.third = \"Green Goblin\"  # Raises AttributeError\n",
    "# print(clan.__dict__)  # Raises AttributeError"
   ]
  },
  {
   "attachments": {},
   "cell_type": "markdown",
   "metadata": {},
   "source": [
    "Слоты используются, скажем, в библиотеках requests (например, \\_\\_slots\\_\\_ = [\"url\", \"netloc\", \"simple_url\", \"pypi_url\", \"file_storage_domain\"]) или ORM peewee (\\_\\_slots\\_\\_ = ('stack', '_sql', '_values', 'alias_manager', 'state')).\n",
    "\n",
    "Наследование \\_\\_slots\\_\\_ имеет определенную специфику и будет рассмотрено ниже.\n",
    "\n",
    "Чтобы было понятно, о каком приросте производительности и снижении потребления памяти идёт речь, сделаем простое сравнение:"
   ]
  },
  {
   "cell_type": "code",
   "execution_count": 19,
   "metadata": {},
   "outputs": [
    {
     "name": "stdout",
     "output_type": "stream",
     "text": [
      "0.10838449979200959 0.08712740009650588 24.39772066187959 %\n",
      "280 bytes\n",
      "40 bytes\n"
     ]
    }
   ],
   "source": [
    "import timeit\n",
    "import pympler.asizeof  # В нашем случае sys.getsizeof — не лучший вариант, берем стороннее решение\n",
    "\n",
    "\n",
    "class NotSlotted:\n",
    "    pass\n",
    "\n",
    "\n",
    "class Slotted:\n",
    "    __slots__ = 'foo'\n",
    "\n",
    "\n",
    "not_slotted = NotSlotted()\n",
    "slotted = Slotted()\n",
    "\n",
    "\n",
    "def get_set_delete_fn(obj):\n",
    "    def get_set_delete():\n",
    "        obj.foo = \"Never Ending Song of Love\"\n",
    "        del obj.foo\n",
    "\n",
    "    return get_set_delete\n",
    "\n",
    "\n",
    "ns = min(timeit.repeat(get_set_delete_fn(not_slotted)))\n",
    "s = min((timeit.repeat(get_set_delete_fn(slotted))))\n",
    "\n",
    "print(ns, s, f'{(ns - s) / s * 100} %')\n",
    "\n",
    "print(pympler.asizeof.asizeof(not_slotted), 'bytes')\n",
    "print(pympler.asizeof.asizeof(slotted), 'bytes')"
   ]
  },
  {
   "cell_type": "markdown",
   "metadata": {},
   "source": [
    ">__Что такое slots?__\n",
    ">\n",
    ">Атрибут \\_\\_slots__ позволяет ввести ограничение, задавая неизменяемый список атрибутов, которыми будет обладать экземпляр класса. За счет такого ограничения можно повысить скорость работы при доступе к атрибутам и сэкономить место в памяти."
   ]
  },
  {
   "attachments": {},
   "cell_type": "markdown",
   "metadata": {},
   "source": [
    "На всякий случай напоминаю еще раз — прогоняйте все непонятные примеры кода в IDE, их можно и нужно анализировать, корректировать и видоизменять. Попробуйте, например, самостоятельно посмотреть потребление памяти объектов с \\_\\_dict\\_\\_ и \\_\\_slots\\_\\_. А заодно на практике испытайте давно напрашивающийся, и наконец появившийся в Python 3.10 [симбиоз](https://docs.python.org/3/library/dataclasses.html#module-contents) между \\_\\_slots\\_\\_ и dataclass."
   ]
  },
  {
   "attachments": {},
   "cell_type": "markdown",
   "metadata": {},
   "source": [
    "### Утиная типизация\n",
    "\n",
    "[Утиная типизация](https://en.wikipedia.org/wiki/Duck_typing) (duck types) — постулирование реализации интерфейса классом не через явное объявление, а через реализацию методов интерфейса. Так, каждый класс, реализующий методы \\_\\_next\\_\\_() и \\_\\_iter\\_\\_(), автоматически становится итератором, несмотря на отсутствие явного объявления (что-нибудь вроде @iterator) или, скажем, наследования от класса Iterator.\n",
    "\n",
    "### Iterator\n",
    "\n",
    "Итератор — класс, реализующий методы \\_\\_next\\_\\_() и \\_\\_iter\\_\\_().  \n",
    "Метод \\_\\_next\\_\\_() должен возвращать следующее значение итератора или выкидывать исключение StopIteration, чтобы сигнализировать о том, что итератор исчерпал доступные значения.\n",
    "Метод \\_\\_iter\\_\\_() должен возвращать \"self\"."
   ]
  },
  {
   "cell_type": "code",
   "execution_count": 8,
   "metadata": {},
   "outputs": [
    {
     "name": "stdout",
     "output_type": "stream",
     "text": [
      "1\n",
      "2\n"
     ]
    }
   ],
   "source": [
    "class LimitCounter:\n",
    "    def __init__(self, max_value: int):\n",
    "        self.count = 0\n",
    "        self.max_value = max_value\n",
    "\n",
    "    def __next__(self):\n",
    "        self.count += 1\n",
    "\n",
    "        if self.count <= self.max_value:\n",
    "            return self.count\n",
    "        else:\n",
    "            raise StopIteration\n",
    "\n",
    "    def __iter__(self):\n",
    "        return self\n",
    "\n",
    "\n",
    "limit_counter = LimitCounter(2)\n",
    "print(next(limit_counter))\n",
    "print(next(limit_counter))\n",
    "\n",
    "\n",
    "# print(next(limit_counter))  # Raises StopIteration"
   ]
  },
  {
   "attachments": {},
   "cell_type": "markdown",
   "metadata": {},
   "source": [
    "### Comparable\n",
    "\n",
    "Начиная с Python 3.4, для того, чтобы экземпляры метода можно было сравнивать между собой, достаточно определить методы \\_\\_lt\\_\\_ (меньше) и \\_\\_eq\\_\\_ (равно), а также задействовать декоратор @functools.total_ordering."
   ]
  },
  {
   "cell_type": "code",
   "execution_count": 9,
   "metadata": {},
   "outputs": [
    {
     "name": "stdout",
     "output_type": "stream",
     "text": [
      "True\n"
     ]
    }
   ],
   "source": [
    "from functools import total_ordering\n",
    "\n",
    "@total_ordering\n",
    "class Person:\n",
    "    def __init__(self, firstname: str, lastname: str):\n",
    "        self.firstname: str = firstname\n",
    "        self.lastname: str = lastname\n",
    "\n",
    "    def _is_valid_operand(self, other):\n",
    "        return hasattr(other, \"lastname\") and hasattr(other, \"firstname\")\n",
    "\n",
    "    def __eq__(self, other):\n",
    "        if not self._is_valid_operand(other):\n",
    "            return NotImplemented\n",
    "        return (self.lastname, self.firstname) == (other.lastname, other.firstname)\n",
    "\n",
    "    def __lt__(self, other):\n",
    "        if not self._is_valid_operand(other):\n",
    "            return NotImplemented\n",
    "        return (self.lastname, self.firstname) < (other.lastname, other.firstname)\n",
    "\n",
    "\n",
    "Finn = Person(\"Finn\", \"the Human\")\n",
    "Jake = Person(\"Jake\", \"the Dog\")\n",
    "\n",
    "print(Finn != Jake)"
   ]
  },
  {
   "attachments": {},
   "cell_type": "markdown",
   "metadata": {},
   "source": [
    "### Hashable\n",
    "\n",
    "Хэшируемые объекты должны реализовывать методы \\_\\_hash\\_\\_() и \\_\\_eq\\_\\_(). Хеш объекта должен быть неизменен в течении всего жизненного цикла. Хешируемые объекты можно использовать как ключи в словарях и как элементы множеств, так как эти структуры используют хэш-таблицу для внутреннего представления данных.\n",
    "\n",
    "Хэшируемые объекты, которые сравниваются между собой, должны иметь одинаковое хэш-значение, то есть стандартная hash(), возвращающая `'id(self)'`, не подойдет. Именно поэтому Python автоматически делает классы нехэшируемыми, если вы реализуете только eq()."
   ]
  },
  {
   "cell_type": "code",
   "execution_count": 13,
   "metadata": {},
   "outputs": [
    {
     "name": "stdout",
     "output_type": "stream",
     "text": [
      "-8707075988359731747\n",
      "-2276052447712954388\n"
     ]
    }
   ],
   "source": [
    "class Hero:\n",
    "    def __init__(self, name: str, level: int):\n",
    "        self.name: str = name\n",
    "        self.level: int = level\n",
    "\n",
    "    def _is_valid_operand(self, other):\n",
    "        return hasattr(other, \"name\") and hasattr(other, \"level\")\n",
    "\n",
    "    def __eq__(self, other):\n",
    "        if not self._is_valid_operand(other):\n",
    "            return NotImplemented\n",
    "        return (self.name, self.level) == (other.name, other.level)\n",
    "\n",
    "    def __hash__(self):\n",
    "        return hash((self.name, self.level))\n",
    "\n",
    "\n",
    "Finn = Hero(\"Finn the Human\", 10_000)\n",
    "Jake = Hero(\"Jake the Dog\", 10_000)\n",
    "\n",
    "print(hash(Finn))\n",
    "print(hash(Jake))"
   ]
  },
  {
   "attachments": {},
   "cell_type": "markdown",
   "metadata": {},
   "source": [
    "### Sortable\n",
    "\n",
    "Для возможности применения к последовательностям объектов таких методов как sort() или max() необходимо, как и в случае Comparable, определить методы \\_\\_lt__ (меньше) и \\_\\_eq__ (равно), а также задействовать декоратор @functools.total_ordering.\n",
    "\n",
    "Для более предсказумого поведения объекта в условиях различного контекста (и, иногда, для оптимизации производительности) вы можете определить полное множество функций сравнения (\\_\\_lt()\\_\\_, \\_\\_gt()\\_\\_, \\_\\_le\\_\\_() и \\_\\_ge\\_\\_()).\n",
    "\n",
    "Для примера создадим класс студентов, которых можно будет сортировать не по имени, а по среднему баллу:"
   ]
  },
  {
   "cell_type": "code",
   "execution_count": 14,
   "metadata": {},
   "outputs": [
    {
     "name": "stdout",
     "output_type": "stream",
     "text": [
      "['Just Joe 4.8', 'Melissa Andrew 4', 'Peter Shining Jr. 3.6']\n"
     ]
    }
   ],
   "source": [
    "from functools import total_ordering\n",
    "from statistics import mean\n",
    "\n",
    "\n",
    "@total_ordering\n",
    "class Student:\n",
    "    def __init__(self, name: str, grades: list[int]):\n",
    "        self.name: str = name\n",
    "        self.grades: list[int] = grades\n",
    "\n",
    "    def _is_valid_operand(self, other):\n",
    "        return hasattr(other, \"name\") and hasattr(other, \"grades\")\n",
    "\n",
    "    def __eq__(self, other):\n",
    "        if not self._is_valid_operand(other):\n",
    "            return NotImplemented\n",
    "        return mean(self.grades) == mean(other.grades)\n",
    "\n",
    "    def __lt__(self, other):\n",
    "        if not self._is_valid_operand(other):\n",
    "            return NotImplemented\n",
    "        return mean(self.grades) < mean(other.grades)\n",
    "\n",
    "    # определим str для человеко-читаемой репрезентации объекта\n",
    "    def __str__(self):\n",
    "        return self.name + \" \" + str(mean(self.grades))\n",
    "\n",
    "\n",
    "Melissa = Student(\"Melissa Andrew\", [4, 3, 4, 5, 4])\n",
    "Peter = Student(\"Peter Shining Jr.\", [3, 3, 4, 5, 3])\n",
    "Joe = Student(\"Just Joe\", [5, 5, 4, 5, 5])\n",
    "\n",
    "print([str(stud) for stud in sorted([Peter, Melissa, Joe], reverse=True)])"
   ]
  },
  {
   "attachments": {},
   "cell_type": "markdown",
   "metadata": {},
   "source": [
    "### Callable\n",
    "\n",
    "Для возможности вызова объекта в качестве функции необходимо реализовать метод \\_\\_call\\_\\_. Типы, поддерживающие возможность их вызова в качестве функции, могут принимать набор аргументов.\n"
   ]
  },
  {
   "cell_type": "code",
   "execution_count": 3,
   "metadata": {},
   "outputs": [
    {
     "name": "stdout",
     "output_type": "stream",
     "text": [
      "1\n",
      "2\n",
      "3\n"
     ]
    }
   ],
   "source": [
    "class Counter:\n",
    "    def __init__(self):\n",
    "        self.i = 0\n",
    "    def __call__(self):\n",
    "        self.i += 1\n",
    "        return self.i\n",
    " \n",
    "counter = Counter()\n",
    "\n",
    "print(counter())\n",
    "print(counter())\n",
    "print(counter())"
   ]
  },
  {
   "attachments": {},
   "cell_type": "markdown",
   "metadata": {},
   "source": [
    "@classmethod нельзя вызывать в качестве функции:"
   ]
  },
  {
   "cell_type": "code",
   "execution_count": 7,
   "metadata": {},
   "outputs": [
    {
     "name": "stdout",
     "output_type": "stream",
     "text": [
      "class_method is NOT callable\n",
      "static_method is callable\n",
      "instance_method is callable\n"
     ]
    }
   ],
   "source": [
    "class Check():\n",
    "    @classmethod \n",
    "    def class_method(cls):\n",
    "        pass \n",
    "\n",
    "    @staticmethod\n",
    "    def static_method():\n",
    "        pass\n",
    "\n",
    "    def instance_method(self):\n",
    "        pass \n",
    "\n",
    "for attr, val in vars(Check).items():\n",
    "    if not attr.startswith(\"__\"):\n",
    "        print (attr, f\"{'is' if callable(val) else 'is NOT'} callable\")"
   ]
  },
  {
   "cell_type": "markdown",
   "metadata": {},
   "source": [
    "### Контекстный менеджер\n",
    "\n",
    "Код, размещенный внутри оператора with выполняется с особенностью: как до, так и после срабатывают события входа в блок with и выхода из него. Объект, который определяет логику событий, называется контекстным менеджером.\n",
    "\n",
    "На уровне класса события определены методами \\_\\_enter\\_\\_ и \\_\\_exit\\_\\_:  \n",
    "\\_\\_enter\\_\\_ срабатывает в тот момент, когда ход исполнения программы переходит внутрь with. Метод может вернуть значение, оно будет доступно расположенному внутри блока with коду;  \n",
    "\\_\\_exit\\_\\_ срабатывает в момент выхода блока, в т.ч. и в случае исключения. В этом случае в метод будет передана тройка значений (exc_class, exc_instance, traceback).\n",
    "\n",
    "Самый распространённый контекстный менеджер — класс, порожденный функцией open. Он гарантирует, что файл будет закрыт даже в том случае, если внутри блока возникнет ошибка.\n",
    "\n",
    "Желательно побыстрее выходить из контекстного менеджера, освобождая контекст и ресурсы.\n",
    "\n",
    "```python\n",
    "with open('file.txt') as f:\n",
    "    data = f.read()\n",
    "\n",
    "process_data(data)\n",
    "```\n",
    "\n",
    "В примере выше мы вышли из блока with сразу же после прочтения файла. Обработка данных происходит в основном блоке программы.\n",
    "\n",
    ">__Чем контекстный менеджер отличается от блока try-finally?__\n",
    ">\n",
    ">В целом, эти две конструкции весьма близки. Официальная [документация](https://docs.python.org/3/reference/compound_stmts.html#the-with-statement) даже рекомендует использовать with для удобного обёртывания try-finally. Есть [мнение](https://stackoverflow.com/questions/26096435/is-python-with-statement-exactly-equivalent-to-a-try-except-finally-bloc), что контекстный менеджер позволяет более гибко обрабатывать ошибки.\n",
    "\n",
    "Контекстные менеджеры можно использовать для временной замены параметров, переменных окружения, транзакций БД.\n",
    "\n",
    "Напишем свой контекстный менеджер для подключения к БД SQLite:"
   ]
  },
  {
   "cell_type": "code",
   "execution_count": null,
   "metadata": {},
   "outputs": [],
   "source": [
    "import sqlite3\n",
    "\n",
    "\n",
    "class db_conn:\n",
    "\n",
    "    def __init__(self, db_name):\n",
    "        self.db_name = db_name\n",
    "\n",
    "    # Открываем подключение к БД\n",
    "    def __enter__(self):\n",
    "        self.conn = sqlite3.connect(self.db_name)\n",
    "        return self.conn\n",
    "\n",
    "    # Закрываем подключение к БД\n",
    "    def __exit__(self, exc_type, exc_value, exc_traceback):\n",
    "        self.conn.close()\n",
    "        if exc_value:\n",
    "            raise\n",
    "\n",
    "\n",
    "if __name__ == \"__main__\":\n",
    "    db = \"test_context_connect.db\"\n",
    "\n",
    "    with db_conn(db) as conn:\n",
    "        cursor = conn.cursor()"
   ]
  },
  {
   "cell_type": "markdown",
   "metadata": {},
   "source": [
    ">__Что такое контекстный менеджер?__\n",
    ">\n",
    ">Контекстный менеджер — механизм, обеспечивающий безопасное выполнение кода, связанного с управлением внешними ресурсами.\n",
    ">\n",
    ">Контекстный менеджер определяется методами \\_\\_enter\\_\\_ и \\_\\_exit\\_\\_. \\_\\_enter\\_\\_ срабатывает в момент перехода программы внутрь with. Метод может вернуть значение, оно будет доступно расположенному внутри блока with коду. \\_\\_exit\\_\\_ срабатывает в момент выхода из блока, в т.ч. и в случае исключения. В этом случае в метод будет передана тройка значений (имена аргументов на усмотрение разработчика) — exception_type (тип исключения), exception_instance (объект исключения), traceback (объект, содержащий информацию о последовательности вызовов, которые предшествовали исключению)."
   ]
  },
  {
   "cell_type": "markdown",
   "metadata": {},
   "source": [
    "### Контекстный менеджер на базе contextlib\n",
    "\n",
    "Перепишем наш контекстный менеджер для подключения к БД SQLite при помощи [contextlib](https://docs.python.org/3/library/contextlib.html):"
   ]
  },
  {
   "cell_type": "code",
   "execution_count": null,
   "metadata": {},
   "outputs": [],
   "source": [
    "import sqlite3\n",
    "from contextlib import contextmanager\n",
    "\n",
    "\n",
    "# Схема конструирования следующая: всё, что написано до оператора yield — вызывается в рамках функции __enter__, всё что после – в рамках __exit__.\n",
    "@contextmanager\n",
    "def db_conn(db_name):\n",
    "    # Открываем подключение к БД\n",
    "    conn = sqlite3.connect(db_name)\n",
    "\n",
    "    yield conn\n",
    "\n",
    "    # Закрываем подключение к БД\n",
    "    conn.close()\n",
    "\n",
    "\n",
    "if __name__ == \"__main__\":\n",
    "    db = \"test_contextlib_connect.db\"\n",
    "\n",
    "    with db_conn(db) as conn:\n",
    "        cursor = conn.cursor()"
   ]
  },
  {
   "attachments": {},
   "cell_type": "markdown",
   "metadata": {},
   "source": [
    "### Утиная типизация итерируемых объектов\n",
    "\n",
    "### Iterable\n",
    "\n",
    "[Iterable](https://docs.python.org/3/library/collections.abc.html#collections.abc.Iterable) — объект, который для предоставления возможности поочерёдного прохода по всем своим элементам должен реализовывать метод \\_\\_iter\\_\\_(), возвращающий итератор. У каждого объекта с методом \\_\\_iter\\_\\_() автоматически начинает работать метод \\_\\_contains\\_\\_()."
   ]
  },
  {
   "cell_type": "code",
   "execution_count": 15,
   "metadata": {},
   "outputs": [
    {
     "name": "stdout",
     "output_type": "stream",
     "text": [
      "[1, 2, 3, 4]\n",
      "True\n"
     ]
    }
   ],
   "source": [
    "class MyIterable:\n",
    "    def __init__(self, *args):\n",
    "        self.a = list(args)\n",
    "\n",
    "    def __iter__(self):\n",
    "        return iter(self.a)\n",
    "\n",
    "\n",
    "mi = MyIterable(1, 2, 3, 4)\n",
    "print([el for el in mi])\n",
    "print(1 in mi)  # __contains__()"
   ]
  },
  {
   "attachments": {},
   "cell_type": "markdown",
   "metadata": {},
   "source": [
    "### Collection\n",
    "\n",
    "[Collection](https://docs.python.org/3/library/collections.abc.html#collections.abc.Collection) — объект, предоставляющий возможность поочерёдного прохода по всем своим элементам и обладающий конечным размером.  \n",
    "В дополнение к iter() должен быть реализован метод len(), возвращающий размер коллекции."
   ]
  },
  {
   "cell_type": "code",
   "execution_count": 16,
   "metadata": {},
   "outputs": [
    {
     "name": "stdout",
     "output_type": "stream",
     "text": [
      "[1, 2, 3, 4]\n",
      "True\n",
      "4\n"
     ]
    }
   ],
   "source": [
    "class MyCollection:\n",
    "    def __init__(self, *args):\n",
    "        self.a = list(args)\n",
    "\n",
    "    def __iter__(self):\n",
    "        return iter(self.a)\n",
    "\n",
    "    def __len__(self):\n",
    "        return len(self.a)\n",
    "\n",
    "\n",
    "mc = MyCollection(1, 2, 3, 4)\n",
    "print([el for el in mc])\n",
    "print(1 in mc)\n",
    "print(len(mc))"
   ]
  },
  {
   "attachments": {},
   "cell_type": "markdown",
   "metadata": {},
   "source": [
    "### Sequence\n",
    "\n",
    "Требует методы len() and getitem(). getitem() должен отдавать элемент с требуемым индексом или вызывать исключение IndexError.  \n",
    "Автоматически будут порождены методы iter(), reversed() и contains()."
   ]
  },
  {
   "cell_type": "code",
   "execution_count": 8,
   "metadata": {},
   "outputs": [],
   "source": [
    "class MySequence:\n",
    "    def __init__(self, a):\n",
    "        self.a = a\n",
    "    def __len__(self):\n",
    "        return len(self.a)\n",
    "    def __getitem__(self, i):\n",
    "        return self.a[i]"
   ]
  },
  {
   "attachments": {},
   "cell_type": "markdown",
   "metadata": {},
   "source": [
    "### ABC Sequence\n",
    "\n",
    "Коллекция Sequence из [Abstract Base Classes for Containers](https://docs.python.org/3/library/collections.abc.html) предоставляет расширенный интерфейс по сравнению с обычной Sequence.  \n",
    "Всё так же требуя \\_\\_getitem\\_\\_ и \\_\\_len\\_\\_, предоставляет \\_\\_contains__, \\_\\_iter\\_\\_, \\_\\_reversed\\_\\_, index и count."
   ]
  },
  {
   "cell_type": "code",
   "execution_count": 9,
   "metadata": {},
   "outputs": [],
   "source": [
    "from collections import abc\n",
    "\n",
    "class MyAbcSequence(abc.Sequence):\n",
    "    def __init__(self, a):\n",
    "        self.a = a\n",
    "    def __len__(self):\n",
    "        return len(self.a)\n",
    "    def __getitem__(self, i):\n",
    "        return self.a[i]"
   ]
  },
  {
   "attachments": {},
   "cell_type": "markdown",
   "metadata": {},
   "source": [
    "### Таблица требуемых и доступных методов:\n",
    "\n",
    "```text\n",
    "+------------+------------+------------+------------+--------------+\n",
    "|            |  Iterable  | Collection |  Sequence  | ABC Sequence |\n",
    "+------------+------------+------------+------------+--------------+\n",
    "| iter()     |   нужен    |   нужен    |     +      |      +       |\n",
    "| contains() |     +      |     +      |     +      |      +       |\n",
    "| len()      |            |   нужен    |   нужен    |    нужен     |\n",
    "| getitem()  |            |            |   нужен    |    нужен     |\n",
    "| reversed() |            |            |     +      |      +       |\n",
    "| index()    |            |            |            |      +       |\n",
    "| count()    |            |            |            |      +       |\n",
    "+------------+------------+------------+------------+--------------+\n",
    "```"
   ]
  },
  {
   "attachments": {},
   "cell_type": "markdown",
   "metadata": {},
   "source": [
    "И вообще, потщательнее присмотритесь с collections.abc, там есть множество заготовок, которые помогут вам сэкономить немало времени. Например, если к упомянутым \\_\\_getitem\\_\\_ и \\_\\_len\\_\\_ добавить \\_\\_setitem\\_\\_, \\_\\_delitem\\_\\_ и insert, то в ответ вы получите коллекцию MutableSequence, которая, кроме возможностей Sequence, имеет еще методы append, reverse, extend, pop, remove и \\_\\_iadd\\_\\_."
   ]
  },
  {
   "attachments": {},
   "cell_type": "markdown",
   "metadata": {},
   "source": [
    "### Копирование объектов\n",
    "\n",
    "В Python оператор присваивания (=) не копирует объекты. Вместо этого он создает связь между существующим объектом и именем целевой переменной. [Вот тут](https://nedbatchelder.com/text/names1.html) есть хорошее объяснение происходящего."
   ]
  },
  {
   "cell_type": "code",
   "execution_count": 5,
   "metadata": {},
   "outputs": [
    {
     "name": "stdout",
     "output_type": "stream",
     "text": [
      "[1, 2, 3, 4]\n"
     ]
    }
   ],
   "source": [
    "nums = [1, 2, 3]\n",
    "other = nums\n",
    "nums.append(4)  # Изменятся и nums, и other\n",
    "\n",
    "print(other)"
   ]
  },
  {
   "cell_type": "markdown",
   "metadata": {},
   "source": [
    "Чтобы создать копии объекта в Python, необходимо использовать модуль copy. Существует два способа создания копий объекта.  \n",
    "\n",
    "Shallow Copy (поверхностная копия) – копирует сам объект, вложенные объекты не копируются, они доступны по тем же ссылкам.\n",
    "\n",
    "Deep Copy – рекурсивно копирует все вложенные объекты."
   ]
  },
  {
   "cell_type": "code",
   "execution_count": 17,
   "metadata": {},
   "outputs": [
    {
     "name": "stdout",
     "output_type": "stream",
     "text": [
      "['t', 'w', 'o'] ['t', 'w', 'o'] ['t', 'h', 'r', 'e', 'e'] ['f', 'o', 'u', 'r']\n",
      "1795295519472 1795295519472 1793149281968 1793149273808\n",
      "1795217224688 1795217321264\n"
     ]
    }
   ],
   "source": [
    "from copy import copy, deepcopy\n",
    "\n",
    "\n",
    "class A:\n",
    "    def __init__(self, val: list):\n",
    "        self.val = val\n",
    "\n",
    "    def change_val(self, val: list):\n",
    "        self.val = val\n",
    "\n",
    "\n",
    "a = A(list(\"one\"))\n",
    "\n",
    "# Просто копирование ссылки на объект\n",
    "b = a  # Assignment\n",
    "\n",
    "# Создание нового объекта и копирование ссылок на объекты, найденные в изначальном объекте\n",
    "c = copy(a)  # Shallow copy\n",
    "\n",
    "# Создание нового объекта с последующим рекурсивным копированием содержащихся внутри объектов\n",
    "d = deepcopy(a)  # Deep Copy\n",
    "\n",
    "b.change_val(list(\"two\"))\n",
    "c.change_val(list(\"three\"))\n",
    "d.change_val(list(\"four\"))\n",
    "\n",
    "print(a.val, b.val, c.val, d.val)\n",
    "print(id(a), id(b), id(c), id(d))\n",
    "print(id(a.val[1]), id(c.val[1]))"
   ]
  },
  {
   "cell_type": "markdown",
   "metadata": {},
   "source": [
    ">__Что такое поверхностная копия? Что такое глубокая копия?__  \n",
    ">\n",
    "> При поверхностном копировании вложенные объекты не копируются, копируются только ссылки на них. При использовании глубокого копирования рекурсивно копируются все вложенные объекты."
   ]
  },
  {
   "cell_type": "markdown",
   "metadata": {},
   "source": [
    "В Python 3.13 появилась возможность копировать и одновременно изменять копируемый объект при помощи copy.replace:"
   ]
  },
  {
   "cell_type": "code",
   "execution_count": 9,
   "metadata": {},
   "outputs": [
    {
     "name": "stdout",
     "output_type": "stream",
     "text": [
      "Original Point: Point(x=20, y=30)\n",
      "Modified Point: Point(x=25, y=30)\n"
     ]
    }
   ],
   "source": [
    "from collections import namedtuple\n",
    "\n",
    "Point = namedtuple('Point', ['x', 'y'])\n",
    "p1 = Point(20, 30)\n",
    "print(f\"Original Point: {p1}\")\n",
    "\n",
    "p2 = copy.replace(p1, x=25)\n",
    "print(f\"Modified Point: {p2}\")"
   ]
  },
  {
   "cell_type": "markdown",
   "metadata": {},
   "source": [
    "Такой же финт можно провернуть с dataclass:"
   ]
  },
  {
   "cell_type": "code",
   "execution_count": 14,
   "metadata": {},
   "outputs": [
    {
     "name": "stdout",
     "output_type": "stream",
     "text": [
      "Employee(name='Alice', deparment='HR')\n",
      "Employee(name='Bob', deparment='HR')\n"
     ]
    }
   ],
   "source": [
    "from dataclasses import dataclass\n",
    "\n",
    "@dataclass\n",
    "class Employee:\n",
    "  name: str \n",
    "  deparment: str\n",
    "\n",
    "user1 = Employee('Alice', 'HR')\n",
    "\n",
    "user2 = copy.replace(user1, name='Bob')\n",
    "\n",
    "print(user1)\n",
    "print(user2)"
   ]
  },
  {
   "attachments": {},
   "cell_type": "markdown",
   "metadata": {},
   "source": [
    "### Наследование"
   ]
  },
  {
   "cell_type": "code",
   "execution_count": 1,
   "metadata": {},
   "outputs": [],
   "source": [
    "class Person:\n",
    "    def __init__(self, name, age):\n",
    "        self.name = name\n",
    "        self.age = age\n",
    "\n",
    "\n",
    "class Employee(Person):\n",
    "    def __init__(self, name, age, staff_num, email):\n",
    "        super().__init__(name, age)\n",
    "        self.staff_num = staff_num\n",
    "        self.email = email"
   ]
  },
  {
   "attachments": {},
   "cell_type": "markdown",
   "metadata": {},
   "source": [
    "### Множественное наследование (MRO)\n",
    "\n",
    "При множественном наследовании порядок разрешения методов (method resolution order, MRO) позволяет Питону выяснить, из какого родительского класса нужно вызывать метод, если он не обнаружен непосредственно в классе-потомке."
   ]
  },
  {
   "cell_type": "code",
   "execution_count": 3,
   "metadata": {},
   "outputs": [
    {
     "name": "stdout",
     "output_type": "stream",
     "text": [
      "[<class '__main__.StaffData'>, <class '__main__.PrivateStaffData'>, <class '__main__.PublicStaffData'>, <class 'object'>]\n"
     ]
    }
   ],
   "source": [
    "class PrivateStaffData:\n",
    "    def __init__(self, private_email):\n",
    "        self.private_email = private_email\n",
    "\n",
    "\n",
    "class PublicStaffData:\n",
    "    def __init__(self, work_email):\n",
    "        self.work_email = work_email\n",
    "\n",
    "\n",
    "class StaffData(PrivateStaffData, PublicStaffData):\n",
    "    def __init__(self, private_email, work_email):\n",
    "        super().__init__()\n",
    "\n",
    "print(StaffData.mro())"
   ]
  },
  {
   "attachments": {},
   "cell_type": "markdown",
   "metadata": {},
   "source": [
    "MRO строит иерархию наследования таким образом, чтобы более специфичные методы класса-потомка перекрывали менее специфичные методы класса-предка. MRO строит упорядоченный список классов, в которых будет производиться поиск метода слева направо (линеаризация класса).\n",
    "\n",
    "Для решения проблемы ромбовидной структуры (которая неявно присутствует даже в простейшем случае, так как все классы наследуются от object) линеаризация должна быть монотонной. Монотонность — свойство, которое требует соблюдения в линеаризации класса-потомка того же порядка следования классов-прародителей, что и в линеаризации класса-родителя.  Линеаризация по сути является [топологической сортировкой](https://en.wikipedia.org/wiki/Topological_sorting). В ранних версиях Python использовался алгоритм DLR, сейчас в ходу [C3-линеаризация](https://en.wikipedia.org/wiki/C3_linearization).  \n",
    "\n",
    "Если после удовлетворения свойства монотонности остаётся больше одного варианта линеаризации, то применяется порядок локального старшинства (local precedence ordering), т. е. порядок соблюдения для классов-родителей в линеаризации класса-потомка того же порядка, что и при его объявлении. Например, если класс объявлен как D(A, B, C), то в линеаризации D класс A должен стоять раньше B, а класс B — раньше C.  \n",
    "\n",
    "Если разрешение всех конфликтов при линеаризации невозможно, то остается три пути:  \n",
    "1 — переменой мест классов-предков в объявлении класса-потомка (но это помогает далеко не всегда);  \n",
    "2 — пересмотр иерархии наследования;  \n",
    "3 — определение своей собственной линеаризации через метаклассы при помощи метода mro(cls). Но при данном подходе надо быть готовым к тому, что будет использован менее специфичный метод класса-родителя вместо более специфичного метода класса-потомка.  \n",
    "\n",
    "При задании своей собственной линеаризации Python отключает встроенные проверки.  "
   ]
  },
  {
   "cell_type": "markdown",
   "metadata": {},
   "source": [
    ">__Что такое MRO?__\n",
    ">\n",
    ">MRO (method resolution order, порядок разрешения методов) — механизм, позволяющий при множественном наследовании определить родительский класс. MRO строит упорядоченный список классов, в которых будет производиться поиск метода слева направо (производит линеаризацию класса)."
   ]
  },
  {
   "cell_type": "markdown",
   "metadata": {},
   "source": [
    "### Mixin\n",
    "\n",
    "Миксин — класс, предназначенный для добавления определенной функциональности к другим классам через наследование. Он не является самостоятельным классом, а служит скорее для сведения однотипного кода в одно место, позволяя избежать дублирования."
   ]
  },
  {
   "cell_type": "code",
   "execution_count": 17,
   "metadata": {},
   "outputs": [
    {
     "name": "stdout",
     "output_type": "stream",
     "text": [
      "{\"name\": \"Buddy\", \"species\": \"Dog\"}\n",
      "{'name': 'Buddy', 'species': 'Dog'}\n"
     ]
    }
   ],
   "source": [
    "import json\n",
    "\n",
    "# Миксин для преобразования объекта в JSON\n",
    "class JsonMixin:\n",
    "    def to_json(self):\n",
    "        return json.dumps(self.__dict__)\n",
    "\n",
    "# Миксин для преобразования объекта в текст\n",
    "class TextMixin:\n",
    "    def to_text(self):\n",
    "        return f\"{self.__dict__}\"\n",
    "\n",
    "# Класс Animal использует оба миксина\n",
    "class Animal(JsonMixin, TextMixin):\n",
    "    def __init__(self, name, species):\n",
    "        self.name = name\n",
    "        self.species = species\n",
    "\n",
    "# Создаем объект и используем методы миксинов\n",
    "dog = Animal(\"Buddy\", \"Dog\")\n",
    "print(dog.to_json())\n",
    "print(dog.to_text())"
   ]
  },
  {
   "cell_type": "markdown",
   "metadata": {},
   "source": [
    "### @abstractmethod\n",
    "\n",
    "Абстрактный класс в Python — аналог интерфейса в других языках (например, в C#) — класс, содержащий только сигнатуры методов, без реализации. Реализация методов переложена на классы-потомки. Задача абстрактного класса соответствует задаче интерфейса — *обязать* классы-потомки реализовывать *все* методы, заложенные в классе-родителе."
   ]
  },
  {
   "cell_type": "code",
   "execution_count": null,
   "metadata": {},
   "outputs": [
    {
     "name": "stdout",
     "output_type": "stream",
     "text": [
      "42\n"
     ]
    }
   ],
   "source": [
    "import abc\n",
    "\n",
    "\n",
    "class AbstractClass(metaclass=abc.ABCMeta):\n",
    "\n",
    "    @abc.abstractmethod\n",
    "    def return_anything(self):\n",
    "        return\n",
    "\n",
    "\n",
    "class ConcreteClass(AbstractClass):\n",
    "\n",
    "    def return_anything(self):\n",
    "        return 42\n",
    "\n",
    "\n",
    "c = ConcreteClass()\n",
    "print(c.return_anything())"
   ]
  },
  {
   "cell_type": "markdown",
   "metadata": {},
   "source": [
    "Если не специфицировать return_anything() в ConcreteClass, при попытке вызвать c.return_anything() будет выброшено исключение _TypeError: Can't instantiate abstract class ConcreteClass with abstract method return_anything._\n"
   ]
  },
  {
   "attachments": {},
   "cell_type": "markdown",
   "metadata": {},
   "source": [
    "### Наследование классов со \\_\\_slots\\_\\_\n",
    "\n",
    "При одиночном наследовании \\_\\_slots\\_\\_ нормально наследуется, но это не предотвращает создание \\_\\_dict\\_\\_:"
   ]
  },
  {
   "cell_type": "code",
   "execution_count": 16,
   "metadata": {},
   "outputs": [
    {
     "name": "stdout",
     "output_type": "stream",
     "text": [
      "('foo', 'bar')\n",
      "{'something_new': 'underwater stones'}\n"
     ]
    }
   ],
   "source": [
    "class SlotsClass:\n",
    "  __slots__ = 'foo', 'bar'\n",
    "\n",
    "  \n",
    "class ChildSlotsClass(SlotsClass):\n",
    "  ...\n",
    "\n",
    "\n",
    "obj = ChildSlotsClass()\n",
    "print(obj.__slots__)\n",
    "\n",
    "obj.something_new = \"underwater stones\"\n",
    "print(obj.__dict__)"
   ]
  },
  {
   "attachments": {},
   "cell_type": "markdown",
   "metadata": {},
   "source": [
    "Для ограничения дочернего класса слотами нужно в нём снова присвоить значение атрибуту \\_\\_slots\\_\\_, родительские поля дублировать не нужно."
   ]
  },
  {
   "cell_type": "code",
   "execution_count": 17,
   "metadata": {},
   "outputs": [],
   "source": [
    "class SlotsClass:\n",
    "  __slots__ = 'foo', 'bar'\n",
    "\n",
    "  \n",
    "class ChildSlotsClass(SlotsClass):\n",
    "  __slots__ = 'baz'\n",
    "\n",
    "\n",
    "obj = ChildSlotsClass()\n",
    "# obj.something_new = \"underwater stones\"  # Raises AttributeError: 'ChildSlotsClass' object has no attribute 'something_new'"
   ]
  },
  {
   "attachments": {},
   "cell_type": "markdown",
   "metadata": {},
   "source": [
    "Множественное же наследование классов с _непустыми_ \\_\\_slots\\_\\_ невозможно."
   ]
  },
  {
   "attachments": {},
   "cell_type": "markdown",
   "metadata": {},
   "source": [
    "### Метапрограммирование\n",
    "\n",
    "Что такое класс? Это, в принципе, просто кусок кода, описывающий, как создать объект. Но в Python класс — это нечто большее, классы также являются объектами; как только используется ключевое слово class, Python исполняет команду и создаёт объект:"
   ]
  },
  {
   "cell_type": "code",
   "execution_count": 10,
   "metadata": {},
   "outputs": [],
   "source": [
    "class A:\n",
    "    ..."
   ]
  },
  {
   "attachments": {},
   "cell_type": "markdown",
   "metadata": {},
   "source": [
    "В памяти будет создан объект с именем A.\n",
    "\n",
    "Классы, как и другие объекты, можно создавать на ходу:"
   ]
  },
  {
   "cell_type": "code",
   "execution_count": 11,
   "metadata": {},
   "outputs": [
    {
     "name": "stdout",
     "output_type": "stream",
     "text": [
      "<class '__main__.custom_class.<locals>.Foo'>\n",
      "<__main__.custom_class.<locals>.Foo object at 0x000001F0ECF97610>\n"
     ]
    }
   ],
   "source": [
    "def custom_class(name):\n",
    "    if name == \"foo\":\n",
    "        class Foo:\n",
    "            ...\n",
    "\n",
    "        return Foo  # Возвращает именно класс, а не экземпляр\n",
    "    else:\n",
    "        class Bar:\n",
    "            ...\n",
    "\n",
    "        return Bar\n",
    "\n",
    "\n",
    "MyClass = custom_class(\"foo\")\n",
    "print(MyClass)  # Функция возвращает класс, а не экземпляр\n",
    "print(my_class := MyClass())  # Можно создать экземпляр класса"
   ]
  },
  {
   "attachments": {},
   "cell_type": "markdown",
   "metadata": {},
   "source": [
    "Но это не очень удобно, так как нам до сих пор приходится писать весь код класса.\n",
    "\n",
    "Основная цель метаклассов — автоматически изменять класс в момент создания, генерируя классы в соответствии с текущим контекстом.  \n",
    "Сами по себе метаклассы достаточно просты и работают примерно следующим образом:  \n",
    "перехватывают создание класса,  \n",
    "изменяют класс,  \n",
    "возвращают модифицированный класс.\n",
    "\n",
    "Но обычно логику работы метаклассов насыщают вещами вроде [интроспекции](https://en.wikipedia.org/wiki/Type_introspection#Python) или манипуляцией наследованием, поэтому конечный код выглядит достаточно громоздко.\n",
    "\n",
    "Здесь неплохо было бы добавить еще пару страниц про ньюансы создания и работы метаклассов, но позвольте переадресовать вас на вот эту [прекрасную статью](https://habr.com/ru/post/145835/).\n",
    "\n",
    "При помощи метаклассов хорошо решаются задачи, например, генерации классов для ORM. Скажем, для\n",
    "```python\n",
    "class Person(models.Model):\n",
    "    name = models.CharField(max_length=30)\n",
    "    age = models.IntegerField()\n",
    "```\n",
    "код\n",
    "```python\n",
    "keanu = Person(name=\"Keanu Reeves\", age=58)\n",
    "print(keanu.age)\n",
    "```\n",
    "распечатает число, взятое из БД, потому что models.Model определяет \\_\\_metaclass\\_\\_, который сотворит некоторую магию и превратит класс Person, определённый достаточно простым выражением, в сложную привязку к базе данных.\n",
    "\n",
    ">__Что такое метаклассы?__\n",
    ">\n",
    ">Классы, как и прочие объекты, можно создавать во время исполнения программы. Основная цель метаклассов — автоматически изменять класс в момент создания, генерируя классы в соответствии с текущим контекстом. Сами по себе метаклассы достаточно просты и работают примерно следующим образом:  \n",
    ">перехватывают создание класса,  \n",
    ">изменяют класс,  \n",
    ">возвращают модифицированный класс.\n",
    "\n",
    "Если вы всё еще ломаете голову, где бы вам использовать метапрограммирование в своём текущем проекте, чтобы потом можно было упомянуть об этом в резюме, то вот вам на всякий случай цитата из [Тима Питерса](https://en.wikipedia.org/wiki/Tim_Peters_(software_engineer)): «\\[Metaclasses\\] are deeper magic than 99% of users should ever worry about. If you wonder whether you need them, you don’t (the people who actually need them know with certainty that they need them, and don’t need an explanation about why)»."
   ]
  }
 ],
 "metadata": {
  "kernelspec": {
   "display_name": "Python 3.10.0 64-bit",
   "language": "python",
   "name": "python3"
  },
  "language_info": {
   "codemirror_mode": {
    "name": "ipython",
    "version": 3
   },
   "file_extension": ".py",
   "mimetype": "text/x-python",
   "name": "python",
   "nbconvert_exporter": "python",
   "pygments_lexer": "ipython3",
   "version": "3.13.0"
  },
  "orig_nbformat": 4,
  "vscode": {
   "interpreter": {
    "hash": "26de051ba29f2982a8de78e945f0abaf191376122a1563185a90213a26c5da77"
   }
  }
 },
 "nbformat": 4,
 "nbformat_minor": 2
}
