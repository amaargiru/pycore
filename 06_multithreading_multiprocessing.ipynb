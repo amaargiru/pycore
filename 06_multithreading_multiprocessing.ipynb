{
 "cells": [
  {
   "attachments": {},
   "cell_type": "markdown",
   "metadata": {},
   "source": [
    "## 6. Многопоточность и многозадачность\n",
    "\n",
    "![Multithreading & Multiprocessing](https://raw.githubusercontent.com/amaargiru/pycore/main/pics/06_Multithreading_Multiprocessing.png)  "
   ]
  },
  {
   "cell_type": "markdown",
   "metadata": {},
   "source": [
    "\n",
    "### Многопоточность\n",
    "\n",
    "Процесс — приложение, которому выделена область памяти, недоступная другим приложениям.\n",
    "Поток — наименьшая сущность, которая может управляться напрямую операционной системой. У потоков нет своей памяти, они пользуются памятью\n",
    "создавшего их процесса. Потоки ассоциированы с создавшим их процессом. С каждым процессом всегда ассоциирован по меньшей мере один поток,\n",
    "обычно называемый *главным*.\n",
    "\n",
    "API модулей threading и multiprocessing похожи.\n",
    "\n",
    "Вкратце, GIL — ограничение, не позволяющее Python-процессу исполнять более одной команды байт-кода в каждый момент времени. GIL можно\n",
    "обойти при помощи многопроцессного подхода, т. к. у каждого процесса будет своя GIL.\n",
    "\n",
    "Многопоточность реализуется модулем Threading. Это нативные Posix-треды, такие треды исполняются операционной системой, а не виртуальной машиной.\n",
    "\n",
    "В чем отличие тредов от мультипроцессинга?\n",
    "\n",
    "Главное отличие в разделении памяти. Процессы независимы друг от друга, имеют раздельные адресные пространства, идентификаторы, ресурсы. Треды исполняются в совместном адресном пространстве, имеют общий доступ к памяти, переменным, загруженным модулям.\n",
    "\n",
    "Какие задачи хорошо параллелятся, какие плохо?\n",
    "\n",
    "Те задачи, которые порождают долгий IO. Когда тред упирается в ожидание сокета или диска, интерпретатор бросает этот тред и стартует следующий. Это значит, не будет простоя из-за ожидания. Наоборот, если ходить в сеть в одном треде (в цикле), то каждый раз придется ждать ответа.\n",
    "\n",
    "Однако, если затем в треде обрабатывает полученные данные, то выполняться будет только он один. Это не только не даст прироста в скорости, но и замедлит программу из-за переключения на другие треды.\n",
    "\n",
    "Короткий ответ: хорошо ложатся на треды задачи по работе с сетью. Например, выкачать данные со ста разных ссылок. Полученные данные обрабатывайте вне тредов.\n",
    "\n",
    "Нужно посчитать 100 уравнений. Делать это в тредах или нет?\n",
    "\n",
    "Нет, потому что в этой задаче нет ввода-вывода. Интерпретатор только будет тратить лишнее время на переключение тредов. Сложные математические задачи лучше выносить в отдельные процессы, либо использовать фреймворк для распределенных задач Celery, либо подключать как C-библиотеки.\n",
    "\n",
    "Понимание что такое heap dump и thread dump.\n",
    "\n",
    "Понимание многопоточности, способов ей управлять и проблем, с этим связанных (синхронизации, локи, race condition и т.д.);\n",
    "\n",
    "2. Многопоточность — вариант реализации вычислений, при котором для решения некоторой прикладной задачи запускаются и выполняются несколько независимых потоков вычислений, причём выполнение происходит одновременно или псевдоодновременно. В операционных системах, где термины \"поток\" и \"процесс\" различаются, под \"потоком\" понимают именно поток выполнения (ресурсами же владеет сущность, называемая \"процессом\"). Обычно применяется для распараллеливания вычислений на несколько вычислителей (процессоров и ядер процессора).\n",
    "\n",
    "3. Многопроцессность — вариант реализации вычислений, когда для решения некоторой прикладной задачи запускается несколько независимых процессов. В системах, где под процессом понимается сущность, владеющая ресурсами (памятью, открытыми файлами, сетевыми подключениями), несколько процессов запускаются с целью повышения отказоустойчивости приложения, а также с целью повышения безопасности. Т.к. ОС выполняет разделение памяти и прочих ресурсов именно между процессами (в то время как потоки работают в едином адресном пространстве), то а) внезапно упавший (читай — убитый ОС) процесс не уронит остальные; б) если в процессе начал выполняться чужеродный код (например, из-за RCE уязвимости), то он не получит доступ к содержимому памяти в других процессах. Многопроцессность сегодня можно увидеть в браузерах, когда отдельные вкладки выполняются в разных процессах, и упавшая вкладка (из-за js или из-за кривого плагина) тянет за собой не весь браузер, а только себя или еще пару вкладок."
   ]
  },
  {
   "cell_type": "code",
   "execution_count": null,
   "metadata": {},
   "outputs": [
    {
     "name": "stdout",
     "output_type": "stream",
     "text": [
      "Count time 3.81453800201416\n"
     ]
    }
   ],
   "source": [
    "# Однопоточное приложение\n",
    "import time\n",
    "\n",
    "COUNT = 100_000_000\n",
    "\n",
    "def countdown(n):\n",
    "    while n > 0:\n",
    "        n -= 1\n",
    "\n",
    "start = time.time()\n",
    "countdown(COUNT)    \n",
    "end = time.time()\n",
    "\n",
    "print(\"Count time\", end - start)"
   ]
  },
  {
   "cell_type": "code",
   "execution_count": null,
   "metadata": {},
   "outputs": [
    {
     "name": "stdout",
     "output_type": "stream",
     "text": [
      "Count time 3.8378489017486572\n"
     ]
    }
   ],
   "source": [
    "# Многопоточное приложение, время выполнения будет больше, чем у однопоточного, т. к. добавятся временные затраты на переключение потоков\n",
    "import time\n",
    "from threading import Thread\n",
    "\n",
    "COUNT = 100_000_000\n",
    "\n",
    "def countdown(n):\n",
    "    while n > 0:\n",
    "        n -= 1\n",
    "\n",
    "t1 = Thread(target=countdown, args=(COUNT//2,))\n",
    "t2 = Thread(target=countdown, args=(COUNT//2,))\n",
    "\n",
    "start = time.time()\n",
    "t1.start()\n",
    "t2.start()\n",
    "t1.join()\n",
    "t2.join()\n",
    "end = time.time()\n",
    "\n",
    "print(\"Count time\", end - start)"
   ]
  },
  {
   "cell_type": "code",
   "execution_count": null,
   "metadata": {},
   "outputs": [],
   "source": [
    "# Многопроцессорное приложение\n",
    "import time\n",
    "import multiprocessing as mp\n",
    "\n",
    "COUNT = 100_000_000\n",
    "\n",
    "\n",
    "def countdown(n):\n",
    "    while n > 0:\n",
    "        n -= 1\n",
    "\n",
    "if __name__ ==  '__main__':\n",
    "    pool = mp.Pool()\n",
    "    start = time.time()\n",
    "    pool.apply_async(countdown, args=(COUNT // 2,))\n",
    "    pool.apply_async(countdown, args=(COUNT // 2,))\n",
    "    pool.close()\n",
    "    pool.join()\n",
    "    end = time.time()\n",
    "    print(\"Count time\", end - start)"
   ]
  },
  {
   "cell_type": "markdown",
   "metadata": {},
   "source": [
    "Count time 2.0029137134552"
   ]
  },
  {
   "cell_type": "markdown",
   "metadata": {},
   "source": [
    "### Threading\n",
    "\n",
    "CPython interpreter can only run a single thread at a time. That is why using multiple threads won't result in a faster execution, unless at least one of the threads contains an I/O operation.\n",
    "\n",
    "```\n",
    "from threading import Thread, RLock, Semaphore, Event, Barrier\n",
    "from concurrent.futures import ThreadPoolExecutor\n",
    "```\n",
    "\n",
    "### Thread\n",
    "\n",
    "```\n",
    "<Thread> = Thread(target=<function>)           # Use `args=<collection>` to set the arguments.\n",
    "<Thread>.start()                               # Starts the thread.\n",
    "<bool> = <Thread>.is_alive()                   # Checks if the thread has finished executing.\n",
    "<Thread>.join()                                # Waits for the thread to finish.\n",
    "```\n",
    "\n",
    "Use `'kwargs=<dict>'` to pass keyword arguments to the function.\n",
    "Use `'daemon=True'`, or the program will not be able to exit while the thread is alive.**\n",
    "\n",
    "### Lock\n",
    "\n",
    "```\n",
    "<lock> = RLock()                               # Lock that can only be released by the owner.\n",
    "<lock>.acquire()                               # Waits for the lock to be available.\n",
    "<lock>.release()                               # Makes the lock available again.\n",
    "```\n",
    "\n",
    "#### Or:\n",
    "\n",
    "```\n",
    "with <lock>:                                   # Enters the block by calling acquire(),\n",
    "    ...                                        # and exits it with release().\n",
    "``` \n",
    "\n",
    "### Semaphore, Event, Barrier\n",
    "\n",
    "```\n",
    "<Semaphore> = Semaphore(value=1)               # Lock that can be acquired by 'value' threads.\n",
    "<Event>     = Event()                          # Method wait() blocks until set() is called.\n",
    "<Barrier>   = Barrier(n_times)                 # Wait() blocks until it's called n_times.\n",
    "```\n",
    "\n",
    "### Thread Pool Executor\n",
    "Object that manages thread execution.\n",
    "An object with the same interface called ProcessPoolExecutor provides true parallelism by running a separate interpreter in each process. All arguments must be [pickable](#pickle).\n",
    "\n",
    "```\n",
    "<Exec> = ThreadPoolExecutor(max_workers=None)  # Or: `with ThreadPoolExecutor() as <name>: …`\n",
    "<Exec>.shutdown(wait=True)                     # Blocks until all threads finish executing.\n",
    "```\n",
    "\n",
    "```\n",
    "<iter> = <Exec>.map(<func>, <args_1>, ...)     # A multithreaded and non-lazy map().\n",
    "<Futr> = <Exec>.submit(<func>, <arg_1>, ...)   # Starts a thread and returns its Future object.\n",
    "<bool> = <Futr>.done()                         # Checks if the thread has finished executing.\n",
    "<obj>  = <Futr>.result()                       # Waits for thread to finish and returns result.\n",
    "```"
   ]
  },
  {
   "cell_type": "markdown",
   "metadata": {},
   "source": [
    "### asyncio\n",
    "\n",
    "https://realpython.com/async-io-python/"
   ]
  },
  {
   "attachments": {},
   "cell_type": "markdown",
   "metadata": {},
   "source": [
    "Преимущество asyncio — *гранулярность*. Поток будет приостановлен не в момент, более или менее правильно намеченный ОС в соответствии со своими алгоритмами планирования, а в явно помеченной программистом точке.\n",
    "\n",
    "Сопрограмма asyncio — обычная функция Python, наделенная одной сверхспособностью: приостанавливаться, встретив операцию, для выполнения которой нужно существенное время. Для создания и приостановки сопрограммы нужно использовать ключевые слова async и await. async определяет сопрограмму, а await приостанавливает ее на время выполнения длительной операции.\n",
    "\n",
    "Важный момент — сопрограмма не выполняется при прямом вызове. Вместо этого возвращается объект сопрограммы, который будет выполнен позже. Чтобы выполнить сопрограмму, мы должны явно передать ее циклу событий.\n",
    "\n",
    "В JavaScript async / await сделаны жадными как Promise. При вызове async функции автоматически создается задача и отправляется в очередь на исполнение в event loop. await, в свою очередь, просто ждёт результат.\n",
    "\n",
    "В питоне асинхронщину задизайнили иначе — лениво.\n",
    "\n",
    "Вызов async функции возвращает объект — корутину, — которая ни чего не делает.\n",
    "\n",
    "asyncio.run() создаёт event loop, запускает (корневую) корутину и блокирует поток до получения результата.\n",
    "\n",
    "await запускает корутину изнутри другой корутины в текущем event loop и ждёт результат.\n",
    "\n",
    "Для запуска корутины без ожидания (как это делает Promise) используется asyncio.create_task(coro). Либо asyncio.gather(*aws), если надо запустить сразу несколько. Нужно только следить, чтобы ссылка на возвращаемое значение сохранялась до конца вычисления, иначе его пожрет GC и все оборвется на самом интересном месте (промис бы отработал до конца не смотря ни на что).\n",
    "\n",
    "В JS только один event loop, поэтому было вполне разумно закопать его внутрь promise / async / await как деталь реализации, упростив работу прикладному программисту. В питоне отзеркалили более ранний вариант корутин на генераторах, дали возможность использовать разные event loop и выставили все кишки наружу."
   ]
  },
  {
   "attachments": {},
   "cell_type": "markdown",
   "metadata": {},
   "source": [
    "Простейший пример, одновременный запуск двух функций, последовательное выполнение которых в \"синхронном\" мире заняло бы 2 секунды, но в \"асинхронном\" мире они выполняются приблизительно за 1 секунду."
   ]
  },
  {
   "attachments": {},
   "cell_type": "markdown",
   "metadata": {},
   "source": [
    "Без asyncio, просто две функции с имитацией некоторого полезного вычисления и последующего ожидания:"
   ]
  },
  {
   "cell_type": "code",
   "execution_count": 1,
   "metadata": {},
   "outputs": [
    {
     "name": "stdout",
     "output_type": "stream",
     "text": [
      "Sum: 499999500000\n",
      "Product: 620448401733239439360000\n",
      "Total duration: 2.047113300068304 seconds\n"
     ]
    }
   ],
   "source": [
    "import time\n",
    "from time import perf_counter\n",
    "\n",
    "def fun1():\n",
    "    sumi: int = 0\n",
    "\n",
    "    for i in range(1000_000):\n",
    "        sumi += i\n",
    "\n",
    "    time.sleep(1)\n",
    "\n",
    "    print(f'Sum: {sumi}')\n",
    "\n",
    "\n",
    "def fun2():\n",
    "    producti: int = 1\n",
    "\n",
    "    for i in range(1, 25):\n",
    "        producti = i * producti\n",
    "\n",
    "    time.sleep(1)\n",
    "\n",
    "    print(f'Product: {producti}')\n",
    "\n",
    "\n",
    "start_time = perf_counter()\n",
    "\n",
    "fun1()\n",
    "fun2()\n",
    "\n",
    "duration = perf_counter() - start_time\n",
    "print(f'Total duration: {duration} seconds')"
   ]
  },
  {
   "attachments": {},
   "cell_type": "markdown",
   "metadata": {},
   "source": [
    "С asyncio (синтаксис вызова amain() изменен в связи с некоторыми [особенностями](https://stackoverflow.com/questions/55409641/asyncio-run-cannot-be-called-from-a-running-event-loop-when-using-jupyter-no) использования asyncio в Jupiter Notebook):"
   ]
  },
  {
   "cell_type": "code",
   "execution_count": 1,
   "metadata": {},
   "outputs": [
    {
     "name": "stdout",
     "output_type": "stream",
     "text": [
      "Sum: 499999500000\n",
      "Product: 620448401733239439360000\n",
      "Total duration: 1.0424554999917746 seconds\n"
     ]
    }
   ],
   "source": [
    "import asyncio\n",
    "from time import perf_counter\n",
    "\n",
    "async def afun1():\n",
    "    sumi: int = 0\n",
    "\n",
    "    for i in range(1000_000):\n",
    "        sumi += i\n",
    "\n",
    "    await asyncio.sleep(1)\n",
    "\n",
    "    print(f'Sum: {sumi}')\n",
    "\n",
    "\n",
    "async def afun2():\n",
    "    producti: int = 1\n",
    "\n",
    "    for i in range(1, 25):\n",
    "        producti = i * producti\n",
    "\n",
    "    await asyncio.sleep(1)\n",
    "\n",
    "    print(f'Product: {producti}')\n",
    "\n",
    "\n",
    "async def amain():\n",
    "    task1 = asyncio.create_task(afun1())\n",
    "    task2 = asyncio.create_task(afun2())\n",
    "\n",
    "    await task1\n",
    "    await task2\n",
    "\n",
    "\n",
    "start_time = perf_counter()\n",
    "\n",
    "# asyncio.run(amain())\n",
    "await amain()\n",
    "\n",
    "duration = perf_counter() - start_time\n",
    "print(f'Total duration: {duration} seconds')"
   ]
  },
  {
   "attachments": {},
   "cell_type": "markdown",
   "metadata": {},
   "source": [
    "Пример запуска на исполнение двух асинхронных периодических задач:"
   ]
  },
  {
   "cell_type": "code",
   "execution_count": 2,
   "metadata": {},
   "outputs": [
    {
     "name": "stdout",
     "output_type": "stream",
     "text": [
      "Sum: 499999500000\n",
      "Product: 620448401733239439360000\n"
     ]
    }
   ],
   "source": [
    "import asyncio\n",
    "from datetime import datetime\n",
    "\n",
    "async def periodic_fun1(a, b):\n",
    "    while True:\n",
    "        await asyncio.sleep(1)\n",
    "        print(f'periodic_fun1 complete with result {a + b}')\n",
    "\n",
    "\n",
    "async def periodic_fun2(a, b):\n",
    "    while True:\n",
    "        await asyncio.sleep(0.5)\n",
    "        print(f'periodic_fun2 complete with result {a - b}')\n",
    "\n",
    "\n",
    "async def main():\n",
    "    start_time = datetime.now()\n",
    "\n",
    "    task1 = asyncio.create_task(periodic_fun1(3, 2))\n",
    "    task2 = asyncio.create_task(periodic_fun2(3, 2))\n",
    "\n",
    "    await asyncio.sleep(10)\n",
    "\n",
    "    task1.cancel()\n",
    "    task2.cancel()\n",
    "\n",
    "    duration_time = datetime.now() - start_time\n",
    "    print(f'Total duration time: {duration_time}')\n",
    "\n",
    "\n",
    "if __name__ == '__main__':\n",
    "    # asyncio.run(main())\n",
    "    await amain()  # https://stackoverflow.com/questions/55409641/asyncio-run-cannot-be-called-from-a-running-event-loop-when-using-jupyter-no"
   ]
  },
  {
   "attachments": {},
   "cell_type": "markdown",
   "metadata": {},
   "source": [
    "Пример накопления данных от двух асинхронных периодических задач в одной разделяемой структуре данных asyncio.Queue():"
   ]
  },
  {
   "cell_type": "code",
   "execution_count": 7,
   "metadata": {},
   "outputs": [
    {
     "name": "stdout",
     "output_type": "stream",
     "text": [
      "Small random produced 1\n",
      "Big random produced 929\n",
      "Small random produced 4\n",
      "Small random produced 3\n",
      "Big random produced 967\n",
      "Small random produced 8\n",
      "Small random produced 1\n",
      "Big random produced 622\n",
      "Small random produced 9\n",
      "Small random produced 7\n",
      "Big random produced 891\n",
      "Small random produced 5\n",
      "Small random produced 5\n",
      "Big random produced 820\n",
      "Small random produced 8\n",
      "Small random produced 5\n",
      "Big random produced 771\n",
      "Small random produced 5\n",
      "Small random produced 6\n",
      "Big random produced 289\n",
      "Small random produced 6\n",
      "Small random produced 8\n",
      "Big random produced 873\n",
      "Small random produced 8\n",
      "Small random produced 3\n",
      "Big random produced 127\n",
      "Small random produced 6\n",
      "Small random produced 3\n",
      "Total queue = [1, 929, 4, 3, 967, 8, 1, 622, 9, 7, 891, 5, 5, 820, 8, 5, 771, 5, 6, 289, 6, 8, 873, 8, 3, 127, 6, 3]\n",
      "Total duration time: 0:00:10.001941\n"
     ]
    }
   ],
   "source": [
    "import asyncio\n",
    "import random\n",
    "from datetime import datetime\n",
    "\n",
    "# Пример накопления данных от двух асинхронных периодических задач в одной разделяемой структуре данных asyncio.Queue().\n",
    "\n",
    "async def produce_small_random(queue):\n",
    "    while True:\n",
    "        await asyncio.sleep(0.5)\n",
    "        r: int = random.randint(1, 9)\n",
    "        print(f'Small random produced {r}')\n",
    "        await queue.put(r)\n",
    "\n",
    "\n",
    "async def produce_big_random(queue):\n",
    "    while True:\n",
    "        await asyncio.sleep(1)\n",
    "        r: int = random.randint(100, 999)\n",
    "        print(f'Big random produced {r}')\n",
    "        await queue.put(r)\n",
    "\n",
    "\n",
    "async def main():\n",
    "    q = asyncio.Queue()\n",
    "    start_time = datetime.now()\n",
    "\n",
    "    small_random_task = asyncio.create_task(produce_small_random(q))\n",
    "    big_random_task = asyncio.create_task(produce_big_random(q))\n",
    "\n",
    "    await asyncio.sleep(10)\n",
    "\n",
    "    small_random_task.cancel()\n",
    "    big_random_task.cancel()\n",
    "\n",
    "    # Dumping asyncio.queue into list\n",
    "    randl: list[int] = []\n",
    "    while q.qsize() > 0:\n",
    "        randl.append(await q.get())\n",
    "        q.task_done()\n",
    "\n",
    "    duration_time = datetime.now() - start_time\n",
    "\n",
    "    print(f'Total queue = {randl}')\n",
    "    print(f'Total duration time: {duration_time}')\n",
    "\n",
    "\n",
    "if __name__ == '__main__':\n",
    "    # asyncio.run(main())\n",
    "    await main()  # https://stackoverflow.com/questions/55409641/asyncio-run-cannot-be-called-from-a-running-event-loop-when-using-jupyter-no"
   ]
  }
 ],
 "metadata": {
  "kernelspec": {
   "display_name": "Python 3.10.0 64-bit",
   "language": "python",
   "name": "python3"
  },
  "language_info": {
   "codemirror_mode": {
    "name": "ipython",
    "version": 3
   },
   "file_extension": ".py",
   "mimetype": "text/x-python",
   "name": "python",
   "nbconvert_exporter": "python",
   "pygments_lexer": "ipython3",
   "version": "3.12.0"
  },
  "orig_nbformat": 4,
  "vscode": {
   "interpreter": {
    "hash": "26de051ba29f2982a8de78e945f0abaf191376122a1563185a90213a26c5da77"
   }
  }
 },
 "nbformat": 4,
 "nbformat_minor": 2
}
