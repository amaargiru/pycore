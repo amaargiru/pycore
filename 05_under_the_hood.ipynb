{
 "cells": [
  {
   "attachments": {},
   "cell_type": "markdown",
   "metadata": {},
   "source": [
    "## 5. Внутренности языка\n",
    "\n",
    "> «Python — это эксперимент по определению степени свободы программистов. Слишком много свободы, и никто не может читать чужой код; слишком мало — и выразительность находится под угрозой.»  \n",
    ">  \n",
    "> Гвидо Ван Россум.  \n",
    "\n",
    "![Language skeleton](https://raw.githubusercontent.com/amaargiru/pycore/main/pics/05_Language_Skeleton.png)  "
   ]
  },
  {
   "attachments": {},
   "cell_type": "markdown",
   "metadata": {},
   "source": [
    "## Сборщик мусора\n",
    "\n",
    "Стандартный интерпретатор Python (CPython) использует для сборки мусора два алгоритма: подсчет ссылок (reference counting, неотключаемый механизм) и garbage collector (стандартный модуль gc из Python, отключаемый). Алгоритм подсчета ссылок не умеет определять циклические ссылки.\n",
    "\n",
    "Циклические ссылки могут находиться только в “контейнерных” объектах, т.е. в объектах, которые могут хранить другие объекты, например в списках, словарях, классах и кортежах. GC не следит за простыми и неизменяемыми типами, за исключением кортежей. Некоторые кортежи и словари также исключаются из списка слежки при выполнении определенных условий. Со всеми остальными объектами гарантированно справляется алгоритм подсчета ссылок.\n",
    "\n",
    "В отличие от алгоритма подсчета ссылок, циклический GC не работает постоянно, а запускается периодически. GC разделяет все объекты на 3 поколения. Новые объекты попадают в первое поколение. Если новый объект выживает процесс сборки мусора, то он перемещается в следующее поколение. Чем выше поколение, тем реже оно сканируется. Так как новые объекты зачастую имеют очень маленький срок жизни (являются временными), то имеет смысл опрашивать их чаще, чем те, которые уже прошли через несколько этапов сборки мусора.  \n",
    "В каждом поколении есть специальный счетчик и порог срабатывания, при достижении которого начинается процесс сборки мусора. Как только в Python создается какой-либо контейнерный объект, он проверяет эти пороги. Если условия срабатывают, то начинается процесс сборки мусора.  \n",
    "Стандартные пороги срабатывания для поколений установлены на 700, 10 и 10 соответственно, но всегда можно изменить их с помощью функций gc.get_threshold и gc.set_threshold.\n",
    "\n",
    "Алгоритм поиска циклических ссылок: говоря кратко, GC проходит по всем объектам из выбранного поколения и временно удаляет все ссылки от каждого объекта. Все объекты, у которых после этого счетчик ссылок меньше двух, считаются недоступными и могут быть удалены.\n",
    "\n",
    "Ручной отлов циклических ссылок возможен благодаря наличию у GC отладочному флагу DEBUG_SAVEALL, с которым все недоступные объекты будут добавлены в список gc.garbage:\n",
    "```python\n",
    "gc.set_debug(gc.DEBUG_SAVEALL)\n",
    "```\n",
    "Список gc.garbage, в свою очередь, можно визуализировать с помощью objgraph (для этого нужно установить [Graphviz](https://www.graphviz.org/download/)):"
   ]
  },
  {
   "cell_type": "code",
   "execution_count": 2,
   "metadata": {},
   "outputs": [
    {
     "name": "stdout",
     "output_type": "stream",
     "text": [
      "Graph written to C:\\Users\\HOMEOW~1\\AppData\\Local\\Temp\\objgraph-zmelodkb.dot (8 nodes)\n",
      "Image generated as garbage-graph.png\n"
     ]
    }
   ],
   "source": [
    "import objgraph\n",
    "\n",
    "x = []\n",
    "y = [x, [x], dict(x=x), set({'a', 'b', 'c'})]\n",
    "objgraph.show_refs([y], filename='garbage-graph.png')"
   ]
  },
  {
   "cell_type": "markdown",
   "metadata": {},
   "source": [
    "<img src=\"garbage-graph.png\" style=\"height:350px\">"
   ]
  },
  {
   "cell_type": "markdown",
   "metadata": {},
   "source": [
    "В других интерпретаторах Python имеются другие механизмы сборки мусора. Например, в сборщике мусора интерпретатора PyPy (который называется Incminimark), можно полностью отключить GC при помощи команды gc.disable(), и использование памяти приложением будет расти бесконечно, пока вы не скомандуете gc.enable() или gc.collect().\n",
    "\n",
    "В PyPy также есть также команда \"собрать чуть-чуть мусора, постаравшись уложиться в одну миллисекунду\" - gc.collect_step(). Сборка мусора выполняется небольшими порциями, что снижает задержки в работе программы. Это особенно важно для приложений, работающих в реальном времени."
   ]
  },
  {
   "cell_type": "markdown",
   "metadata": {},
   "source": [
    "Если в процессе работы вы строите большую структуру данных, которая вам точно не нужна сразу после использования, то имеет смысл вызвать сборщик мусора в ручном режиме для уменьшения фрагментации памяти:\n",
    "\n",
    "```python\n",
    "import gc\n",
    "\n",
    "del my_big_object\n",
    "gc.collect()\n",
    "```\n",
    "\n",
    "На необходимость ручного вызова сборщика мусора есть разные точки зрения, но в целом такая процедура признаётся полезной ([обсуждение](https://stackoverflow.com/questions/1316767/how-can-i-explicitly-free-memory-in-python), смотрите оживлённые комментарии к первому ответу)."
   ]
  },
  {
   "cell_type": "markdown",
   "metadata": {},
   "source": [
    "### Перехват исключений\n",
    "\n",
    "Простой пример:"
   ]
  },
  {
   "cell_type": "code",
   "execution_count": null,
   "metadata": {},
   "outputs": [
    {
     "name": "stdout",
     "output_type": "stream",
     "text": [
      "Error: division by zero\n"
     ]
    }
   ],
   "source": [
    "a: float = 0\n",
    "b: float = 0\n",
    "\n",
    "try:\n",
    "    b: float = 1/a\n",
    "except ZeroDivisionError as e:\n",
    "    print(f\"Error: {e}\")"
   ]
  },
  {
   "attachments": {},
   "cell_type": "markdown",
   "metadata": {},
   "source": [
    "Более сложный пример.  \n",
    "Код в блоке _else_ исполняется только в случае отсутствия исключения.  \n",
    "Код в блоке _finally_ исполнится в любом случае, было ли вызвано исключение или нет."
   ]
  },
  {
   "cell_type": "code",
   "execution_count": 3,
   "metadata": {},
   "outputs": [
    {
     "name": "stdout",
     "output_type": "stream",
     "text": [
      "Error: division by zero\n",
      "This part is always called\n"
     ]
    }
   ],
   "source": [
    "import traceback\n",
    "\n",
    "a: float = 0\n",
    "b: float = 0\n",
    "\n",
    "try:\n",
    "    b: float = 1/a\n",
    "except ZeroDivisionError as e:\n",
    "    print(f\"Error: {e}\")\n",
    "except ArithmeticError as e:\n",
    "    print(f\"We have a bit more complicated problem: {e}\")\n",
    "except Exception as serious_problem:  # Catch all exceptions\n",
    "    print(f\"I don't really know what is going on: {traceback.print_exception(serious_problem)}\")\n",
    "else:\n",
    "    print(\"No errors!\")\n",
    "finally:\n",
    "    print(\"This part is always called\")"
   ]
  },
  {
   "attachments": {},
   "cell_type": "markdown",
   "metadata": {},
   "source": [
    "### Встроенные исключения\n",
    "\n",
    "Сокращенное иерархическое дерево встроенных исключений показано ниже:\n",
    "\n",
    "```text\n",
    "BaseException\n",
    " +-- SystemExit                   # Raised by the sys.exit() function\n",
    " +-- KeyboardInterrupt            # Raised when the user press the interrupt key (ctrl-c)\n",
    " +-- Exception                    # User-defined exceptions should be derived from this class\n",
    "      +-- ArithmeticError         # Base class for arithmetic errors\n",
    "      |    +-- ZeroDivisionError  # Dividing by zero\n",
    "      +-- AttributeError          # Attribute is missing\n",
    "      +-- EOFError                # Raised by input() when it hits end-of-file condition\n",
    "      +-- LookupError             # Raised when a look-up on a collection fails\n",
    "      |    +-- IndexError         # A sequence index is out of range\n",
    "      |    +-- KeyError           # A dictionary key or set element is missing\n",
    "      +-- NameError               # An object is missing\n",
    "      +-- OSError                 # Errors such as “file not found”\n",
    "      |    +-- FileNotFoundError  # File or directory is requested but doesn't exist\n",
    "      +-- RuntimeError            # Error that don't fall into other categories\n",
    "      |    +-- RecursionError     # Maximum recursion depth is exceeded\n",
    "      +-- StopIteration           # Raised by next() when run on an empty iterator\n",
    "      +-- TypeError               # An argument is of wrong type\n",
    "      +-- ValueError              # When an argument is of right type but inappropriate value\n",
    "           +-- UnicodeError       # Encoding/decoding strings to/from bytes fails\n",
    "```\n",
    "\n",
    "Полное дерево доступно [здесь](https://docs.python.org/3/library/exceptions.html#exception-hierarchy). Проблемы с тем или иным участком кода могу вызывать исключения разных типов, поэтому надо уметь ориентироваться в этом дереве."
   ]
  },
  {
   "cell_type": "markdown",
   "metadata": {},
   "source": [
    "### Вызов исключений"
   ]
  },
  {
   "cell_type": "code",
   "execution_count": 4,
   "metadata": {},
   "outputs": [
    {
     "name": "stdout",
     "output_type": "stream",
     "text": [
      "Second argument must be non-zero. We have ValueError, as a planned!\n"
     ]
    }
   ],
   "source": [
    "from decimal import *\n",
    "\n",
    "def div(a: Decimal, b: Decimal) -> Decimal:\n",
    "    if b == 0:\n",
    "        raise ValueError(\"Second argument must be non-zero\")\n",
    "    return a/b\n",
    "\n",
    "try:\n",
    "    c: Decimal = div(1, 0)\n",
    "except ValueError as ve:\n",
    "    print(f\"{ve}. We have ValueError, as a planned!\")\n",
    "    # raise # We can re-raise exception"
   ]
  },
  {
   "cell_type": "markdown",
   "metadata": {},
   "source": [
    "### Выход из программы при помощи вызова исключения SystemExit"
   ]
  },
  {
   "cell_type": "code",
   "execution_count": 1,
   "metadata": {},
   "outputs": [],
   "source": [
    "import sys\n",
    "\n",
    "# sys.exit()  # Exits with exit code 0 (success)\n",
    "# sys.exit(8)  # Exits with passed exit code"
   ]
  },
  {
   "cell_type": "markdown",
   "metadata": {},
   "source": [
    "### Исключения, определяемые пользователем"
   ]
  },
  {
   "cell_type": "code",
   "execution_count": 2,
   "metadata": {},
   "outputs": [
    {
     "ename": "MyException",
     "evalue": "My car is broken",
     "output_type": "error",
     "traceback": [
      "\u001b[1;31m---------------------------------------------------------------------------\u001b[0m",
      "\u001b[1;31mMyException\u001b[0m                               Traceback (most recent call last)",
      "\u001b[1;32mc:\\Works\\amaargiru\\pycore\\05_language_skeleton.ipynb Cell 18\u001b[0m in \u001b[0;36m<cell line: 4>\u001b[1;34m()\u001b[0m\n\u001b[0;32m      <a href='vscode-notebook-cell:/c%3A/Works/amaargiru/pycore/05_language_skeleton.ipynb#X23sZmlsZQ%3D%3D?line=0'>1</a>\u001b[0m \u001b[39mclass\u001b[39;00m \u001b[39mMyException\u001b[39;00m(\u001b[39mException\u001b[39;00m):\n\u001b[0;32m      <a href='vscode-notebook-cell:/c%3A/Works/amaargiru/pycore/05_language_skeleton.ipynb#X23sZmlsZQ%3D%3D?line=1'>2</a>\u001b[0m     \u001b[39mpass\u001b[39;00m\n\u001b[1;32m----> <a href='vscode-notebook-cell:/c%3A/Works/amaargiru/pycore/05_language_skeleton.ipynb#X23sZmlsZQ%3D%3D?line=3'>4</a>\u001b[0m \u001b[39mraise\u001b[39;00m MyException(\u001b[39m\"\u001b[39m\u001b[39mMy car is broken\u001b[39m\u001b[39m\"\u001b[39m)\n",
      "\u001b[1;31mMyException\u001b[0m: My car is broken"
     ]
    }
   ],
   "source": [
    "class MyException(Exception):\n",
    "    pass\n",
    "\n",
    "raise MyException(\"My car is broken\")"
   ]
  },
  {
   "attachments": {},
   "cell_type": "markdown",
   "metadata": {},
   "source": [
    "### Дополнение исключений\n",
    "\n",
    "Начиная с Python 3.11 отлавливаемые исключения можно обогащать дополнительной информацией ([PEP 678](https://peps.python.org/pep-0678/)):\n",
    "\n",
    "```python\n",
    "try:\n",
    "    raise TypeError('Bad type')\n",
    "except Exception as e:\n",
    "    e.add_note('We are powerless, we rely on a higher authority')\n",
    "    raise\n",
    "```"
   ]
  },
  {
   "cell_type": "markdown",
   "metadata": {},
   "source": [
    "## Структурированная обработка исключений при помощи @singledispatch\n",
    "\n",
    "functools.singledispatch может помочь нам и на этот раз, структурировав обработку исключений разных типов. Имейти в виду, что singledispatch выбирает первый подходящий тип в иерархии MRO; для сложных иерархий используйте functools.singledispatchmethod или проверяйте типы вручную."
   ]
  },
  {
   "cell_type": "code",
   "execution_count": 1,
   "metadata": {},
   "outputs": [
    {
     "name": "stdout",
     "output_type": "stream",
     "text": [
      "5.0\n",
      "ZeroDivisionError handled: division by zero\n",
      "inf\n",
      "TypeError handled: unsupported operand type(s) for /: 'str' and 'int'\n",
      "None\n"
     ]
    }
   ],
   "source": [
    "from functools import singledispatch\n",
    "\n",
    "# Базовый обработчик\n",
    "@singledispatch\n",
    "def handle_exception(e):\n",
    "    \"\"\"Обработчик по умолчанию.\"\"\"\n",
    "    print(f\"Unhandled exception: {e!r}\")\n",
    "    # Можно повторно вызвать исключение, если нужно:\n",
    "    # raise\n",
    "\n",
    "# Регистрация обработчиков для конкретных типов исключений\n",
    "@handle_exception.register(ValueError)\n",
    "def _(e):\n",
    "    print(f\"ValueError handled: {e}\")\n",
    "    # Логика для ValueError, например, возврат default значения\n",
    "    return 0\n",
    "\n",
    "@handle_exception.register(TypeError)\n",
    "def _(e):\n",
    "    print(f\"TypeError handled: {e}\")\n",
    "    # Логика для TypeError\n",
    "    return None\n",
    "\n",
    "@handle_exception.register(ZeroDivisionError)\n",
    "def _(e):\n",
    "    print(f\"ZeroDivisionError handled: {e}\")\n",
    "    # Возвращаем fallback-значение\n",
    "    return float('inf')\n",
    "\n",
    "# Пример использования\n",
    "def risky_operation(x, y):\n",
    "    try:\n",
    "        return x / y\n",
    "    except Exception as e:\n",
    "        return handle_exception(e)\n",
    "\n",
    "# Тестирование\n",
    "print(risky_operation(10, 2))   # 5.0\n",
    "print(risky_operation(10, 0))   # ZeroDivisionError handled → inf\n",
    "print(risky_operation(\"10\", 2)) # TypeError handled → None"
   ]
  },
  {
   "attachments": {},
   "cell_type": "markdown",
   "metadata": {},
   "source": [
    "Та или иная тактика использования исключений — довольно спорная тема, так как систематизация обработки ошибок сильно пересекается с темой общей архитектуры приложения. Поэтому кто-то предлагает использовать обёртки [Success/Failure](https://github.com/dry-python/returns), кто-то создаёт свои классы исключений, которые имеют расширенные функции логгирования и призваны облегчить отладку.\n",
    "\n",
    "Интересно, что создатели относительно нового языка программирования Go, имея перед глазами самые свежие спецификации языков, в том числе и C#, и Python, имеющих развитые методы работы с исключениями, сознательно отказались от структурной обработки исключений, возвращая код ошибки как один из результатов функции, так что породило многословность обработки обработки ошибок в Go и даже карикатуры, вроде этой:\n",
    "\n",
    "<img src=\"go-nil-button.jpg\" style=\"height:250px\">\n",
    "\n",
    "Одним словом, если философия обработки ошибок в Python кажется вам не совсем \"гладкой\", не переживайте — вы не одиноки.\n",
    "\n",
    "Лично я предпочитаю путь, который, можно назвать «классическим»:  \n",
    "много исключений на этапе отладки, которые помогают сделать отдельные функции более стабильными;  \n",
    "каждое ожидаемое исключение должно быть обработано как можно раньше;  \n",
    "на самый верх должны проникнуть только неожиданные исключения (которые, в результате, попадут или в отчет тестировщика или в баг-репорт пользователя и тоже будут купированы)."
   ]
  },
  {
   "cell_type": "markdown",
   "metadata": {},
   "source": [
    "### Одинарное (_) и двойное (__) подчеркивания. Name mangling.\n",
    "\n",
    "Python не использует спецификаторы доступа, такие как private, public, protected и т. д. Однако, в нем есть имитации поведения переменных путем использования одинарного или двойного подчеркивания в качестве префикса к именам переменных. По умолчанию переменные без подчеркивания являются общедоступными.\n",
    "\n",
    "Поле класса с одним лидирующим подчеркиванием говорит о том, что параметр используется только внутри класса. При этом он доступен для обращения извне.\n",
    "\n",
    "```python\n",
    "class Foo(object):\n",
    "    def __init__(self):\n",
    "        self._bar = 42\n",
    "\n",
    "Foo()._bar\n",
    "42\n",
    "```\n",
    "\n",
    "Современные IDE вроде PyCharm подсвечивают обращение к полю с подчеркиванием, но ошибки в процессе исполнения не будет.\n",
    "\n",
    "Поля с двойным подчеркиванием доступны внутри класса, но извне доступны только при обращении к полю вида _<ClassName>__<fieldName> (name mangling). Значение скрытого поля вне класса получить можно, но это смотрится уродливо.\n",
    "\n",
    "```python\n",
    "class Foo(object):\n",
    "    def __init__(self):\n",
    "        self.__bar = 42\n",
    "\n",
    "Foo().__bar\n",
    "  AttributeError: 'Foo' object has no attribute '__bar'\n",
    "\n",
    "Foo()._Foo__bar\n",
    "42\n",
    "```\n",
    "\n",
    "В целом, джентльменское соглашение Python-программистов подразумевает (простое именование для приватных переменных или использование одинарного подчеркивания для переменных, которые **очень** нежелательно вытаскивать за пределы класса) + использование методов для доступа к переменным\n",
    "```python\n",
    "class Stack(object):\n",
    "\n",
    "    def __init__(self):\n",
    "        self._storage = []\n",
    "\n",
    "    def push(self, value):\n",
    "        self._storage.append(value)\n",
    "```\n"
   ]
  },
  {
   "attachments": {},
   "cell_type": "markdown",
   "metadata": {},
   "source": [
    "### Интроспекция\n",
    "\n",
    "Анализ метаданных классов во время выполнения.\n",
    "\n",
    "### Переменные\n",
    "\n",
    "При вызове функции dir() без аргументов она возвращает список атрибутов (включая функции), доступных в локальной области видимости."
   ]
  },
  {
   "cell_type": "code",
   "execution_count": 1,
   "metadata": {},
   "outputs": [],
   "source": [
    "local_variables: list = dir()"
   ]
  },
  {
   "attachments": {},
   "cell_type": "markdown",
   "metadata": {},
   "source": [
    "locals() возвращает словарь текущей локальной таблицы символов (атрибут \\_\\_dict\\_\\_). locals() эквивалентна vars() без аргумента."
   ]
  },
  {
   "cell_type": "code",
   "execution_count": 2,
   "metadata": {},
   "outputs": [],
   "source": [
    "local_vars: dict = locals()"
   ]
  },
  {
   "attachments": {},
   "cell_type": "markdown",
   "metadata": {},
   "source": [
    "globals() возвращает словарь глобальной таблицы символов"
   ]
  },
  {
   "cell_type": "code",
   "execution_count": 3,
   "metadata": {},
   "outputs": [
    {
     "name": "stdout",
     "output_type": "stream",
     "text": [
      "['In', 'Out', '_', '__', '___', '__annotations__', '__builtin__', '__builtins__', '__doc__', '__loader__', '__name__', '__package__', '__spec__', '__vsc_ipynb_file__', '_dh', '_i', '_i1', '_ih', '_ii', '_iii', '_oh', 'exit', 'get_ipython', 'quit']\n",
      "{'__name__': '__main__', '__doc__': 'Automatically created module for IPython interactive environment', '__package__': None, '__loader__': None, '__spec__': None, '__builtin__': <module 'builtins' (built-in)>, '__builtins__': <module 'builtins' (built-in)>, '_ih': ['', 'local_variables: list = dir()', 'local_vars: dict = locals()', 'global_variables: dict = globals()\\n\\nprint(local_variables)\\nprint(local_vars)\\nprint(global_variables)'], '_oh': {}, '_dh': [WindowsPath('c:/Works/amaargiru/pycore')], 'In': ['', 'local_variables: list = dir()', 'local_vars: dict = locals()', 'global_variables: dict = globals()\\n\\nprint(local_variables)\\nprint(local_vars)\\nprint(global_variables)'], 'Out': {}, 'get_ipython': <bound method InteractiveShell.get_ipython of <ipykernel.zmqshell.ZMQInteractiveShell object at 0x000002B22DC22260>>, 'exit': <IPython.core.autocall.ZMQExitAutocall object at 0x000002B22DC22D10>, 'quit': <IPython.core.autocall.ZMQExitAutocall object at 0x000002B22DC22D10>, '_': '', '__': '', '___': '', '__vsc_ipynb_file__': 'c:\\\\Works\\\\amaargiru\\\\pycore\\\\05_language_skeleton.ipynb', '_i': 'local_vars: dict = locals()', '_ii': 'local_variables: list = dir()', '_iii': '', '_i1': 'local_variables: list = dir()', '__annotations__': {'local_variables': <class 'list'>, 'local_vars': <class 'dict'>, 'global_variables': <class 'dict'>}, 'local_variables': ['In', 'Out', '_', '__', '___', '__annotations__', '__builtin__', '__builtins__', '__doc__', '__loader__', '__name__', '__package__', '__spec__', '__vsc_ipynb_file__', '_dh', '_i', '_i1', '_ih', '_ii', '_iii', '_oh', 'exit', 'get_ipython', 'quit'], '_i2': 'local_vars: dict = locals()', 'local_vars': {...}, '_i3': 'global_variables: dict = globals()\\n\\nprint(local_variables)\\nprint(local_vars)\\nprint(global_variables)', 'global_variables': {...}}\n",
      "{'__name__': '__main__', '__doc__': 'Automatically created module for IPython interactive environment', '__package__': None, '__loader__': None, '__spec__': None, '__builtin__': <module 'builtins' (built-in)>, '__builtins__': <module 'builtins' (built-in)>, '_ih': ['', 'local_variables: list = dir()', 'local_vars: dict = locals()', 'global_variables: dict = globals()\\n\\nprint(local_variables)\\nprint(local_vars)\\nprint(global_variables)'], '_oh': {}, '_dh': [WindowsPath('c:/Works/amaargiru/pycore')], 'In': ['', 'local_variables: list = dir()', 'local_vars: dict = locals()', 'global_variables: dict = globals()\\n\\nprint(local_variables)\\nprint(local_vars)\\nprint(global_variables)'], 'Out': {}, 'get_ipython': <bound method InteractiveShell.get_ipython of <ipykernel.zmqshell.ZMQInteractiveShell object at 0x000002B22DC22260>>, 'exit': <IPython.core.autocall.ZMQExitAutocall object at 0x000002B22DC22D10>, 'quit': <IPython.core.autocall.ZMQExitAutocall object at 0x000002B22DC22D10>, '_': '', '__': '', '___': '', '__vsc_ipynb_file__': 'c:\\\\Works\\\\amaargiru\\\\pycore\\\\05_language_skeleton.ipynb', '_i': 'local_vars: dict = locals()', '_ii': 'local_variables: list = dir()', '_iii': '', '_i1': 'local_variables: list = dir()', '__annotations__': {'local_variables': <class 'list'>, 'local_vars': <class 'dict'>, 'global_variables': <class 'dict'>}, 'local_variables': ['In', 'Out', '_', '__', '___', '__annotations__', '__builtin__', '__builtins__', '__doc__', '__loader__', '__name__', '__package__', '__spec__', '__vsc_ipynb_file__', '_dh', '_i', '_i1', '_ih', '_ii', '_iii', '_oh', 'exit', 'get_ipython', 'quit'], '_i2': 'local_vars: dict = locals()', 'local_vars': {...}, '_i3': 'global_variables: dict = globals()\\n\\nprint(local_variables)\\nprint(local_vars)\\nprint(global_variables)', 'global_variables': {...}}\n"
     ]
    }
   ],
   "source": [
    "global_variables: dict = globals()\n",
    "\n",
    "print(local_variables)\n",
    "print(local_vars)\n",
    "print(global_variables)"
   ]
  },
  {
   "attachments": {},
   "cell_type": "markdown",
   "metadata": {},
   "source": [
    "Дабы не углубляться в дебри интроспекции особо глубоко (суть, думаю, вы уже уловили), давайте просто перечислим возможности, предоставляемые ею относительно атрибутов и параметров.\n",
    "\n",
    "Атрибуты\n",
    "```text\n",
    "l: list = dir(object)                      # Имена атрибутов объекта (включая методы)  \n",
    "d: dict = vars(object)                    # Возвращает object.__dict__.  \n",
    "value  = getattr(object, 'attr_name')  # Raises AttributeError if attribute is missing.  \n",
    "b: bool = hasattr(object, 'attr_name')  # Checks if getattr() raises an AttributeError.  \n",
    "setattr(object, 'attr_name', value)    # Only works on objects with '__dict__' attribute.  \n",
    "delattr(object, 'attr_name')           # Same. Also `del <object>.<attr_name>`.  \n",
    "```\n",
    "\n",
    "### Parameters\n",
    "\n",
    "<Sig>  = inspect.signature(<function>)     # Function's Signature object.  \n",
    "<dict> = <Sig>.parameters                  # Dict of Parameter objects.  \n",
    "<memb> = <Param>.kind                      # Member of ParameterKind enum.  \n",
    "<obj>  = <Param>.default                   # Default value or <Param>.empty.  \n",
    "<type> = <Param>.annotation                # Type or <Param>.empty.  "
   ]
  },
  {
   "cell_type": "markdown",
   "metadata": {},
   "source": [
    "### GIL\n",
    "\n",
    "Global Interpreter Lock — особенность интерпретатора, когда одновременно может исполняться только один тред, остальные треды в это время простаивают.  \n",
    "\n",
    "GIL позволяет безопасно согласовывать изменения данных. Без этого, например, если один тред удалит все элементы из списка, а второй начнет итерацию по нему, произойдет ошибка. Аналогично, сборщик мусора может начать некорректно подсчитывать ссылки. Проблему можно решить, установив блокировки на все разделяемые структуры данных, но это привнесло бы дополнительные сложности: оверхед по коду, потерю производительности, возможные deadlocks. GIL позволяет осуществлять простую интеграцию C-библиотек, которые зачастую тоже не потокобезопасны, а также обеспечивает быструю работу однопоточных скриптов.\n",
    "\n",
    "GIL работает так: на каждый тред выделяется некоторый квант времени. Он измеряется в машинных единицах “тиках” и по умолчанию равен 100. Как только на тред было потрачено 100 тиков, интерпретатор бросает этот тред и переключается на второй, тратит 100 тактов на него, затем третий, и так по кругу. Этот алгоритм гарантирует, что всем тредам будет выделено ресурсов поровну.\n",
    "\n",
    "Проблема в том, что из-за GIL далеко не все задачи могут быть решены в тредах. Напротив, их использование чаще всего снижает быстродействие программы. С использованием тредов требуется следить за доступом к общим ресурсам: словарям, файлам, соединением к БД.\n",
    "\n",
    "Как обойти ограничения, накладываемые GIL?  \n",
    "Вариант 1 — воспользоваться штатной возможностью отключения GIL в версиях Python >= 3.13.\n",
    "Вариант 2 — использовать альтернативные интерпретаторы Python, например PyPy.  \n",
    "Вариант 3 — уход от многопоточности в сторону мультипроцессности, используя модуль multiprocessing."
   ]
  },
  {
   "cell_type": "markdown",
   "metadata": {},
   "source": [
    ">__Что такое GIL? Что в нём полезного?__\n",
    ">\n",
    ">GIL означает Global Interpreter Lock (глобальная блокировка интерпретатора). Это мьютекс, используемый для ограничения доступа к объектам Python и помогающий эффективно синхронизировать потоки, избегая тупиковых ситуаций. GIL гарантирует, что только один из ваших потоков может выполняться в любой момент времени. Поток получает GIL, выполняет небольшую работу, а затем передает GIL следующему потоку. GIL помогает достичь многозадачности (а не параллельных вычислений).\n",
    ">\n",
    ">GIL замедляет работу, но упрощает разработку кода и интеграцию с C-библиотеками.\n",
    ">\n",
    ">В [Python 3.13](https://docs.python.org/3.13/whatsnew/3.13.html) был внедрен [PEP 703](https://peps.python.org/pep-0703/) и появился флаг --disable-gil, позволяющий отключать GIL."
   ]
  },
  {
   "attachments": {},
   "cell_type": "markdown",
   "metadata": {},
   "source": [
    "### *args, **kwargs, *\n",
    "\n",
    "Выражения *args и **kwargs объявляют в сигнатуре функции. Они означают, что внутри функции будут доступны переменные с именами args и kwargs (без звездочек).\n",
    "\n",
    "args – это кортеж, который накапливает _позиционные_ аргументы. kwargs – словарь _именованных_ аргументов, где ключ – имя параметра, значение – значение параметра. Вместо args и kwargs можно использовать другие имена (функция всё равно «поймёт», что от неё хотят, благодаря звездочке и двойной звездочке), но эта практика мало распространена.\n",
    "\n",
    "Если в функцию не передано никаких параметров, переменные будут соответственно равны пустому кортежу и пустому словарю, а не None.\n",
    "\n",
    "Оператор «звёздочка» применяется для распаковки элементов контейнера.\n",
    "\n",
    "Вот, например, так выглядит результат включения нераспакованного списка в другой список:"
   ]
  },
  {
   "cell_type": "code",
   "execution_count": 1,
   "metadata": {},
   "outputs": [
    {
     "name": "stdout",
     "output_type": "stream",
     "text": [
      "[[1, 2, 3], 4, 5, 6]\n"
     ]
    }
   ],
   "source": [
    "a = [1, 2, 3]\n",
    "b = [a, 4, 5, 6]\n",
    "print(b)"
   ]
  },
  {
   "cell_type": "markdown",
   "metadata": {},
   "source": [
    "А вот пример с операцией распаковки (обратите внимание на звёздочку во второй строке кода):"
   ]
  },
  {
   "cell_type": "code",
   "execution_count": 2,
   "metadata": {},
   "outputs": [
    {
     "name": "stdout",
     "output_type": "stream",
     "text": [
      "[1, 2, 3, 4, 5, 6]\n"
     ]
    }
   ],
   "source": [
    "a = [1, 2, 3]\n",
    "b = [*a, 4, 5, 6]\n",
    "print(b)"
   ]
  },
  {
   "cell_type": "markdown",
   "metadata": {},
   "source": [
    "### Arguments\n",
    "\n",
    "### Inside Function Call\n",
    " \n",
    "<function>(<positional_args>)                  # f(0, 0)  \n",
    "<function>(<keyword_args>)                     # f(x=0, y=0)  \n",
    "<function>(<positional_args>, <keyword_args>)  # f(0, y=0)  \n",
    "\n",
    "### Inside Function Definition\n",
    " \n",
    "def f(<nondefault_args>):                      # def f(x, y):  \n",
    "def f(<default_args>):                         # def f(x=0, y=0):  \n",
    "def f(<nondefault_args>, <default_args>):      # def f(x, y=0):  \n",
    " \n",
    "A function has its default values evaluated when it's first encountered in the scope.  \n",
    "Any changes to default values that are mutable will persist between invocations.\n",
    "\n",
    "### Splat Operator\n",
    "\n",
    "### Inside Function Call\n",
    "Splat expands a collection into positional arguments, while splatty-splat expands a dictionary into keyword arguments.\n",
    " \n",
    "args   = (1, 2)  \n",
    "kwargs = {'x': 3, 'y': 4, 'z': 5}  \n",
    "func(*args, **kwargs)  \n",
    "\n",
    "#### Is the same as:\n",
    " \n",
    "func(1, 2, x=3, y=4, z=5)\n",
    "\n",
    "### Inside Function Definition\n",
    "\n",
    "Splat combines zero or more positional arguments into a tuple, while splatty-splat combines zero or more keyword arguments into a dictionary.\n",
    " \n",
    "def add(*a):  \n",
    "    return sum(a)\n",
    "\n",
    ">>> add(1, 2, 3)  \n",
    "6\n",
    "\n",
    "#### Legal argument combinations:\n",
    " \n",
    "def f(*, x, y, z):          # f(x=1, y=2, z=3)  \n",
    "def f(x, *, y, z):          # f(x=1, y=2, z=3) | f(1, y=2, z=3)  \n",
    "def f(x, y, *, z):          # f(x=1, y=2, z=3) | f(1, y=2, z=3) | f(1, 2, z=3)\n",
    "\n",
    "def f(*args):               # f(1, 2, 3)  \n",
    "def f(x, *args):            # f(1, 2, 3)  \n",
    "def f(*args, z):            # f(1, 2, z=3)\n",
    "\n",
    "def f(**kwargs):            # f(x=1, y=2, z=3)  \n",
    "def f(x, **kwargs):         # f(x=1, y=2, z=3) | f(1, y=2, z=3)  \n",
    "def f(*, x, **kwargs):      # f(x=1, y=2, z=3)\n",
    "\n",
    "def f(*args, **kwargs):     # f(x=1, y=2, z=3) | f(1, y=2, z=3) | f(1, 2, z=3) | f(1, 2, 3)  \n",
    "def f(x, *args, **kwargs):  # f(x=1, y=2, z=3) | f(1, y=2, z=3) | f(1, 2, z=3) | f(1, 2, 3)  \n",
    "def f(*args, y, **kwargs):  # f(x=1, y=2, z=3) | f(1, y=2, z=3)\n",
    "\n",
    "### Other Uses\n",
    " \n",
    "<list>  = [*<collection> [, ...]]  \n",
    "<set>   = {*<collection> [, ...]}  \n",
    "<tuple> = (*<collection>, [...])  \n",
    "<dict>  = {**<dict> [, ...]}\n",
    " \n",
    "head, *body, tail = <collection>\n",
    "\n",
    "Как передаются значения аргументов в функцию или метод?  \n",
    "Как передаются аргументы функций в Python (by value or reference)?  "
   ]
  },
  {
   "cell_type": "markdown",
   "metadata": {},
   "source": [
    "### Лямбда-функция\n",
    "\n",
    "<func> = lambda: <return_value>  \n",
    "<func> = lambda <arg_1>, <arg_2>: <return_value>\n",
    "\n",
    "Лямбда-функцию полезны, когда нам ненадолго требуется несложная безымянная функция. Лямбды применимы там, где нужна функция (например на входе встроенной функции reduce() или filter()). Лямбда-функции не резервируют имени в пространстве имен.\n",
    "\n",
    "Лямбды в Питоне могут состоять только из одного выражения (что помогает избежать оператора return), но, заключив выражение в скобки, при желании можно оформить тело лямбды в несколько строк.\n",
    "\n",
    "Допустимы ли приведенные ниже выражения?"
   ]
  },
  {
   "cell_type": "code",
   "execution_count": 1,
   "metadata": {},
   "outputs": [
    {
     "ename": "SyntaxError",
     "evalue": "invalid syntax (877547350.py, line 1)",
     "output_type": "error",
     "traceback": [
      "\u001b[1;36m  Cell \u001b[1;32mIn[1], line 1\u001b[1;36m\u001b[0m\n\u001b[1;33m    nope = lambda: pass\u001b[0m\n\u001b[1;37m                   ^\u001b[0m\n\u001b[1;31mSyntaxError\u001b[0m\u001b[1;31m:\u001b[0m invalid syntax\n"
     ]
    }
   ],
   "source": [
    "nope = lambda: pass\n",
    "riser = lambda x: raise Exception(x)"
   ]
  },
  {
   "cell_type": "markdown",
   "metadata": {},
   "source": [
    "Нет, такой синтаксис недопустим, будет выброшено исключение SyntaxError. В теле лямбды может быть только выражение, а pass и raise являются операторами."
   ]
  },
  {
   "cell_type": "markdown",
   "metadata": {},
   "source": [
    ">__Что такое лямбда-функция?__\n",
    ">\n",
    ">Лямбда-функции применимы там, где ненадолго нужна несложная безымянная функция (например, на входе reduce() или filter())."
   ]
  },
  {
   "attachments": {},
   "cell_type": "markdown",
   "metadata": {},
   "source": [
    "### Operator\n",
    "\n",
    "Module of functions that provide the functionality of operators.\n",
    "\n",
    "```text\n",
    "import operator as op  \n",
    "<el>      = op.add/sub/mul/truediv/floordiv/mod(<el>, <el>)  # +, -, *, /, //, %  \n",
    "<int/set> = op.and_/or_/xor(<int/set>, <int/set>)            # &, |, ^  \n",
    "<bool>    = op.eq/ne/lt/le/gt/ge(<sortable>, <sortable>)     # ==, !=, <, <=, >, >=  \n",
    "<func>    = op.itemgetter/attrgetter/methodcaller(<obj>)     # [index/key], .name, .name()  \n",
    "\n",
    "elementwise_sum  = map(op.add, list_a, list_b)  \n",
    "sorted_by_second = sorted(<collection>, key=op.itemgetter(1))  \n",
    "sorted_by_both   = sorted(<collection>, key=op.itemgetter(1, 0))  \n",
    "product_of_elems = functools.reduce(op.mul, <collection>)  \n",
    "union_of_sets    = functools.reduce(op.or_, <coll_of_sets>)  \n",
    "first_element    = op.methodcaller('pop', 0)(<list>)  \n",
    " \n",
    "Binary operators require objects to have and(), or(), xor() and invert() special methods, unlike logical operators that work on all types of objects.  \n",
    "Also: `'<bool> = <bool> &|^ <bool>'` and `'<int> = <bool> &|^ <int>'`.\n",
    "```"
   ]
  }
 ],
 "metadata": {
  "kernelspec": {
   "display_name": "Python 3.10.0 64-bit",
   "language": "python",
   "name": "python3"
  },
  "language_info": {
   "codemirror_mode": {
    "name": "ipython",
    "version": 3
   },
   "file_extension": ".py",
   "mimetype": "text/x-python",
   "name": "python",
   "nbconvert_exporter": "python",
   "pygments_lexer": "ipython3",
   "version": "3.13.0"
  },
  "orig_nbformat": 4,
  "vscode": {
   "interpreter": {
    "hash": "26de051ba29f2982a8de78e945f0abaf191376122a1563185a90213a26c5da77"
   }
  }
 },
 "nbformat": 4,
 "nbformat_minor": 2
}
