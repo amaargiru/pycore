{
 "cells": [
  {
   "attachments": {},
   "cell_type": "markdown",
   "metadata": {},
   "source": [
    "## 7. Популярные библиотеки \n",
    "\n",
    "![Common practice](https://raw.githubusercontent.com/amaargiru/pycore/main/pics/07_Common_Practice.png)  "
   ]
  },
  {
   "cell_type": "markdown",
   "metadata": {},
   "source": [
    "### Логгирование"
   ]
  },
  {
   "cell_type": "code",
   "execution_count": 1,
   "metadata": {},
   "outputs": [
    {
     "name": "stdout",
     "output_type": "stream",
     "text": [
      "Thu, 15 Sep 2022 17:37:36.754  1628851721.py            :  44  \u001b[37mDEBUG    Debug message\u001b[0m\n",
      "Thu, 15 Sep 2022 17:37:36.755  1628851721.py            :  45  \u001b[32mINFO     Hello, world!\u001b[0m\n",
      "Thu, 15 Sep 2022 17:37:36.756  1628851721.py            :  46  \u001b[31mERROR    Error!\u001b[0m\n"
     ]
    }
   ],
   "source": [
    "import pathlib\n",
    "import sys\n",
    "import logging\n",
    "from logging.handlers import RotatingFileHandler\n",
    "from colorlog import ColoredFormatter\n",
    "\n",
    "class TestLogger:\n",
    "\n",
    "    @staticmethod\n",
    "    def get_logger(path_to_log_file: str, max_file_size: int, max_file_count: int) -> logging.Logger:\n",
    "        logger = logging.getLogger(\"sample_logger\")\n",
    "        logger.setLevel(logging.DEBUG)\n",
    "\n",
    "        # Форматирование при выводе в файл\n",
    "        flog_formatter = logging.Formatter(\"%(asctime)s.%(msecs)03d %(filename)-24s %(levelname)-8s  %(message)s\",\n",
    "                                           datefmt=\"%a, %d %b %Y %H:%M:%S\")\n",
    "        file_handler = RotatingFileHandler(filename=path_to_log_file, mode=\"a\", maxBytes=max_file_size,\n",
    "                                           backupCount=max_file_count, encoding=\"utf-8\", delay=False)\n",
    "        file_handler.setFormatter(flog_formatter)\n",
    "        logger.addHandler(file_handler)\n",
    "\n",
    "        # Форматирование при выводе в консоль\n",
    "        clog_formatter = ColoredFormatter(\"%(asctime)s.%(msecs)03d  %(filename)-24s :%(lineno)4d  \"\n",
    "                                          \"%(log_color)s%(levelname)-8s %(message)s%(reset)s\",\n",
    "                                          datefmt=\"%a, %d %b %Y %H:%M:%S\")\n",
    "        console_handler = logging.StreamHandler(sys.stdout)\n",
    "        console_handler.setFormatter(clog_formatter)\n",
    "        logger.addHandler(console_handler)\n",
    "\n",
    "        return logger\n",
    "\n",
    "log_file_max_size: int = 25 * 1024 ** 2  # Максимальный размер одного файла логов\n",
    "log_file_max_count: int = 10  # Максимальное количество файлов логов\n",
    "log_file_path: str = \"logs/sample_logger.log\"\n",
    "\n",
    "try:\n",
    "    path = pathlib.Path(log_file_path)  # Создаем путь к файлу логов, если он не существует\n",
    "    path.parent.mkdir(parents=True, exist_ok=True)\n",
    "    logger = TestLogger.get_logger(log_file_path, log_file_max_size, log_file_max_count)\n",
    "except Exception as err:\n",
    "    print(f\"Ошибка при попытке создания файла лога: {str(err)}\")\n",
    "    sys.exit()  # Аварийный выход\n",
    "\n",
    "logger.debug(\"Debug message\")\n",
    "logger.info(\"Hello, world!\")\n",
    "logger.error(\"Error!\")"
   ]
  },
  {
   "cell_type": "markdown",
   "metadata": {},
   "source": [
    "## Профилирование\n",
    "\n",
    "### Stopwatch"
   ]
  },
  {
   "cell_type": "code",
   "execution_count": null,
   "metadata": {},
   "outputs": [
    {
     "name": "stdout",
     "output_type": "stream",
     "text": [
      "2.2923033237457275 seconds\n"
     ]
    }
   ],
   "source": [
    "from time import time\n",
    "start_time = time()\n",
    "\n",
    "j: int = 0\n",
    "for i in range(10_000_000):  # Long operation\n",
    "    j = i ** 2\n",
    "\n",
    "duration = time() - start_time\n",
    "print(f\"{duration} seconds\")"
   ]
  },
  {
   "cell_type": "markdown",
   "metadata": {},
   "source": [
    "### High performance"
   ]
  },
  {
   "cell_type": "code",
   "execution_count": 3,
   "metadata": {},
   "outputs": [
    {
     "name": "stdout",
     "output_type": "stream",
     "text": [
      "2.2668115999549627 seconds\n"
     ]
    }
   ],
   "source": [
    "from time import perf_counter\n",
    "start_time = perf_counter()\n",
    "\n",
    "j: int = 0\n",
    "for i in range(10_000_000):  # Long operation\n",
    "    j = i ** 2\n",
    "\n",
    "duration = perf_counter() - start_time\n",
    "print(f\"{duration} seconds\")"
   ]
  },
  {
   "cell_type": "markdown",
   "metadata": {},
   "source": [
    "### timeit\n",
    "\n",
    "Try to avoid a number of common traps for measuring execution times"
   ]
  },
  {
   "cell_type": "code",
   "execution_count": 4,
   "metadata": {},
   "outputs": [
    {
     "data": {
      "text/plain": [
       "1.8498943001031876"
      ]
     },
     "execution_count": 4,
     "metadata": {},
     "output_type": "execute_result"
    }
   ],
   "source": [
    "from timeit import timeit\n",
    "\n",
    "def long_pow():\n",
    "    j: int = 0\n",
    "    for i in range(1_000_000):  # Long operation\n",
    "        j = i ** 2\n",
    "\n",
    "timeit(\"long_pow()\", number=10, globals=globals(), setup='pass')"
   ]
  },
  {
   "cell_type": "markdown",
   "metadata": {},
   "source": [
    "### Call Graph\n",
    "\n",
    "Создает PNG изображение графа вызовов с подсвеченными узкими местами"
   ]
  },
  {
   "cell_type": "code",
   "execution_count": null,
   "metadata": {},
   "outputs": [],
   "source": [
    "from pycallgraph3 import PyCallGraph\n",
    "from pycallgraph3.output import GraphvizOutput\n",
    "\n",
    "def long_pow():\n",
    "    j: int = 0\n",
    "    for i in range(1000_000):  # Long operation\n",
    "        j = i ** 2\n",
    "\n",
    "def short_pow():\n",
    "    j: int = 0\n",
    "    for i in range(1000):  # Short operation\n",
    "        j = i ** 2\n",
    "\n",
    "with PyCallGraph(output=GraphvizOutput()):\n",
    "    # Code to be profiled\n",
    "    long_pow()\n",
    "    short_pow()\n",
    "    # This will generate a file called pycallgraph3.png"
   ]
  },
  {
   "cell_type": "markdown",
   "metadata": {},
   "source": [
    "<img src=\"pycallgraph3.png\" style=\"height:400px\">"
   ]
  },
  {
   "cell_type": "markdown",
   "metadata": {},
   "source": [
    "## Random"
   ]
  },
  {
   "cell_type": "code",
   "execution_count": null,
   "metadata": {},
   "outputs": [
    {
     "name": "stdout",
     "output_type": "stream",
     "text": [
      "Single float random: 0.9024807633898538\n",
      "Single int random: 7\n",
      "Random bytes: b'>\\xe0^\\x16PX\\xf8E\\xf8\\x98'\n",
      "Random choice: Bob\n",
      "Random list without duplicates: [5, 10, 3, 6, 1]\n",
      "List before shuffle: [1, 2, 3, 4, 5, 6, 7, 8, 9, 10]\n",
      "List after shuffle: [10, 4, 6, 5, 1, 8, 3, 9, 7, 2]\n"
     ]
    }
   ],
   "source": [
    "import random\n",
    "\n",
    "rf: float = random.random()  # A float inside [0, 1)\n",
    "print(f\"Single float random: {rf}\")\n",
    "\n",
    "ri: int = random.randint(1, 10)  # An int inside [from, to]\n",
    "print(f\"Single int random: {ri}\")\n",
    "\n",
    "rb = random.randbytes(10)\n",
    "print(f\"Random bytes: {rb}\")\n",
    "\n",
    "rc: str = random.choice([\"Alice\", \"Bob\", \"Maggie\", \"Madhuri Dixit\"])\n",
    "print(f\"Random choice: {rc}\")\n",
    "\n",
    "rs: str = random.sample([1, 2, 3, 4, 5, 6, 7, 8, 9, 10], 5)\n",
    "print(f\"Random list without duplicates: {rs}\")\n",
    "\n",
    "a = [1, 2, 3, 4, 5, 6, 7, 8, 9, 10]\n",
    "print(f\"List before shuffle: {a}\")\n",
    "random.shuffle(a)\n",
    "print(f\"List after shuffle: {a}\")\n"
   ]
  },
  {
   "cell_type": "markdown",
   "metadata": {},
   "source": [
    "### Input\n",
    "\n",
    "Reads a line from user input or pipe if present.\n",
    "\n",
    "<str> = input(prompt=None)\n",
    " \n",
    "Trailing newline gets stripped.\n",
    "Prompt string is printed to the standard output before reading input.\n",
    "Raises EOFError when user hits EOF (ctrl-d/ctrl-z⏎) or input stream gets exhausted."
   ]
  },
  {
   "cell_type": "markdown",
   "metadata": {},
   "source": [
    "### Command Line Arguments\n",
    "```\n",
    "import sys\n",
    "scripts_path = sys.argv[0]\n",
    "arguments    = sys.argv[1:]\n",
    "```\n",
    "\n",
    "### Argument Parser\n",
    "```\n",
    "from argparse import ArgumentParser, FileType\n",
    "p = ArgumentParser(description=<str>)\n",
    "p.add_argument('-<short_name>', '--<name>', action='store_true')  # Flag.\n",
    "p.add_argument('-<short_name>', '--<name>', type=<type>)          # Option.\n",
    "p.add_argument('<name>', type=<type>, nargs=1)                    # First argument.\n",
    "p.add_argument('<name>', type=<type>, nargs='+')                  # Remaining arguments.\n",
    "p.add_argument('<name>', type=<type>, nargs='*')                  # Optional arguments.\n",
    "args  = p.parse_args()                                            # Exits on error.\n",
    "value = args.<name>\n",
    "```\n",
    "```\n",
    "Use `'help=<str>'` to set argument description.\n",
    "Use `'default=<el>'` to set the default value.\n",
    "Use `'type=FileType(<mode>)'` for files.\n",
    "```"
   ]
  },
  {
   "cell_type": "markdown",
   "metadata": {},
   "source": [
    "Print\n",
    "-----\n",
    "```\n",
    "print(<el_1>, ..., sep=' ', end='\\n', file=sys.stdout, flush=False)\n",
    " \n",
    "Use `'file=sys.stderr'` for messages about errors.\n",
    "Use `'flush=True'` to forcibly flush the stream.\n",
    "```"
   ]
  },
  {
   "cell_type": "markdown",
   "metadata": {},
   "source": [
    "### Pretty Print\n",
    "\n",
    "```\n",
    "from pprint import pprint\n",
    "pprint(<collection>, width=80, depth=None, compact=False, sort_dicts=True)\n",
    "```\n",
    " \n",
    "Levels deeper than 'depth' get replaced by '...'."
   ]
  },
  {
   "cell_type": "markdown",
   "metadata": {},
   "source": [
    "### Шифрование и дешифрование"
   ]
  },
  {
   "cell_type": "code",
   "execution_count": null,
   "metadata": {},
   "outputs": [
    {
     "name": "stdout",
     "output_type": "stream",
     "text": [
      "Original message: b'A am the Message'\n",
      "Encrypted message: b' E\\x92\\xbeH\\x87\\xdde\\t\\xd3\\x9ap\\x0cO\\xc3\\xf8\\x84\\xc7~\\x1c\\x90\\xcd\\x9a\\xd3\\x1bNd\\xccDt\\x1b\\xfcZ\\x91\\xb5\\xd78\\x85\\x91R\\x1e]3\\x9c\\xec\\xcbC\\xd8'\n",
      "Decrypted message: b'A am the Message'\n"
     ]
    }
   ],
   "source": [
    "# pip install pycryptodomex\n",
    "import hashlib\n",
    "\n",
    "from Cryptodome import Random\n",
    "from Cryptodome.Cipher import AES\n",
    "from Cryptodome.Util.Padding import pad\n",
    "from Cryptodome.Util.Padding import unpad\n",
    "\n",
    "def encrypt_data(password: str, raw_data: bytes) -> bytes:\n",
    "    res = bytes()\n",
    "    try:\n",
    "        key = hashlib.sha256(password.encode()).digest()\n",
    "        align_raw = pad(raw_data, AES.block_size)\n",
    "        iv = Random.new().read(AES.block_size)\n",
    "        cipher = AES.new(key, AES.MODE_CBC, iv)\n",
    "        ciphered_data = cipher.encrypt(align_raw)\n",
    "        res = iv + ciphered_data\n",
    "    except Exception as e:\n",
    "        print(f\"Encrypt error: {str(e)}\")\n",
    "    return res\n",
    "\n",
    "def decrypt_data(password: str, encrypted_data: bytes) -> bytes:\n",
    "    res = bytes()\n",
    "    try:\n",
    "        key = hashlib.sha256(password.encode()).digest()\n",
    "        iv = encrypted_data[:AES.block_size]\n",
    "        ciphered_data = encrypted_data[AES.block_size:]\n",
    "        cipher = AES.new(key, AES.MODE_CBC, iv)\n",
    "        decrypt_data = cipher.decrypt(ciphered_data)\n",
    "        res = unpad(decrypt_data, AES.block_size)\n",
    "    except Exception as e:\n",
    "        print(f\"Decrypt error: {str(e)}\")\n",
    "    return res\n",
    "\n",
    "def encrypt_file(src_file: str, dst_file: str, password: str) -> bool:\n",
    "    try:\n",
    "        with open(src_file, \"rb\") as reader, open(dst_file, \"wb\") as writer:\n",
    "            data = reader.read()\n",
    "            data_enc = encrypt_data(password, data)\n",
    "            writer.write(data_enc)\n",
    "            writer.flush()\n",
    "            print(f\"{src_file} encrypted into {dst_file}\")\n",
    "        return True\n",
    "    except Exception as e:\n",
    "        print(f\"Encrypt_file error: {str(e)}\")\n",
    "        return False\n",
    "\n",
    "def decrypt_file(src_file: str, dst_file: str, password: str) -> bool:\n",
    "    try:\n",
    "        with open(src_file, \"rb\") as reader, open(dst_file, \"wb\") as writer:\n",
    "            data = reader.read()\n",
    "            data_decrypt = decrypt_data(password, data)\n",
    "            writer.write(data_decrypt)\n",
    "            writer.flush()\n",
    "            print(f\"{src_file} decrypted into {dst_file}\")\n",
    "        return True\n",
    "    except Exception as e:\n",
    "        print(f\"Decrypt file error: {str(e)}\")\n",
    "        return False\n",
    "\n",
    "if __name__ == '__main__':\n",
    "    mes: bytes = bytes(\"A am the Message\", \"utf-8\")\n",
    "    passw: str = \"h3AC3TsU8TECvyCqd5Q5WUag5uXLjct2\"\n",
    "    print(f\"Original message: {mes}\")\n",
    "\n",
    "    # Encrypt message\n",
    "    enc: bytes = encrypt_data(passw, mes)\n",
    "    print(f\"Encrypted message: {enc}\")\n",
    "\n",
    "    # Decrypt message\n",
    "    dec: bytes = decrypt_data(passw, enc)\n",
    "    print(f\"Decrypted message: {dec}\")\n"
   ]
  },
  {
   "cell_type": "markdown",
   "metadata": {},
   "source": [
    "### Тестирование, pytest\n",
    "\n",
    "Для работы с pytest внутри Jupiter notebook воспользуемся инструментом [ipytest](https://github.com/chmp/ipytest)"
   ]
  },
  {
   "cell_type": "code",
   "execution_count": null,
   "metadata": {},
   "outputs": [],
   "source": [
    "# pip install -U ipytest\n",
    "import ipytest\n",
    "\n",
    "ipytest.autoconfig()"
   ]
  },
  {
   "cell_type": "code",
   "execution_count": null,
   "metadata": {},
   "outputs": [
    {
     "name": "stdout",
     "output_type": "stream",
     "text": [
      "\u001b[32m.\u001b[0m\u001b[32m                                                                                            [100%]\u001b[0m\n",
      "\u001b[32m\u001b[32m\u001b[1m1 passed\u001b[0m\u001b[32m in 0.01s\u001b[0m\u001b[0m\n"
     ]
    }
   ],
   "source": [
    "%%ipytest\n",
    "\n",
    "import ipytest\n",
    "\n",
    "def test_my_func():\n",
    "    assert my_func(0) == 0\n",
    "    assert my_func(1) == 0\n",
    "    assert my_func(2) == 2\n",
    "    assert my_func(3) == 2\n",
    "    \n",
    "    \n",
    "def my_func(x):\n",
    "    return x // 2 * 2 "
   ]
  },
  {
   "cell_type": "code",
   "execution_count": null,
   "metadata": {},
   "outputs": [
    {
     "name": "stdout",
     "output_type": "stream",
     "text": [
      "\u001b[32m.\u001b[0m\u001b[32m.\u001b[0m\u001b[32m.\u001b[0m\u001b[32m.\u001b[0m\u001b[32m.\u001b[0m\u001b[32m                                                                                        [100%]\u001b[0m\n",
      "\u001b[32m\u001b[32m\u001b[1m5 passed\u001b[0m\u001b[32m in 0.01s\u001b[0m\u001b[0m\n"
     ]
    }
   ],
   "source": [
    "%%ipytest\n",
    "\n",
    "import pytest\n",
    "\n",
    "@pytest.mark.parametrize('input,expected', [\n",
    "    (0, 0),\n",
    "    (1, 0),\n",
    "    (2, 2),\n",
    "    (3, 2),\n",
    "])\n",
    "def test_parametrized(input, expected):\n",
    "    assert my_func(input) == expected\n",
    "    \n",
    "@pytest.fixture\n",
    "def my_fixture():\n",
    "    return 42\n",
    "\n",
    "def test_fixture(my_fixture):\n",
    "    assert my_fixture == 42"
   ]
  },
  {
   "cell_type": "markdown",
   "metadata": {},
   "source": [
    "\n",
    "\n",
    "## Моки, стабы\n",
    "\n",
    "Тестовый двойник — термин, описывающий все виды фальшивых (fake) зависимостей, непригодных к использованию в конечном продукте (non-production-ready). Такая зависимость выглядит и ведет себя как ее аналог, предназначенный для production, но на самом деле является упрощенной версией, которая снижает сложность и облегчает тестирование. Зависимости бывают пяти типов, но для простоты можно ограничиться двумя: моки (mock) и стабы (stub).  \n",
    "Моки помогают имитировать и изучать исходящие (outcoming) взаимодействия. То есть вызовы, совершаемые тестируемой системой (SUT) к ее зависимостям для изменения их состояния.  \n",
    "Стабы помогают имитировать входящие (incoming) взаимодействия. То есть вызовы, совершаемые SUT к ее зависимостям для получения входных данных.  \n",
    "\n",
    "Понятие моков и стабов связано с принципом command-query separation (CQS). Принцип CQS гласит, что каждый метод должен быть либо командой, либо запросом, но не обоими.  \n",
    "Команды — это методы, которые вызывают побочные эффекты и не возвращают никакого значения. Примеры побочных эффектов включают изменение состояния объекта, изменение файла в файловой системе и т. д.  \n",
    "Запросы, наоборот, не имеют побочных эффектов и возвращают значение.  \n",
    "Другими словами, задавая вопрос, вы не должны менять ответ. Код, который поддерживает такое четкое разделение, становится легче для чтения. Тестовые двойники, заменяющие команды, становятся моками, и, соответственно, тестовые двойники, заменяющие запросы, становятся стабами.\n",
    "\n",
    "## Не нужно проверять взаимодействия со стабами\n",
    "\n",
    "Как уже упоминалось, стабы помогают только эмулировать входящие взаимодействия, а не изучать их. Из этого следует, что вы никогда не должны проверять взаимодействие со стабами. Вызов от SUT к стабу не является частью конечного результата, который выдает SUT. Такой вызов — это всего лишь средство для получения конечного результата; это деталь реализации. Проверка взаимодействий со стабами является распространенным анти-паттерном, который приводит к хрупким тестам. Единственный способ избежать хрупкости тестов — это заставить эти тесты проверять конечный результат (который в идеале должен иметь значение для специалиста в предметной области, а не для программиста), а не детали реализации.  \n",
    "\n",
    "## Самодостаточность тестов\n",
    "\n",
    "К тестам нужно относиться как к функциональному программированию: при отправке одних и тех же аргументов, мы должны получать ровно тот же результат. Тесты должны быть самодостаточны, нельзя обуславливать вызов некоторого теста предварительным вызовом какого-то другого теста."
   ]
  }
 ],
 "metadata": {
  "kernelspec": {
   "display_name": "Python 3.10.0 64-bit",
   "language": "python",
   "name": "python3"
  },
  "language_info": {
   "codemirror_mode": {
    "name": "ipython",
    "version": 3
   },
   "file_extension": ".py",
   "mimetype": "text/x-python",
   "name": "python",
   "nbconvert_exporter": "python",
   "pygments_lexer": "ipython3",
   "version": "3.10.9"
  },
  "orig_nbformat": 4,
  "vscode": {
   "interpreter": {
    "hash": "26de051ba29f2982a8de78e945f0abaf191376122a1563185a90213a26c5da77"
   }
  }
 },
 "nbformat": 4,
 "nbformat_minor": 2
}
